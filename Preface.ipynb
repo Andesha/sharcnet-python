{
 "cells": [
  {
   "cell_type": "markdown",
   "metadata": {
    "comet_cell_id": "5ab8d69625c3",
    "slideshow": {
     "slide_type": "slide"
    }
   },
   "source": [
    "# WELCOME to Fundamentals of Python programming!!\n",
    "Welcome to the first module of Python Programming of the SHARCNET Summer School!! \n",
    "\n",
    "Here we will introduce you to one of the most popular scripting/programming languages to date: Python\n",
    "\n",
    "Instructors: Sergio and Tyler"
   ]
  },
  {
   "cell_type": "markdown",
   "metadata": {
    "comet_cell_id": "237850239714a",
    "slideshow": {
     "slide_type": "slide"
    }
   },
   "source": [
    "## Preliminaries\n",
    "During the presentations we will be using Jupyter notebooks. This means that:"
   ]
  },
  {
   "cell_type": "code",
   "execution_count": null,
   "metadata": {
    "comet_cell_id": "3d1b1d174e9e9",
    "slideshow": {
     "slide_type": "fragment"
    }
   },
   "outputs": [],
   "source": [
    "! echo \"When you see the exclamation point means that this is executed in the terminal\""
   ]
  },
  {
   "cell_type": "code",
   "execution_count": null,
   "metadata": {
    "comet_cell_id": "f7bef51e6b9c",
    "slideshow": {
     "slide_type": "fragment"
    }
   },
   "outputs": [],
   "source": [
    "print(\"Otherwise we are in python!!\")"
   ]
  },
  {
   "cell_type": "markdown",
   "metadata": {
    "comet_cell_id": "f9441e9a3024a",
    "slideshow": {
     "slide_type": "slide"
    }
   },
   "source": [
    "## Getting started\n",
    "\n",
    "All modules of this workshop will be very interactive, and you are expected to follow the instructor both in the python console and on the terminal. We recommend you `ssh` with your guest account to our cluster. Let's assume your guest login is guest000:\n",
    "```bash\n",
    "ssh guest000@graham.computecanada.ca\n",
    "```"
   ]
  },
  {
   "cell_type": "markdown",
   "metadata": {
    "comet_cell_id": "9b02b8fc201ee",
    "slideshow": {
     "slide_type": "subslide"
    }
   },
   "source": [
    "Then, create a folder called `Python_fundamentals` by:\n",
    "```bash\n",
    "mkdir Python_fundamentals\n",
    "cd Python_fundamentals\n",
    "```"
   ]
  },
  {
   "cell_type": "markdown",
   "metadata": {
    "comet_cell_id": "91a170bceb553",
    "slideshow": {
     "slide_type": "subslide"
    }
   },
   "source": [
    "We also recommend you open a second terminal, connect to our cluster and go to the same directory. This second terminal will be used for the python interpreter. So once you are connected:\n",
    "```bash\n",
    "cd Python_fundamentals\n",
    "module load python/3.6\n",
    "python\n",
    "```"
   ]
  },
  {
   "cell_type": "markdown",
   "metadata": {
    "comet_cell_id": "ea3aec16c6622",
    "slideshow": {
     "slide_type": "subslide"
    }
   },
   "source": [
    "Your second terminal should look something like this:\n",
    "```bash\n",
    "Python 3.6.3 (default, Dec  4 2017, 16:33:31) \n",
    "[GCC 5.4.0] on linux\n",
    "Type \"help\", \"copyright\", \"credits\" or \"license\" for more information.\n",
    ">>> \n",
    "```"
   ]
  },
  {
   "cell_type": "markdown",
   "metadata": {
    "comet_cell_id": "a15de8c23ad52",
    "slideshow": {
     "slide_type": "subslide"
    }
   },
   "source": [
    "In this second terminal you should keep the python code. To check for files created, and modified, you can use the first terminal. \n",
    "\n",
    "** Let's break into rooms and make sure your settings are correct!!! **"
   ]
  },
  {
   "cell_type": "code",
   "execution_count": null,
   "metadata": {
    "comet_cell_id": "cf8cb98fa1b88"
   },
   "outputs": [],
   "source": []
  }
 ],
 "metadata": {
  "celltoolbar": "Slideshow",
  "comet_paths": [],
  "comet_tracking": true,
  "kernelspec": {
   "display_name": "Python 3",
   "language": "python",
   "name": "python3"
  },
  "language_info": {
   "codemirror_mode": {
    "name": "ipython",
    "version": 3
   },
   "file_extension": ".py",
   "mimetype": "text/x-python",
   "name": "python",
   "nbconvert_exporter": "python",
   "pygments_lexer": "ipython3",
   "version": "3.7.5"
  }
 },
 "nbformat": 4,
 "nbformat_minor": 2
}
