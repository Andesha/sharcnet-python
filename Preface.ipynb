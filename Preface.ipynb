{
 "cells": [
  {
   "cell_type": "markdown",
   "metadata": {
    "comet_cell_id": "5ab8d69625c3",
    "slideshow": {
     "slide_type": "slide"
    }
   },
   "source": [
    "## Welcome to Fundamentals of Python Programming!\n",
    "Welcome to the first module of Python Programming of the SHARCNET Summer School! \n",
    "\n",
    "Your instructors:\n",
    "* Jose **Sergio** Hleap: jshleap@sharcnet.ca\n",
    "* **Tyler** K. Collins: tk11br@sharcnet.ca"
   ]
  },
  {
   "cell_type": "markdown",
   "metadata": {
    "comet_cell_id": "237850239714a",
    "slideshow": {
     "slide_type": "slide"
    }
   },
   "source": [
    "## Zoom\n",
    "Standard Zoom etiquette applies!\n",
    "\n",
    "Please:\n",
    "* Be inclusive at all times\n",
    "* Keep yourself muted during the main lecture content"
   ]
  },
  {
   "cell_type": "markdown",
   "metadata": {
    "slideshow": {
     "slide_type": "subslide"
    }
   },
   "source": [
    "* Keep your video disabled during the main lecture content\n",
    "* Take advantage of the chat feature, as it will be monitored by staff throughout the course!\n",
    "\n",
    "Feel free to enable your microphone and video during breakout content!"
   ]
  },
  {
   "cell_type": "markdown",
   "metadata": {
    "slideshow": {
     "slide_type": "subslide"
    }
   },
   "source": [
    "We will be using the *ZOOM* non-verbal feedback buttons (yes, no, go slower, go faster, etc..) to ask you questions during the lecture. First you have to click on participants:"
   ]
  },
  {
   "cell_type": "markdown",
   "metadata": {
    "slideshow": {
     "slide_type": "subslide"
    }
   },
   "source": [
    "<center>\n",
    "<img src=\"https://www.sharcnet.ca/~tyson/images/zoom-menu.png\"  width=\"900\" height=\"800\" align=\"center\"/>\n",
    "</center>"
   ]
  },
  {
   "cell_type": "markdown",
   "metadata": {
    "slideshow": {
     "slide_type": "subslide"
    }
   },
   "source": [
    "And on the participants window, you can see the reaction button (yes, no, etc):"
   ]
  },
  {
   "cell_type": "markdown",
   "metadata": {
    "slideshow": {
     "slide_type": "subslide"
    }
   },
   "source": [
    "<center>\n",
    "<img src=\"https://www.sharcnet.ca/~tyson/images/zoom-windows.png\"  width=\"900\" height=\"800\" align=\"center\"/>\n",
    "</center>"
   ]
  },
  {
   "cell_type": "markdown",
   "metadata": {
    "comet_cell_id": "237850239714a",
    "slideshow": {
     "slide_type": "slide"
    }
   },
   "source": [
    "## Preliminaries\n",
    "This course is not only an introduction to Python, but programming as well.\n",
    "\n",
    "Please be patient as the difficulty and content ramps up!\n",
    "\n",
    "Additionally, we will be assuming that all students have attended one of the \"Getting Started\" sections early last week and have access to a guest account and are able to ssh in to Graham."
   ]
  },
  {
   "cell_type": "markdown",
   "metadata": {
    "comet_cell_id": "237850239714a",
    "slideshow": {
     "slide_type": "slide"
    }
   },
   "source": [
    "## Course Schedule: Day 1\n",
    "As defined in the email that we sent out:\n",
    "\n",
    "Each section will be a lecture section ending with a problem we solve together, followed by solo activities in a breakout session with the help of a staff member. The exception to this is the session we are currently in!"
   ]
  },
  {
   "cell_type": "markdown",
   "metadata": {
    "slideshow": {
     "slide_type": "subslide"
    }
   },
   "source": [
    "* Day 1 Morning: \n",
    " * 10:00am -> Preface session\n",
    " * 12:00pm -> Lunch break"
   ]
  },
  {
   "cell_type": "markdown",
   "metadata": {
    "slideshow": {
     "slide_type": "subslide"
    }
   },
   "source": [
    "* Day 1 Afternoon: \n",
    " * 2:00pm  -> Fundamentals of Python\n",
    " * ~3:15pm -> Break time\n",
    " * 3:30pm  -> Fundamentals continued"
   ]
  },
  {
   "cell_type": "markdown",
   "metadata": {
    "comet_cell_id": "237850239714a",
    "slideshow": {
     "slide_type": "slide"
    }
   },
   "source": [
    "## Course Schedule: Day 2\n",
    "Our second day includes more advanced topics:"
   ]
  },
  {
   "cell_type": "markdown",
   "metadata": {
    "slideshow": {
     "slide_type": "subslide"
    }
   },
   "source": [
    "* Day 2 Morning: \n",
    " * 10:00am -> Working with files\n",
    " * 12:00pm -> Lunch break"
   ]
  },
  {
   "cell_type": "markdown",
   "metadata": {
    "slideshow": {
     "slide_type": "subslide"
    }
   },
   "source": [
    "* Day 2 Afternoon: \n",
    " * 2:00pm  -> Object oriented programming\n",
    " * ~3:15pm -> Break time\n",
    " * 3:30pm  -> Object oriented programming continued"
   ]
  },
  {
   "cell_type": "markdown",
   "metadata": {
    "slideshow": {
     "slide_type": "slide"
    }
   },
   "source": [
    "## Course Schedule: Day 3\n",
    "The third day will be used to make sure we have covered all the basics."
   ]
  },
  {
   "cell_type": "markdown",
   "metadata": {
    "slideshow": {
     "slide_type": "subslide"
    }
   },
   "source": [
    "Same structure as before...\n",
    "\n",
    "Starts at 10am, lunch break at 12, longer afternoon session with coffee break!\n",
    "\n",
    "If we have time, we might cover some more advanced topics!"
   ]
  },
  {
   "cell_type": "markdown",
   "metadata": {
    "comet_cell_id": "237850239714a",
    "slideshow": {
     "slide_type": "slide"
    }
   },
   "source": [
    "## Lecture Slide Format\n",
    "During the lecture sessions we will be using Jupyter notebooks to allow us to present and run code together in one framework."
   ]
  },
  {
   "cell_type": "code",
   "execution_count": null,
   "metadata": {
    "comet_cell_id": "3d1b1d174e9e9",
    "slideshow": {
     "slide_type": "fragment"
    }
   },
   "outputs": [],
   "source": [
    "! echo \"When you see the exclamation point means that this is executed in the terminal\""
   ]
  },
  {
   "cell_type": "code",
   "execution_count": null,
   "metadata": {
    "comet_cell_id": "3d1b1d174e9e9",
    "slideshow": {
     "slide_type": "fragment"
    }
   },
   "outputs": [],
   "source": [
    "print(\"Otherwise we are in python!!\")"
   ]
  },
  {
   "cell_type": "markdown",
   "metadata": {
    "comet_cell_id": "f7bef51e6b9c",
    "slideshow": {
     "slide_type": "subslide"
    }
   },
   "source": [
    "What we suggest for students is to have two terminals: one for interactions, one for editing files."
   ]
  },
  {
   "cell_type": "markdown",
   "metadata": {
    "comet_cell_id": "237850239714a",
    "slideshow": {
     "slide_type": "slide"
    }
   },
   "source": [
    "## Course Content\n",
    "Lecture slides will be available as PDFs on the moodle page.\n",
    "\n",
    "However, these will be missing interactive examples we will be doing on the fly - so please attend the lectures!\n",
    "\n",
    "Solutions to breakout problems will be made available at the end of the course and will be posted to the moodle page."
   ]
  },
  {
   "cell_type": "markdown",
   "metadata": {
    "slideshow": {
     "slide_type": "subslide"
    }
   },
   "source": [
    "## Book Suggestions\n",
    "Anything! Just start learning!"
   ]
  },
  {
   "cell_type": "markdown",
   "metadata": {
    "slideshow": {
     "slide_type": "fragment"
    }
   },
   "source": [
    "However... It's easier to learn given some problems to test your understanding!\n",
    "\n",
    "Try something like: https://projecteuler.net/"
   ]
  },
  {
   "cell_type": "markdown",
   "metadata": {
    "comet_cell_id": "f9441e9a3024a",
    "slideshow": {
     "slide_type": "slide"
    }
   },
   "source": [
    "## Getting Started\n",
    "\n",
    "All modules of this workshop will be very interactive, and it is assumed that you will be following the instructor both in the python console and on the terminal. \n",
    "\n",
    "We recommend you `ssh` with your guest account to our cluster. Let's assume your guest login is `guest000`:\n",
    "```bash\n",
    "ssh guest000@graham.computecanada.ca\n",
    "```"
   ]
  },
  {
   "cell_type": "markdown",
   "metadata": {
    "comet_cell_id": "9b02b8fc201ee",
    "slideshow": {
     "slide_type": "subslide"
    }
   },
   "source": [
    "Then, create a folder called `fundamentals` by:\n",
    "```bash\n",
    "mkdir fundamentals\n",
    "```"
   ]
  },
  {
   "cell_type": "markdown",
   "metadata": {
    "comet_cell_id": "91a170bceb553",
    "slideshow": {
     "slide_type": "slide"
    }
   },
   "source": [
    "## Getting Started, Continued\n",
    "We also recommend you open a second terminal, connect to our cluster and go to the same directory. This second terminal will be used for the python interpreter.\n",
    "\n",
    "Start by `ssh`-ing once again, and doing the following:\n",
    "\n",
    "```bash\n",
    "cd fundamentals\n",
    "module load python/3.6\n",
    "python\n",
    "```"
   ]
  },
  {
   "cell_type": "markdown",
   "metadata": {
    "comet_cell_id": "ea3aec16c6622",
    "slideshow": {
     "slide_type": "subslide"
    }
   },
   "source": [
    "You should now be presented with something like this:\n",
    "```bash\n",
    "Python 3.6.3 (default, Dec  4 2017, 16:33:31) \n",
    "[GCC 5.4.0] on linux\n",
    "Type \"help\", \"copyright\", \"credits\" or \"license\" for more information.\n",
    ">>> \n",
    "```"
   ]
  },
  {
   "cell_type": "markdown",
   "metadata": {
    "comet_cell_id": "a15de8c23ad52",
    "slideshow": {
     "slide_type": "slide"
    }
   },
   "source": [
    "**Let's make sure your settings are correct!!!**"
   ]
  }
 ],
 "metadata": {
  "celltoolbar": "Slideshow",
  "comet_paths": [],
  "comet_tracking": true,
  "kernelspec": {
   "display_name": "Python 3",
   "language": "python",
   "name": "python3"
  },
  "language_info": {
   "codemirror_mode": {
    "name": "ipython",
    "version": 3
   },
   "file_extension": ".py",
   "mimetype": "text/x-python",
   "name": "python",
   "nbconvert_exporter": "python",
   "pygments_lexer": "ipython3",
   "version": "3.7.5"
  }
 },
 "nbformat": 4,
 "nbformat_minor": 2
}
