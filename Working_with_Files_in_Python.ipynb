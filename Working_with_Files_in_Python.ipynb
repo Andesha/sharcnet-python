{
 "cells": [
  {
   "cell_type": "markdown",
   "metadata": {
    "comet_cell_id": "01b0205414063",
    "slideshow": {
     "slide_type": "slide"
    }
   },
   "source": [
    "# Working with Files in Python\n",
    "\n",
    "So far we just have explored the interpreter and some native data structure now we can start to actually work with data. \n",
    "\n",
    "Here we will talk about IO operations, let's starts with the *I* in *IO*, the input."
   ]
  },
  {
   "cell_type": "markdown",
   "metadata": {
    "comet_cell_id": "f8d0ca0acce4b",
    "slideshow": {
     "slide_type": "slide"
    }
   },
   "source": [
    "Let's start first my creating a mock file with 4 lines: a header and 3 lines of \"data\". We will do this in the terminal (outside Python)"
   ]
  },
  {
   "cell_type": "code",
   "execution_count": null,
   "metadata": {
    "comet_cell_id": "30dd1ae027c78",
    "slideshow": {
     "slide_type": "fragment"
    }
   },
   "outputs": [],
   "source": [
    "!echo \"Column1,Column2,Column3\\n1,2,3\\none,two,three\\nuno,dos,tres\" > afile.txt\n",
    "!cat afile.txt"
   ]
  },
  {
   "cell_type": "markdown",
   "metadata": {
    "comet_cell_id": "ee764216ff6f7",
    "slideshow": {
     "slide_type": "notes"
    }
   },
   "source": [
    "Note that we have used the character `\\n` to represent an new line (frequently called line ending, end of line (EOL), line feed, or line break), as is for Linux systems. Other operating systems might differ, and having either extra characters or different characters."
   ]
  },
  {
   "cell_type": "markdown",
   "metadata": {
    "comet_cell_id": "2b2578809d973",
    "slideshow": {
     "slide_type": "subslide"
    }
   },
   "source": [
    "Now let's get into python and try to read this file. Just like a book, you need to first open the file before reading it:"
   ]
  },
  {
   "cell_type": "code",
   "execution_count": null,
   "metadata": {
    "comet_cell_id": "ce605187c4023",
    "scrolled": true,
    "slideshow": {
     "slide_type": "fragment"
    }
   },
   "outputs": [],
   "source": [
    "handle = open('afile.txt')\n",
    "print(handle)"
   ]
  },
  {
   "cell_type": "markdown",
   "metadata": {
    "comet_cell_id": "ddd2687fea152",
    "slideshow": {
     "slide_type": "subslide"
    }
   },
   "source": [
    "Now to actually access its contents, we need to tell the handle to read them:"
   ]
  },
  {
   "cell_type": "code",
   "execution_count": null,
   "metadata": {
    "comet_cell_id": "cd719c69912a4",
    "slideshow": {
     "slide_type": "-"
    }
   },
   "outputs": [],
   "source": [
    "text = handle.read()\n",
    "print(text)"
   ]
  },
  {
   "cell_type": "code",
   "execution_count": null,
   "metadata": {
    "comet_cell_id": "c5b1aa78dc132",
    "slideshow": {
     "slide_type": "subslide"
    }
   },
   "outputs": [],
   "source": [
    "...\n",
    "handle.close()"
   ]
  },
  {
   "cell_type": "markdown",
   "metadata": {
    "comet_cell_id": "91b3fe3fe67cf",
    "slideshow": {
     "slide_type": "notes"
    }
   },
   "source": [
    "As you could see, every line read from the file, is represented as a string type variable. We also explored the handle and saw that it is not text, it is a pointer to the opened file. As we read information from the handle, it exhaust it. Once empty, you would need to reopen and redefine the handle before use.\n",
    "Finally, always remember to close the file. Remaining open files can interfere with the normal execution of a program."
   ]
  },
  {
   "cell_type": "markdown",
   "metadata": {
    "comet_cell_id": "8dd52db5031a4",
    "slideshow": {
     "slide_type": "slide"
    }
   },
   "source": [
    "### Context manager\n",
    "Since you always have to remember (or should!!) to close files, let the context manager do it for you:"
   ]
  },
  {
   "cell_type": "code",
   "execution_count": null,
   "metadata": {
    "comet_cell_id": "da95ba4bcb4ca",
    "slideshow": {
     "slide_type": "fragment"
    }
   },
   "outputs": [],
   "source": [
    "with open('afile.txt') as handle:\n",
    "    text = handle.read()\n",
    "print(text)"
   ]
  },
  {
   "cell_type": "code",
   "execution_count": null,
   "metadata": {
    "comet_cell_id": "5c23df4775c72",
    "slideshow": {
     "slide_type": "subslide"
    }
   },
   "outputs": [],
   "source": [
    "..."
   ]
  },
  {
   "cell_type": "markdown",
   "metadata": {
    "comet_cell_id": "b79acd6d29eb7",
    "slideshow": {
     "slide_type": "notes"
    }
   },
   "source": [
    "Once the handle is closed, you can no longer access its contents. The context manager allows you to guarantee that the handle is closed once you have performed tasks on its contents. "
   ]
  },
  {
   "cell_type": "markdown",
   "metadata": {
    "comet_cell_id": "93414ce9c0694",
    "slideshow": {
     "slide_type": "slide"
    }
   },
   "source": [
    "<center>\n",
    "<img src=\"quiz.png\"  width=\"820\" height=\"700\" align=\"center\"/>\n",
    "</center>"
   ]
  },
  {
   "cell_type": "markdown",
   "metadata": {
    "comet_cell_id": "2f1a954032ca3",
    "slideshow": {
     "slide_type": "notes"
    }
   },
   "source": [
    "Q6: What does printing a handle do?"
   ]
  },
  {
   "cell_type": "markdown",
   "metadata": {
    "comet_cell_id": "8dd52db5031a4",
    "slideshow": {
     "slide_type": "slide"
    }
   },
   "source": [
    "### Reading by line\n",
    "If your file is too big to fully buffer it on memory or if you only one a few lines, the `read` function might be an overkill. Let's imagine that we only want the headers of the file (or the first line):"
   ]
  },
  {
   "cell_type": "code",
   "execution_count": null,
   "metadata": {
    "comet_cell_id": "b7ac21a081871",
    "slideshow": {
     "slide_type": "fragment"
    }
   },
   "outputs": [],
   "source": [
    "with open('afile.txt') as handle:\n",
    "    header = handle.readline()\n",
    "print(header)\n",
    "..."
   ]
  },
  {
   "cell_type": "markdown",
   "metadata": {
    "comet_cell_id": "b7b5cefed2a2e",
    "slideshow": {
     "slide_type": "subslide"
    }
   },
   "source": [
    "As we have mentioned before, the handle is exhausted, so with every call of the `readline` method, the next line will be printed instead.\n",
    "\n",
    "#### What about reading the full file one line at a time?"
   ]
  },
  {
   "cell_type": "code",
   "execution_count": null,
   "metadata": {
    "comet_cell_id": "ff4754b9a4c79",
    "slideshow": {
     "slide_type": "fragment"
    }
   },
   "outputs": [],
   "source": [
    "with open('afile.txt') as handle:\n",
    "    for line_num, line in enumerate(handle):\n",
    "        print(\"Line {} is {}\".format(line_num, line))"
   ]
  },
  {
   "cell_type": "code",
   "execution_count": null,
   "metadata": {
    "comet_cell_id": "960f89c796e8",
    "slideshow": {
     "slide_type": "subslide"
    }
   },
   "outputs": [],
   "source": [
    "..."
   ]
  },
  {
   "cell_type": "markdown",
   "metadata": {
    "comet_cell_id": "1582abe7b119f",
    "slideshow": {
     "slide_type": "notes"
    }
   },
   "source": [
    "To recap, there are multiple ways to read a file in python:\n",
    "1. read: Read full content into a string variable.\n",
    "2. readlines: Read full content into a list, one line per entry\n",
    "3. readline: reads the first line in the handle"
   ]
  },
  {
   "cell_type": "markdown",
   "metadata": {
    "comet_cell_id": "008cca369eb1",
    "slideshow": {
     "slide_type": "slide"
    }
   },
   "source": [
    "<center>\n",
    "<img src=\"quiz.png\"  width=\"820\" height=\"700\" align=\"center\"/>\n",
    "</center>"
   ]
  },
  {
   "cell_type": "markdown",
   "metadata": {
    "comet_cell_id": "2761ec19a44c2",
    "slideshow": {
     "slide_type": "notes"
    }
   },
   "source": [
    "Q7: Use of handle post block"
   ]
  },
  {
   "cell_type": "markdown",
   "metadata": {
    "comet_cell_id": "fccc95b61c1cd",
    "slideshow": {
     "slide_type": "slide"
    }
   },
   "source": [
    "### Writing to files\n",
    "Before we go to processing, lets see how can we write to a file. So let's make a copy of `afile.txt`:"
   ]
  },
  {
   "cell_type": "code",
   "execution_count": null,
   "metadata": {
    "comet_cell_id": "e27397078823f",
    "slideshow": {
     "slide_type": "fragment"
    }
   },
   "outputs": [],
   "source": [
    "with open('afile.txt', 'r') as rh, open('afile2.txt', 'w') as wh:\n",
    "    for line in rh:\n",
    "        wh.write(line)"
   ]
  },
  {
   "cell_type": "markdown",
   "metadata": {
    "comet_cell_id": "c5992dd79d919",
    "slideshow": {
     "slide_type": "notes"
    }
   },
   "source": [
    "As when reading, we first need to open the target file. Using the writing mode, Python automatically creates the new file (or re-write an existing file with the same name) and will write in it."
   ]
  },
  {
   "cell_type": "code",
   "execution_count": null,
   "metadata": {
    "comet_cell_id": "b92af6a04036a",
    "slideshow": {
     "slide_type": "subslide"
    }
   },
   "outputs": [],
   "source": [
    "!echo afile.txt\n",
    "!cat afile.txt\n",
    "!echo afile2.txt\n",
    "!cat afile2.txt"
   ]
  },
  {
   "cell_type": "markdown",
   "metadata": {
    "comet_cell_id": "fe270c247814d",
    "slideshow": {
     "slide_type": "subslide"
    }
   },
   "source": [
    "#### Modes of opening file\n",
    "\n",
    "As you saw, the function `open` can be:\n",
    "1. Read mode (`r`): This is the default to read from a file\n",
    "2. Write mode (`w`): This will create **(or recreate)** a file to write to\n",
    "3. Append mode (`a`): This will open a file to write, but will append to the end of it instead of recreating"
   ]
  },
  {
   "cell_type": "markdown",
   "metadata": {
    "comet_cell_id": "8f4efe275e907",
    "slideshow": {
     "slide_type": "subslide"
    }
   },
   "source": [
    "These are the basic modes, and have the modifiers `b` to read/write in binary format and `+` to open the file for updating (reading and writing). The last two modes are a bit more advanced, and we will not cover them."
   ]
  },
  {
   "cell_type": "markdown",
   "metadata": {
    "comet_cell_id": "9609b080623c7",
    "slideshow": {
     "slide_type": "subslide"
    }
   },
   "source": [
    "What does append will look like and why would you like to use it? Say you have the `afile.txt` that you have created either upstream or by a completely different program, and you want to add a line:"
   ]
  },
  {
   "cell_type": "code",
   "execution_count": null,
   "metadata": {
    "comet_cell_id": "72d4b15cb5861",
    "slideshow": {
     "slide_type": "fragment"
    }
   },
   "outputs": [],
   "source": [
    "new_line = \"ichi,ni,san\"\n",
    "with open('afile2.txt', 'w') as wh, open('afile.txt', 'a') as ah:\n",
    "    wh.write(new_line)\n",
    "    ah.write(new_line)\n",
    "..."
   ]
  },
  {
   "cell_type": "markdown",
   "metadata": {
    "comet_cell_id": "12c2759b9697",
    "slideshow": {
     "slide_type": "notes"
    }
   },
   "source": [
    "Differing from the writing mode, the append mode will not erased our previous file if it already exist, but will still create a new file if it does not exist."
   ]
  },
  {
   "cell_type": "markdown",
   "metadata": {
    "comet_cell_id": "aa65258adba43",
    "slideshow": {
     "slide_type": "slide"
    }
   },
   "source": [
    "<center>\n",
    "<img src=\"quiz.png\"  width=\"820\" height=\"700\" align=\"center\"/>\n",
    "</center>"
   ]
  },
  {
   "cell_type": "markdown",
   "metadata": {
    "comet_cell_id": "602fe5ee4bf47",
    "slideshow": {
     "slide_type": "notes"
    }
   },
   "source": [
    "Q8: Flags, i.e. ‘w’, ‘r’, ‘a’"
   ]
  },
  {
   "cell_type": "markdown",
   "metadata": {
    "comet_cell_id": "444b57a0311eb",
    "slideshow": {
     "slide_type": "slide"
    }
   },
   "source": [
    "### Processing data from files\n",
    "We now know how to read and write to files in Python. This is the main way to get data into our programs, and output meaningful information. But to really make use of it we need to be able to manipulate and interact with the data."
   ]
  },
  {
   "cell_type": "markdown",
   "metadata": {
    "comet_cell_id": "a9a51a07a7108",
    "slideshow": {
     "slide_type": "subslide"
    }
   },
   "source": [
    "Say you want to write a program that reads a comma-delimited file with the numbers 1-3 in English, Spanish or Japanese. And let's say we want to output a different file with all in numerical versions in a **TAB**-delimited file:"
   ]
  },
  {
   "cell_type": "code",
   "execution_count": null,
   "metadata": {
    "comet_cell_id": "f68f360e5aee8",
    "slideshow": {
     "slide_type": "subslide"
    }
   },
   "outputs": [],
   "source": [
    "translate = dict(one=1, two=2, three=3,\n",
    "                 uno=1, dos=2, tres=3, \n",
    "                 ichi=1, ni=2, san=3)\n",
    "with open('afile.txt', 'r') as infile, open('output.txt', 'w') as outfile:\n",
    "    for line in infile:\n",
    "        ..."
   ]
  },
  {
   "cell_type": "markdown",
   "metadata": {
    "comet_cell_id": "82a402a361aaa",
    "slideshow": {
     "slide_type": "notes"
    }
   },
   "source": [
    "As we seen before, you can actually open two file in different modes within a context manager. Also, we can interact with our own variables to create the desired output."
   ]
  },
  {
   "cell_type": "markdown",
   "metadata": {
    "comet_cell_id": "fd1be43ce3f2f",
    "slideshow": {
     "slide_type": "subslide"
    }
   },
   "source": [
    "Now, let's say that instead of the tab-delimited numerical output, we just want to have the original file into a list of lists:"
   ]
  },
  {
   "cell_type": "code",
   "execution_count": null,
   "metadata": {
    "comet_cell_id": "7b6bbb8fc5381",
    "slideshow": {
     "slide_type": "fragment"
    }
   },
   "outputs": [],
   "source": [
    "with open('afile.txt', 'r') as infile:\n",
    "..."
   ]
  },
  {
   "cell_type": "markdown",
   "metadata": {
    "comet_cell_id": "b6044dfb26dcf",
    "slideshow": {
     "slide_type": "slide"
    }
   },
   "source": [
    "<center>\n",
    "<img src=\"quiz.png\"  width=\"820\" height=\"700\" align=\"center\"/>\n",
    "</center>"
   ]
  },
  {
   "cell_type": "markdown",
   "metadata": {
    "comet_cell_id": "ac6653e422c61",
    "slideshow": {
     "slide_type": "notes"
    }
   },
   "source": [
    "We could solve the problem with a simple loop, but here is a more efficient solution, list comprehension. List comprehensions provide a concise way to create lists, and avoids using the method append in a list or defining the empty container."
   ]
  },
  {
   "cell_type": "markdown",
   "metadata": {
    "comet_cell_id": "5b7bfda0bce97",
    "slideshow": {
     "slide_type": "notes"
    }
   },
   "source": [
    "Q9: List comprehension"
   ]
  },
  {
   "cell_type": "markdown",
   "metadata": {
    "comet_cell_id": "02858e5d3ea22",
    "slideshow": {
     "slide_type": "slide"
    }
   },
   "source": [
    "### Pre-existing data structures\n",
    "CSV files are extremely common, and there are packages that will allow you to read and write easier. You need to import them though..."
   ]
  },
  {
   "cell_type": "code",
   "execution_count": null,
   "metadata": {
    "comet_cell_id": "563312d78bf5d",
    "slideshow": {
     "slide_type": "subslide"
    }
   },
   "outputs": [],
   "source": [
    "import csv\n",
    "with open('afile.txt') as csvfile, open('afile3.txt', 'w') as outcsv:\n",
    "    reader = csv.reader(csvfile, delimiter=',', quotechar='\"')\n",
    "    writer = csv.writer(outcsv, delimiter=',')\n",
    "    for row in reader:\n",
    "        print(row)\n",
    "        writer.writerow([row])\n",
    "        \n"
   ]
  },
  {
   "cell_type": "code",
   "execution_count": null,
   "metadata": {
    "comet_cell_id": "2ddbc2033ed4e",
    "slideshow": {
     "slide_type": "subslide"
    }
   },
   "outputs": [],
   "source": [
    "import pandas as pd\n",
    "fi = pd.read_csv('afile.txt', sep=',', header=None)\n",
    "print(fi)\n",
    "fo = fi.write('afile4.txt', sep=',', header=False, index=False)"
   ]
  },
  {
   "cell_type": "markdown",
   "metadata": {
    "comet_cell_id": "624fefded3ee3",
    "slideshow": {
     "slide_type": "slide"
    }
   },
   "source": [
    "### Installing packages\n",
    "**The Python Package Index** or Pypi by:\n",
    "\n",
    "```bash\n",
    "pip install <package>\n",
    "```"
   ]
  },
  {
   "cell_type": "code",
   "execution_count": null,
   "metadata": {
    "comet_cell_id": "2c063410828f",
    "slideshow": {
     "slide_type": "subslide"
    }
   },
   "outputs": [],
   "source": [
    "!python3 -m pip install pandas"
   ]
  },
  {
   "cell_type": "markdown",
   "metadata": {
    "comet_cell_id": "8fc2ed86f0d8f",
    "slideshow": {
     "slide_type": "slide"
    }
   },
   "source": [
    "### Packages of note\n",
    "1. Pandas: Python Data Analysis Library\n",
    "2. Numpy: the fundamental package for scientific computing with Python\n",
    "3. Scipy: Scientific Library for Python\n",
    "4. Scikit-learn: Python's main machine learning library\n",
    "5. argsparse: Python's command line argument parser\n",
    "\n",
    "..."
   ]
  },
  {
   "cell_type": "markdown",
   "metadata": {
    "comet_cell_id": "5f3fc8d0d7a4d",
    "slideshow": {
     "slide_type": "slide"
    }
   },
   "source": [
    "### Interacting with the system\n",
    "Often times you want to be able to query the system, or get input from the command line. In Python, this is done through the packages `os` and `sys` of the standard library (no need to install them). For example, let's say that you would like to ask the system if a file is present in the path, then:"
   ]
  },
  {
   "cell_type": "code",
   "execution_count": null,
   "metadata": {
    "comet_cell_id": "27e7fcf9250d2",
    "slideshow": {
     "slide_type": "subslide"
    }
   },
   "outputs": [],
   "source": [
    "import os\n",
    "print(os.path.isfile('afile.txt'))\n",
    "..."
   ]
  },
  {
   "cell_type": "markdown",
   "metadata": {
    "comet_cell_id": "768aa9bd70b7c",
    "slideshow": {
     "slide_type": "notes"
    }
   },
   "source": [
    "Imports in python can be done relative to the module name. For example, the `os` module has a sub-module called `path` (as in the example). we can invoke its functions as before, or import functions from the path submodule directly:\n",
    "```python\n",
    "from os.path import isfile\n",
    "print(isfile('afile.txt'))\n",
    "```\n",
    "or\n",
    "```python\n",
    "from os import path\n",
    "print(path.isfile('afile.txt'))\n",
    "```"
   ]
  },
  {
   "cell_type": "markdown",
   "metadata": {
    "comet_cell_id": "9b9ff3894de9f",
    "slideshow": {
     "slide_type": "subslide"
    }
   },
   "source": [
    "Likewise we can get inputs from the terminal using the python module `sys`, and its attribute `argv`. `argv` is a list of command line input, and will gather everything when you invoked a script:\n",
    "1. `sys.argv[0]`: name of the script\n",
    "2. `sys.argv[1]`: first argument\n",
    "etc."
   ]
  },
  {
   "cell_type": "markdown",
   "metadata": {
    "comet_cell_id": "4d05b435700ce",
    "slideshow": {
     "slide_type": "subslide"
    }
   },
   "source": [
    "To better understand this, let's create a simple script. Let's create a file called `hello_world.py`, and write in it:\n",
    "\n",
    "```python\n",
    "print('Hello world')\n",
    "```\n",
    "We can execute it on the terminal by typing:\n",
    "```bash\n",
    "python hello_world.py\n",
    "```"
   ]
  },
  {
   "cell_type": "markdown",
   "metadata": {
    "comet_cell_id": "cb954e924652f",
    "slideshow": {
     "slide_type": "subslide"
    }
   },
   "source": [
    "Now, let's modify the file so it will take as an argument a name, and then output a greeting to that person:\n",
    "```python\n",
    "import sys\n",
    "name = sys.argv[1]\n",
    "print('Hello', name)\n",
    "```\n",
    "and then we can try:\n",
    "```bash\n",
    "python hello_world.py Sergio\n",
    "```"
   ]
  },
  {
   "cell_type": "markdown",
   "metadata": {
    "comet_cell_id": "e76ef6e1fcd9a",
    "slideshow": {
     "slide_type": "slide"
    }
   },
   "source": [
    "<center>\n",
    "<img src=\"quiz.png\"  width=\"820\" height=\"700\" align=\"center\"/>\n",
    "</center>"
   ]
  },
  {
   "cell_type": "markdown",
   "metadata": {
    "comet_cell_id": "42d295daae759",
    "slideshow": {
     "slide_type": "notes"
    }
   },
   "source": [
    "Q10: Import as question"
   ]
  },
  {
   "cell_type": "markdown",
   "metadata": {
    "comet_cell_id": "cc96fb82bbae",
    "slideshow": {
     "slide_type": "slide"
    }
   },
   "source": [
    "## Base problem\n",
    "### Scenario:\n",
    "We will be analyzing the data of the project \"A large-scale COVID-19 Twitter chatter dataset for open scientific research - an international collaboration\", specifically the term count. We will be creating a script that will return the most frequent terms."
   ]
  },
  {
   "cell_type": "markdown",
   "metadata": {
    "comet_cell_id": "55ffa651fe0f3",
    "slideshow": {
     "slide_type": "subslide"
    }
   },
   "source": [
    "#### Aim:\n",
    "Create a script where you can input the minimum count of terms, will read a csv file, and will output a filtered version."
   ]
  },
  {
   "cell_type": "markdown",
   "metadata": {
    "comet_cell_id": "83619f120026c",
    "slideshow": {
     "slide_type": "subslide"
    }
   },
   "source": [
    "#### Steps\n",
    "1. Download the input file to your guest account:\n",
    "```bash\n",
    "wget https://raw.githubusercontent.com/Andesha/sharcnet-python/master/inputs/frequent_terms.csv?token=ABSYUO5RGE3X7YICEEIDMZK6X4NAC\n",
    "```"
   ]
  },
  {
   "cell_type": "markdown",
   "metadata": {
    "comet_cell_id": "0c5cb9205954f",
    "slideshow": {
     "slide_type": "subslide"
    }
   },
   "source": [
    "2. Create a file for the script where you import the `sys` module to allow input the threshold and the name of the output file:\n",
    "```python\n",
    "import sys\n",
    "program = sys.argv[0]\n",
    "threshold = sys.argv[1]\n",
    "outfn = sys.argv[2]\n",
    "```"
   ]
  },
  {
   "cell_type": "markdown",
   "metadata": {
    "comet_cell_id": "827db679aff18"
   },
   "source": [
    "3. Print a greeting including the name of the program, and the inputs:\n",
    "```python\n",
    "print('Welcome to {}. Your threshold is {} an the outputfile is {}'.format(program, threshold, outfn))\n",
    "```"
   ]
  },
  {
   "cell_type": "markdown",
   "metadata": {
    "comet_cell_id": "c94805f684c85",
    "slideshow": {
     "slide_type": "subslide"
    }
   },
   "source": [
    "4. Using the context manager, read the file and split it by comma\n",
    "```python\n",
    "with open('frequent_terms.csv') as infile:\n",
    "      text = [line.strip().split(',') for line in infile]\n",
    "```"
   ]
  },
  {
   "cell_type": "markdown",
   "metadata": {
    "comet_cell_id": "d6a36c93fb94d"
   },
   "source": [
    "5. Write to file the entries where the count is greater than the input from `sys`.\n",
    "```python\n",
    "with open(outfn, 'w') as outfile:\n",
    "    for index, entry in enumerate(text):\n",
    "        if index == 0:\n",
    "            line = '{}\\n'.format(','.join(entry))\n",
    "            outfile.write(line)\n",
    "        elif float(entry[1]) >= threshold:\n",
    "            line = '{}\\n'.format(','.join(entry))\n",
    "            outfile.write(line)\n",
    "```"
   ]
  },
  {
   "cell_type": "markdown",
   "metadata": {
    "comet_cell_id": "86936346fe10c",
    "slideshow": {
     "slide_type": "fragment"
    }
   },
   "source": [
    "# Extended problem\n",
    "<center>\n",
    "<img src=\"https://files.realpython.com/media/building_with_python_watermark.2ebe5beb5b1e.jpg\"  width=\"820\" height=\"700\" align=\"center\"/>\n",
    "</center>"
   ]
  },
  {
   "cell_type": "markdown",
   "metadata": {
    "comet_cell_id": "a457cbf6aaf6e",
    "slideshow": {
     "slide_type": "slide"
    }
   },
   "source": [
    "Now you will modify the script so that it will only output terms that start with an `e` **OR** that end in `n`. Additionally you will write a second output file (the name has to be provided by the command line as the third argument) with the 10 least frequent terms. **HINT:** a numeric list (has to be of type int or float) can be sorted using the function `sorted`."
   ]
  }
 ],
 "metadata": {
  "celltoolbar": "Slideshow",
  "comet_paths": [],
  "comet_tracking": true,
  "kernelspec": {
   "display_name": "Python 3",
   "language": "python",
   "name": "python3"
  },
  "language_info": {
   "codemirror_mode": {
    "name": "ipython",
    "version": 3
   },
   "file_extension": ".py",
   "mimetype": "text/x-python",
   "name": "python",
   "nbconvert_exporter": "python",
   "pygments_lexer": "ipython3",
   "version": "3.7.5"
  },
  "rise": {
   "footer": "<img src='SHRCPP.png' alt='SHARCNET logo'>"
  }
 },
 "nbformat": 4,
 "nbformat_minor": 2
}
