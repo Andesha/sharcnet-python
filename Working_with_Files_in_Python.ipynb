{
 "cells": [
  {
   "cell_type": "markdown",
   "metadata": {
    "comet_cell_id": "01b0205414063",
    "slideshow": {
     "slide_type": "slide"
    }
   },
   "source": [
    "# Working with Files in Python\n",
    "\n",
    "So far we just have explored the interpreter and some native data structure now we can start to actually work with data. \n",
    "\n",
    "Here we will talk about IO operations, let's starts with the *I* in *IO*, the input."
   ]
  },
  {
   "cell_type": "markdown",
   "metadata": {
    "comet_cell_id": "f8d0ca0acce4b",
    "slideshow": {
     "slide_type": "slide"
    }
   },
   "source": [
    "Let's start first my creating a mock file with 4 lines: a header and 3 lines of \"data\". We will do this in the terminal (outside Python)"
   ]
  },
  {
   "cell_type": "code",
   "execution_count": 2,
   "metadata": {
    "comet_cell_id": "30dd1ae027c78",
    "slideshow": {
     "slide_type": "fragment"
    }
   },
   "outputs": [
    {
     "name": "stdout",
     "output_type": "stream",
     "text": [
      "Column1,Column2,Column3\r\n",
      "1,2,3\r\n",
      "one,two,three\r\n",
      "uno,dos,tres\r\n"
     ]
    }
   ],
   "source": [
    "!echo \"Column1,Column2,Column3\\n1,2,3\\none,two,three\\nuno,dos,tres\" > afile.txt\n",
    "!cat afile.txt"
   ]
  },
  {
   "cell_type": "markdown",
   "metadata": {
    "comet_cell_id": "2b2578809d973",
    "slideshow": {
     "slide_type": "subslide"
    }
   },
   "source": [
    "Now let's get into python and try to read this file:"
   ]
  },
  {
   "cell_type": "code",
   "execution_count": 1,
   "metadata": {
    "comet_cell_id": "ce605187c4023",
    "scrolled": true,
    "slideshow": {
     "slide_type": "fragment"
    }
   },
   "outputs": [
    {
     "name": "stdout",
     "output_type": "stream",
     "text": [
      "<_io.TextIOWrapper name='afile.txt' mode='r' encoding='UTF-8'>\n"
     ]
    }
   ],
   "source": [
    "handle = open('afile.txt')\n",
    "print(handle)"
   ]
  },
  {
   "cell_type": "code",
   "execution_count": 2,
   "metadata": {
    "comet_cell_id": "cd719c69912a4",
    "slideshow": {
     "slide_type": "fragment"
    }
   },
   "outputs": [
    {
     "name": "stdout",
     "output_type": "stream",
     "text": [
      "Column1,Column2,Column3\n",
      "1,2,3\n",
      "one,two,three\n",
      "uno,dos,tres\n",
      "\n"
     ]
    }
   ],
   "source": [
    "text = handle.read()\n",
    "print(text)"
   ]
  },
  {
   "cell_type": "code",
   "execution_count": 3,
   "metadata": {
    "comet_cell_id": "c5b1aa78dc132",
    "slideshow": {
     "slide_type": "subslide"
    }
   },
   "outputs": [],
   "source": [
    "...\n",
    "handle.close()"
   ]
  },
  {
   "cell_type": "markdown",
   "metadata": {
    "comet_cell_id": "91b3fe3fe67cf",
    "slideshow": {
     "slide_type": "notes"
    }
   },
   "source": [
    "Show the type of variable that text is, and point out the difference between handle and read. Also show that read exhaust the handle"
   ]
  },
  {
   "cell_type": "markdown",
   "metadata": {
    "comet_cell_id": "8dd52db5031a4",
    "slideshow": {
     "slide_type": "slide"
    }
   },
   "source": [
    "### Context manager\n",
    "Since you always have to remember (or should!!) to close files, let the context manager do it for you:"
   ]
  },
  {
   "cell_type": "code",
   "execution_count": null,
   "metadata": {
    "comet_cell_id": "da95ba4bcb4ca",
    "slideshow": {
     "slide_type": "fragment"
    }
   },
   "outputs": [],
   "source": [
    "with open('afile.txt') as handle:\n",
    "    text = handle.read()\n",
    "print(text)"
   ]
  },
  {
   "cell_type": "code",
   "execution_count": null,
   "metadata": {
    "comet_cell_id": "5c23df4775c72",
    "slideshow": {
     "slide_type": "subslide"
    }
   },
   "outputs": [],
   "source": [
    "..."
   ]
  },
  {
   "cell_type": "markdown",
   "metadata": {
    "comet_cell_id": "b79acd6d29eb7",
    "slideshow": {
     "slide_type": "notes"
    }
   },
   "source": [
    "Show that a closed handle do not read."
   ]
  },
  {
   "cell_type": "markdown",
   "metadata": {
    "comet_cell_id": "93414ce9c0694",
    "slideshow": {
     "slide_type": "slide"
    }
   },
   "source": [
    "<center>\n",
    "<img src=\"quiz.png\"  width=\"820\" height=\"700\" align=\"center\"/>\n",
    "</center>"
   ]
  },
  {
   "cell_type": "markdown",
   "metadata": {
    "comet_cell_id": "8dd52db5031a4",
    "slideshow": {
     "slide_type": "slide"
    }
   },
   "source": [
    "### Reading by line\n",
    "If your file is too big to fully buffer it on memory or if you only one a few lines, the `read` function might be an overkill. Let's imagine that we only want the headers of the file (or the first line):"
   ]
  },
  {
   "cell_type": "code",
   "execution_count": 11,
   "metadata": {
    "comet_cell_id": "b7ac21a081871",
    "slideshow": {
     "slide_type": "fragment"
    }
   },
   "outputs": [
    {
     "name": "stdout",
     "output_type": "stream",
     "text": [
      "Column1,Column2,Column3\n",
      "\n"
     ]
    }
   ],
   "source": [
    "with open('afile.txt') as handle:\n",
    "    header = handle.readline()\n",
    "print(header)"
   ]
  },
  {
   "cell_type": "markdown",
   "metadata": {
    "comet_cell_id": "b7b5cefed2a2e",
    "slideshow": {
     "slide_type": "subslide"
    }
   },
   "source": [
    "#### What about reading the full file one line at a time?"
   ]
  },
  {
   "cell_type": "code",
   "execution_count": 13,
   "metadata": {
    "comet_cell_id": "ff4754b9a4c79",
    "slideshow": {
     "slide_type": "fragment"
    }
   },
   "outputs": [
    {
     "name": "stdout",
     "output_type": "stream",
     "text": [
      "Line 0 is Column1,Column2,Column3\n",
      "\n",
      "Line 1 is 1,2,3\n",
      "\n",
      "Line 2 is one,two,three\n",
      "\n",
      "Line 3 is uno,dos,tres\n",
      "\n"
     ]
    }
   ],
   "source": [
    "with open('afile.txt') as handle:\n",
    "    for line_num, line in enumerate(handle):\n",
    "        print(\"Line {} is {}\".format(line_num, line))"
   ]
  },
  {
   "cell_type": "code",
   "execution_count": null,
   "metadata": {
    "comet_cell_id": "960f89c796e8",
    "slideshow": {
     "slide_type": "subslide"
    }
   },
   "outputs": [],
   "source": [
    "..."
   ]
  },
  {
   "cell_type": "markdown",
   "metadata": {
    "comet_cell_id": "008cca369eb1",
    "slideshow": {
     "slide_type": "slide"
    }
   },
   "source": [
    "<center>\n",
    "<img src=\"quiz.png\"  width=\"820\" height=\"700\" align=\"center\"/>\n",
    "</center>"
   ]
  },
  {
   "cell_type": "markdown",
   "metadata": {
    "comet_cell_id": "fccc95b61c1cd",
    "slideshow": {
     "slide_type": "slide"
    }
   },
   "source": [
    "### Writing to files\n",
    "Before we go to processing, lets see how can we write to a file. So let's make a copy of `afile.txt`:"
   ]
  },
  {
   "cell_type": "code",
   "execution_count": 5,
   "metadata": {
    "comet_cell_id": "e27397078823f",
    "slideshow": {
     "slide_type": "fragment"
    }
   },
   "outputs": [],
   "source": [
    "with open('afile.txt', 'r') as rh, open('afile2.txt', 'w') as wh:\n",
    "    for line in rh:\n",
    "        wh.write(line)"
   ]
  },
  {
   "cell_type": "code",
   "execution_count": null,
   "metadata": {
    "comet_cell_id": "b92af6a04036a",
    "slideshow": {
     "slide_type": "subslide"
    }
   },
   "outputs": [],
   "source": [
    "..."
   ]
  },
  {
   "cell_type": "markdown",
   "metadata": {
    "comet_cell_id": "fe270c247814d",
    "slideshow": {
     "slide_type": "subslide"
    }
   },
   "source": [
    "#### Modes of opening file\n",
    "\n",
    "As you saw, the function `open` can be:\n",
    "1. Read mode (`r`): This is the default to read from a file\n",
    "2. Write mode (`w`): This will create **(or recreate)** a file to write to\n",
    "3. Append mode (`a`): This will open a file to write, but will append to the end of it instead of recreating"
   ]
  },
  {
   "cell_type": "markdown",
   "metadata": {
    "comet_cell_id": "8f4efe275e907",
    "slideshow": {
     "slide_type": "subslide"
    }
   },
   "source": [
    "These are the basic modes, and have the modifiers `b` to read/write in binary format and `+` to open the file for updating (reading and writing). The last two modes are a bit more advanced, and we will not cover them."
   ]
  },
  {
   "cell_type": "markdown",
   "metadata": {
    "comet_cell_id": "9609b080623c7",
    "slideshow": {
     "slide_type": "subslide"
    }
   },
   "source": [
    "What does append will look like and why would you like to use it? Say you have the `afile.txt` that you have created either upstream or by a completely different program, and you want to add a line:"
   ]
  },
  {
   "cell_type": "code",
   "execution_count": null,
   "metadata": {
    "comet_cell_id": "72d4b15cb5861",
    "slideshow": {
     "slide_type": "fragment"
    }
   },
   "outputs": [],
   "source": [
    "new_line = \"ichi,ni,san\"\n",
    "with open('afile2.txt', 'w') as wh, open('afile.txt', 'a') as ah:\n",
    "    wh.write(new_line)\n",
    "    ah.write(new_line)\n",
    "..."
   ]
  },
  {
   "cell_type": "markdown",
   "metadata": {
    "comet_cell_id": "aa65258adba43",
    "slideshow": {
     "slide_type": "slide"
    }
   },
   "source": [
    "<center>\n",
    "<img src=\"quiz.png\"  width=\"820\" height=\"700\" align=\"center\"/>\n",
    "</center>"
   ]
  },
  {
   "cell_type": "markdown",
   "metadata": {
    "comet_cell_id": "444b57a0311eb",
    "slideshow": {
     "slide_type": "slide"
    }
   },
   "source": [
    "### Processing data from files\n",
    "Say you want to write a program that reads a comma-delimited file with the numbers 1-3 in English, Spanish or Japanese. And let's say we want to output a different file with all in numerical versions in a **TAB**-delimited file:"
   ]
  },
  {
   "cell_type": "code",
   "execution_count": null,
   "metadata": {
    "comet_cell_id": "f68f360e5aee8",
    "slideshow": {
     "slide_type": "subslide"
    }
   },
   "outputs": [],
   "source": [
    "translate = dict(one=1, two=2, three=3,\n",
    "                 uno=1, dos=2, tres=3, \n",
    "                 ichi=1, ni=2, san=3)\n",
    "with open('afile.txt', 'r') as infile, open('output.txt', 'w') as outfile:\n",
    "    for line in infile:\n",
    "        ..."
   ]
  },
  {
   "cell_type": "markdown",
   "metadata": {
    "comet_cell_id": "fd1be43ce3f2f",
    "slideshow": {
     "slide_type": "subslide"
    }
   },
   "source": [
    "Let's say that instead we just want to have the file into a list of lists:"
   ]
  },
  {
   "cell_type": "code",
   "execution_count": null,
   "metadata": {
    "comet_cell_id": "7b6bbb8fc5381",
    "slideshow": {
     "slide_type": "fragment"
    }
   },
   "outputs": [],
   "source": [
    "..."
   ]
  },
  {
   "cell_type": "markdown",
   "metadata": {
    "comet_cell_id": "0ff091487152d",
    "slideshow": {
     "slide_type": "notes"
    }
   },
   "source": [
    "Introduce here a list comprehension"
   ]
  },
  {
   "cell_type": "markdown",
   "metadata": {
    "comet_cell_id": "02858e5d3ea22",
    "slideshow": {
     "slide_type": "slide"
    }
   },
   "source": [
    "### Pre-existing data structures\n",
    "CSV files are extremely common, and there are packages that will allow you to read and write easier. You need to import them though..."
   ]
  },
  {
   "cell_type": "code",
   "execution_count": 8,
   "metadata": {
    "comet_cell_id": "563312d78bf5d",
    "slideshow": {
     "slide_type": "subslide"
    }
   },
   "outputs": [
    {
     "name": "stdout",
     "output_type": "stream",
     "text": [
      "<_csv.reader object at 0x105df5b50>\n"
     ]
    }
   ],
   "source": [
    "import csv\n",
    "with open('afile.txt') as csvfile, open('afile3.txt', 'w') as outcsv:\n",
    "    reader = csv.reader(csvfile, delimiter=',', quotechar='\"')\n",
    "    writer = csv.writer(outcsv, delimiter=',')\n",
    "    for row in reader:\n",
    "        print(row)\n",
    "        writer.writerow([row])\n",
    "        \n"
   ]
  },
  {
   "cell_type": "code",
   "execution_count": null,
   "metadata": {
    "comet_cell_id": "2ddbc2033ed4e",
    "slideshow": {
     "slide_type": "subslide"
    }
   },
   "outputs": [],
   "source": [
    "import pandas as pd\n",
    "fi = pd.read_csv('afile.txt', sep=',', header=None)\n",
    "print(fi)\n",
    "fo = fi.write('afile4.txt', sep=',', header=False, index=False)"
   ]
  },
  {
   "cell_type": "markdown",
   "metadata": {
    "comet_cell_id": "e76ef6e1fcd9a",
    "slideshow": {
     "slide_type": "slide"
    }
   },
   "source": [
    "<center>\n",
    "<img src=\"quiz.png\"  width=\"820\" height=\"700\" align=\"center\"/>\n",
    "</center>"
   ]
  },
  {
   "cell_type": "markdown",
   "metadata": {
    "comet_cell_id": "624fefded3ee3",
    "slideshow": {
     "slide_type": "slide"
    }
   },
   "source": [
    "### Installing packages\n",
    "**The Python Package Index** or Pypi by:\n",
    "\n",
    "```bash\n",
    "pip install <package>\n",
    "```"
   ]
  },
  {
   "cell_type": "code",
   "execution_count": 9,
   "metadata": {
    "comet_cell_id": "2c063410828f",
    "slideshow": {
     "slide_type": "subslide"
    }
   },
   "outputs": [
    {
     "name": "stdout",
     "output_type": "stream",
     "text": [
      "\u001b[33mDEPRECATION: Python 2.7 will reach the end of its life on January 1st, 2020. Please upgrade your Python as Python 2.7 won't be maintained after that date. A future version of pip will drop support for Python 2.7.\u001b[0m\n",
      "Requirement already satisfied: pandas in /usr/local/lib/python2.7/site-packages (0.20.3)\n",
      "Requirement already satisfied: pytz>=2011k in /usr/local/lib/python2.7/site-packages (from pandas) (2017.2)\n",
      "Requirement already satisfied: numpy>=1.7.0 in /usr/local/lib/python2.7/site-packages (from pandas) (1.16.3)\n",
      "Requirement already satisfied: python-dateutil in /usr/local/Cellar/ipython/7.5.0/libexec/vendor/lib/python3.7/site-packages (from pandas) (2.8.0)\n",
      "Requirement already satisfied: six>=1.5 in /usr/local/Cellar/ipython/7.5.0/libexec/vendor/lib/python3.7/site-packages (from python-dateutil->pandas) (1.12.0)\n"
     ]
    }
   ],
   "source": [
    "!python3 -m pip install pandas"
   ]
  },
  {
   "cell_type": "markdown",
   "metadata": {
    "comet_cell_id": "8fc2ed86f0d8f",
    "slideshow": {
     "slide_type": "slide"
    }
   },
   "source": [
    "### Packages of note\n",
    "1. Pandas: Python Data Analysis Library\n",
    "2. Numpy: the fundamental package for scientific computing with Python\n",
    "3. Scipy: Scientific Library for Python\n",
    "4. Scikit-learn: Python's main machine learning library\n",
    "\n",
    "..."
   ]
  },
  {
   "cell_type": "markdown",
   "metadata": {
    "comet_cell_id": "cc96fb82bbae",
    "slideshow": {
     "slide_type": "slide"
    }
   },
   "source": [
    "## Base problem"
   ]
  },
  {
   "cell_type": "code",
   "execution_count": null,
   "metadata": {
    "comet_cell_id": "86936346fe10c",
    "slideshow": {
     "slide_type": "fragment"
    }
   },
   "outputs": [],
   "source": [
    "..."
   ]
  }
 ],
 "metadata": {
  "celltoolbar": "Slideshow",
  "comet_paths": [],
  "comet_tracking": true,
  "kernelspec": {
   "display_name": "Python 3",
   "language": "python",
   "name": "python3"
  },
  "language_info": {
   "codemirror_mode": {
    "name": "ipython",
    "version": 3
   },
   "file_extension": ".py",
   "mimetype": "text/x-python",
   "name": "python",
   "nbconvert_exporter": "python",
   "pygments_lexer": "ipython3",
   "version": "3.7.5"
  },
  "rise": {
   "footer": "<img src='SHRCPP.png' alt='SHARCNET logo'>"
  }
 },
 "nbformat": 4,
 "nbformat_minor": 2
}
