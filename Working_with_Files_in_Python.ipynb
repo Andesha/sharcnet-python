{
 "cells": [
  {
   "cell_type": "markdown",
   "metadata": {
    "comet_cell_id": "01b0205414063",
    "slideshow": {
     "slide_type": "slide"
    }
   },
   "source": [
    "# Working with Files in Python\n",
    "\n",
    "So far we just have explored the interpreter and some native data structure now we can start to actually work with data. \n",
    "\n",
    "Here we will talk about IO operations, let's starts with the _I_ in _IO_, the input."
   ]
  },
  {
   "cell_type": "markdown",
   "metadata": {
    "comet_cell_id": "f8d0ca0acce4b",
    "slideshow": {
     "slide_type": "slide"
    }
   },
   "source": [
    "Let's start first my creating a mock file with 4 lines: a header and 3 lines of \"data\". We will do this in the terminal (outside Python)"
   ]
  },
  {
   "cell_type": "code",
   "execution_count": 2,
   "metadata": {
    "comet_cell_id": "30dd1ae027c78",
    "slideshow": {
     "slide_type": "fragment"
    }
   },
   "outputs": [
    {
     "name": "stdout",
     "output_type": "stream",
     "text": [
      "Column1,Column2,Column3\r\n",
      "1,2,3\r\n",
      "one,two,three\r\n",
      "uno,dos,tres\r\n"
     ]
    }
   ],
   "source": [
    "!echo \"Column1,Column2,Column3\\n1,2,3\\none,two,three\\nuno,dos,tres\" > afile.txt\n",
    "!cat afile.txt"
   ]
  },
  {
   "cell_type": "markdown",
   "metadata": {
    "comet_cell_id": "2b2578809d973",
    "slideshow": {
     "slide_type": "subslide"
    }
   },
   "source": [
    "Now let's get into python and try to read this file:"
   ]
  },
  {
   "cell_type": "code",
   "execution_count": 8,
   "metadata": {
    "comet_cell_id": "ce605187c4023",
    "scrolled": true,
    "slideshow": {
     "slide_type": "fragment"
    }
   },
   "outputs": [
    {
     "name": "stdout",
     "output_type": "stream",
     "text": [
      "<_io.TextIOWrapper name='afile.txt' mode='r' encoding='UTF-8'>\n"
     ]
    }
   ],
   "source": [
    "handle = open('afile.txt')\n",
    "print(handle)"
   ]
  },
  {
   "cell_type": "code",
   "execution_count": 10,
   "metadata": {
    "comet_cell_id": "cd719c69912a4",
    "slideshow": {
     "slide_type": "fragment"
    }
   },
   "outputs": [
    {
     "name": "stdout",
     "output_type": "stream",
     "text": [
      "\n"
     ]
    }
   ],
   "source": [
    "text = handle.read()\n",
    "print(text)"
   ]
  },
  {
   "cell_type": "code",
   "execution_count": null,
   "metadata": {
    "comet_cell_id": "c5b1aa78dc132",
    "slideshow": {
     "slide_type": "fragment"
    }
   },
   "outputs": [],
   "source": [
    "...\n",
    "handle.close()"
   ]
  },
  {
   "cell_type": "markdown",
   "metadata": {
    "comet_cell_id": "91b3fe3fe67cf",
    "slideshow": {
     "slide_type": "notes"
    }
   },
   "source": [
    "Show the type of variable that text is, and point out the difference between handle and read. Also show that read exhaust the handle"
   ]
  },
  {
   "cell_type": "markdown",
   "metadata": {
    "comet_cell_id": "8dd52db5031a4",
    "slideshow": {
     "slide_type": "slide"
    }
   },
   "source": [
    "### Context manager\n",
    "Since you always have to remember (or should!!) to close files, let the context manager do it for you:"
   ]
  },
  {
   "cell_type": "code",
   "execution_count": null,
   "metadata": {
    "comet_cell_id": "da95ba4bcb4ca",
    "slideshow": {
     "slide_type": "fragment"
    }
   },
   "outputs": [],
   "source": [
    "with open('afile.txt') as handle:\n",
    "    text = handle.read()\n",
    "print(text)"
   ]
  },
  {
   "cell_type": "markdown",
   "metadata": {
    "comet_cell_id": "93414ce9c0694",
    "slideshow": {
     "slide_type": "slide"
    }
   },
   "source": [
    "<center>\n",
    "<img src=\"quiz.png\"  width=\"820\" height=\"700\" align=\"center\"/>\n",
    "</center>"
   ]
  },
  {
   "cell_type": "markdown",
   "metadata": {
    "comet_cell_id": "8dd52db5031a4",
    "slideshow": {
     "slide_type": "slide"
    }
   },
   "source": [
    "### Reading by line\n",
    "If your file is too big to fully buffer it on memory or if you only one a few lines, the `read` function might be an overkill. Let's imagine that we only want the headers of the file (or the first line):"
   ]
  },
  {
   "cell_type": "code",
   "execution_count": 11,
   "metadata": {
    "comet_cell_id": "b7ac21a081871",
    "slideshow": {
     "slide_type": "fragment"
    }
   },
   "outputs": [
    {
     "name": "stdout",
     "output_type": "stream",
     "text": [
      "Column1,Column2,Column3\n",
      "\n"
     ]
    }
   ],
   "source": [
    "with open('afile.txt') as handle:\n",
    "    header = handle.readline()\n",
    "print(header)"
   ]
  },
  {
   "cell_type": "markdown",
   "metadata": {
    "comet_cell_id": "b7b5cefed2a2e",
    "slideshow": {
     "slide_type": "subslide"
    }
   },
   "source": [
    "#### What about reading the full file one line at a time?"
   ]
  },
  {
   "cell_type": "code",
   "execution_count": 13,
   "metadata": {
    "comet_cell_id": "ff4754b9a4c79",
    "slideshow": {
     "slide_type": "fragment"
    }
   },
   "outputs": [
    {
     "name": "stdout",
     "output_type": "stream",
     "text": [
      "Line 0 is Column1,Column2,Column3\n",
      "\n",
      "Line 1 is 1,2,3\n",
      "\n",
      "Line 2 is one,two,three\n",
      "\n",
      "Line 3 is uno,dos,tres\n",
      "\n"
     ]
    }
   ],
   "source": [
    "with open('afile.txt') as handle:\n",
    "    for line_num, line in enumerate(handle):\n",
    "        print(\"Line {} is {}\".format(line_num, line))"
   ]
  },
  {
   "cell_type": "code",
   "execution_count": null,
   "metadata": {
    "comet_cell_id": "960f89c796e8"
   },
   "outputs": [],
   "source": []
  }
 ],
 "metadata": {
  "celltoolbar": "Slideshow",
  "comet_paths": [],
  "comet_tracking": true,
  "kernelspec": {
   "display_name": "Python 3",
   "language": "python",
   "name": "python3"
  },
  "language_info": {
   "codemirror_mode": {
    "name": "ipython",
    "version": 3
   },
   "file_extension": ".py",
   "mimetype": "text/x-python",
   "name": "python",
   "nbconvert_exporter": "python",
   "pygments_lexer": "ipython3",
   "version": "3.7.5"
  },
  "rise": {
   "footer": "<img src='SHRCPP.png' alt='SHARCNET logo'>"
  }
 },
 "nbformat": 4,
 "nbformat_minor": 2
}
