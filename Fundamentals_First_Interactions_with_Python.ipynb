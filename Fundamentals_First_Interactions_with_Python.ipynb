{
 "cells": [
  {
   "cell_type": "markdown",
   "metadata": {
    "comet_cell_id": "2a1dca51d709f",
    "slideshow": {
     "slide_type": "slide"
    }
   },
   "source": [
    "# Python fundamentals: First interaction with python "
   ]
  },
  {
   "cell_type": "markdown",
   "metadata": {
    "comet_cell_id": "1502e80247998",
    "slideshow": {
     "slide_type": "notes"
    }
   },
   "source": [
    "Welcome to the first module of Python Programming of the SHARCNET Summer School!! \n",
    "This lesson deals with the first interaction of Python starting at the built-in data-structures such as variables, lists, and dictionaries. We will build up the knowledge you need, even if is your first time doing serious programming."
   ]
  },
  {
   "cell_type": "markdown",
   "metadata": {
    "comet_cell_id": "2a1dca51d709f",
    "slideshow": {
     "slide_type": "subslide"
    }
   },
   "source": [
    "### Learning Objectives\n",
    "* Interact with the python interpreter.\n",
    "* Understand what is a variable, how to set it up, and manipulate it.\n",
    "* Use lists, tuples, and dictionaries in Python programs.\n",
    "* Read and manipulate data in the interpreter and in files.\n",
    "* Write loops and decision statements in Python.\n",
    "* Understand and write pure python functions."
   ]
  },
  {
   "cell_type": "markdown",
   "metadata": {
    "comet_cell_id": "e2f15ad262e4e",
    "slideshow": {
     "slide_type": "slide"
    }
   },
   "source": [
    "<center>\n",
    "<img src=\"quiz.png\"  width=\"820\" height=\"700\" align=\"center\"/>\n",
    "</center>"
   ]
  },
  {
   "cell_type": "markdown",
   "metadata": {
    "comet_cell_id": "02f663c669946",
    "slideshow": {
     "slide_type": "notes"
    }
   },
   "source": [
    "What are the name of your instructors?"
   ]
  },
  {
   "cell_type": "markdown",
   "metadata": {
    "slideshow": {
     "slide_type": "slide"
    }
   },
   "source": [
    "## Why Python? \n",
    "\n",
    "* Easy for humans to read\n",
    "* Fast to code with it\n",
    "* More efficient than other high-level programming languages\n",
    "* Growing community and community support\n"
   ]
  },
  {
   "cell_type": "markdown",
   "metadata": {
    "comet_cell_id": "ccb9ba057f399",
    "slideshow": {
     "slide_type": "notes"
    }
   },
   "source": [
    "Python is a general purpose scripting language, and therefore you can do most tasks with it, from GUI development to HPC applications. Python is a high level programming language, which means that has strong abstraction from the computer code (a.k.a humans can easily read it). Python syntax is even more akin to regular English than other programming languages such as C or Java, allowing the programmer to focus more on functionality. This is also why is said to be extremely readable, and readability is encourage among the \"Pythonistas\". One particularly useful property of Python is that is fully cross platform, meaning that, done correctly, the same program can be run in Windows, Mac, or Linux operating systems.\n"
   ]
  },
  {
   "cell_type": "markdown",
   "metadata": {
    "slideshow": {
     "slide_type": "slide"
    }
   },
   "source": [
    "## Getting started with python\n",
    "\n",
    "There are many ways to interact with python:\n",
    "\n",
    "* Python console: Just type `python` in the terminal\n",
    "* Ipython and variations: Provides a rich toolkit to help you make the most of using Python interactively (used here). After install, just type `ipython` or check Jupyter\n",
    "* Others"
   ]
  },
  {
   "cell_type": "markdown",
   "metadata": {
    "slideshow": {
     "slide_type": "slide"
    }
   },
   "source": [
    "## Variables in Python\n",
    "Let's imagine that you want to store some numbers. In Python:"
   ]
  },
  {
   "cell_type": "code",
   "execution_count": null,
   "metadata": {
    "slideshow": {
     "slide_type": "fragment"
    }
   },
   "outputs": [],
   "source": [
    "..."
   ]
  },
  {
   "cell_type": "markdown",
   "metadata": {
    "slideshow": {
     "slide_type": "slide"
    }
   },
   "source": [
    "### Types of variables\n",
    "In Python you can query the type a variable belongs to using the `type` functions. Native functions in python are invoked with the parenthesis sintax:"
   ]
  },
  {
   "cell_type": "code",
   "execution_count": null,
   "metadata": {
    "slideshow": {
     "slide_type": "fragment"
    }
   },
   "outputs": [],
   "source": [
    "type(x)\n",
    "type(y)"
   ]
  },
  {
   "cell_type": "markdown",
   "metadata": {
    "slideshow": {
     "slide_type": "subslide"
    }
   },
   "source": [
    "Basic types in python include:\n",
    "* Integers: The integer part of a number\n",
    "* Floats or Floating-Point Numbers: Decimal numbers\n",
    "* Complex Numbers: Numbers including imaginary ones\n",
    "* Strings: A sequence of characters\n",
    "* Logical or Boolean: Has only two states `True` or `False`"
   ]
  },
  {
   "cell_type": "code",
   "execution_count": null,
   "metadata": {
    "slideshow": {
     "slide_type": "subslide"
    }
   },
   "outputs": [],
   "source": [
    "i = 10 # Integers\n",
    "print(type(i))\n",
    "f = 5.5 # floats\n",
    "print(type(f))\n",
    "c = 3j # complex\n",
    "print(type(c))\n",
    "s = 'ABC' # String\n",
    "print(type(s))\n",
    "b = True # Boolean\n",
    "print(type(b))"
   ]
  },
  {
   "cell_type": "markdown",
   "metadata": {
    "comet_cell_id": "111b903d12cca",
    "slideshow": {
     "slide_type": "notes"
    }
   },
   "source": [
    "### Integers\n",
    "As the name classifies this data type is reserved for integer numbers. As you possibly know, integers cannot not have decimal places, as this type of data is discrete. The distinction that Python (and most other programming languages) do between integers and decimals (called floats in python, see below) is that they occupy different amount of memory, and therefore they are different class of objects. However, you can do any mathematical operation using floats and integers.\n",
    "\n",
    "### Floats\n",
    "As you probably already know, float is a data type designated for numbers with decimal places. `1.5` is considered a float, but also `1.0`. Both integers and floats have to be designated **without quotation marks**, otherwise Python will interpret them as strings. To understand this better let's do another exercise.\n"
   ]
  },
  {
   "cell_type": "markdown",
   "metadata": {
    "comet_cell_id": "71224216d9c9b",
    "slideshow": {
     "slide_type": "slide"
    }
   },
   "source": [
    "<center>\n",
    "<img src=\"quiz.png\"  width=\"820\" height=\"700\" align=\"center\"/>\n",
    "</center>"
   ]
  },
  {
   "cell_type": "markdown",
   "metadata": {
    "comet_cell_id": "2dc1f0ad15987",
    "slideshow": {
     "slide_type": "notes"
    }
   },
   "source": [
    "Q1: Variables, Python (a = b = 10)"
   ]
  },
  {
   "cell_type": "markdown",
   "metadata": {
    "slideshow": {
     "slide_type": "slide"
    }
   },
   "source": [
    "### Modifying the type\n",
    "Some transformations of variables are allowed:"
   ]
  },
  {
   "cell_type": "code",
   "execution_count": null,
   "metadata": {
    "slideshow": {
     "slide_type": "fragment"
    }
   },
   "outputs": [],
   "source": [
    "..."
   ]
  },
  {
   "cell_type": "markdown",
   "metadata": {
    "comet_cell_id": "fe3eef8b9dc1e",
    "slideshow": {
     "slide_type": "notes"
    }
   },
   "source": [
    "So to transform variables to one another, they need to be of the same kind. A string with numbers can be transformed into floats or integers, but any other character can't.\n",
    "\n",
    "Another example, let's transform the float in variable `y` into a string and an integer using the functions `str()` and `int()`:\n",
    "```python\n",
    "y1 = str(y) # Transform float into string\n",
    "y2 = int(y) # Transform float into integer\n",
    "```\n",
    "\n",
    "To recap, using the `print` function and the `type` function we learned before, print the type and values of `y`, `y1` and `y2`:"
   ]
  },
  {
   "cell_type": "code",
   "execution_count": null,
   "metadata": {
    "comet_cell_id": "6687a025f6431",
    "slideshow": {
     "slide_type": "notes"
    }
   },
   "outputs": [],
   "source": [
    "print('y is of type', type(y), 'with value', y)\n",
    "print('y1 is of type', type(y1), 'with value', y1)\n",
    "print('y2 is of type', type(y2), 'with value', y2)\n"
   ]
  },
  {
   "cell_type": "markdown",
   "metadata": {
    "slideshow": {
     "slide_type": "slide"
    }
   },
   "source": [
    "### Operations with variables\n",
    "Within type operations are allowed, but cross-type operations will depend:"
   ]
  },
  {
   "cell_type": "code",
   "execution_count": null,
   "metadata": {
    "comet_cell_id": "3dec55a1e7d53",
    "slideshow": {
     "slide_type": "fragment"
    }
   },
   "outputs": [],
   "source": [
    "..."
   ]
  },
  {
   "cell_type": "code",
   "execution_count": null,
   "metadata": {
    "comet_cell_id": "f78861ead51a3",
    "hide_input": true,
    "slideshow": {
     "slide_type": "fragment"
    }
   },
   "outputs": [],
   "source": [
    "x = 10,\n",
    "y = 'string'\n",
    "print( ... )"
   ]
  },
  {
   "cell_type": "markdown",
   "metadata": {
    "comet_cell_id": "456d48987406d",
    "slideshow": {
     "slide_type": "notes"
    }
   },
   "source": [
    "Likewise, operations (such as concatenation/addition, subtraction, etc) can only been done in same types. For example, mathematical operations can only been done between numeric types (complex, floats and integers), and not with strings."
   ]
  },
  {
   "cell_type": "markdown",
   "metadata": {
    "comet_cell_id": "e8b54306552ec",
    "slideshow": {
     "slide_type": "notes"
    }
   },
   "source": [
    "To recap and a few points to note:\n",
    "1. A float will be rounded down to the lowest integer when transformed to integer\n",
    "2. An integer would be given a zero decimal when transformed to float\n",
    "3. **Only** strings that contain numerical values can be transformed to either integer or float\n",
    "4. _bonus_: `#` can be used in python to write comments in the code. I strongly recommend you thoroughly comment your code.\n",
    "5. _bonus2_: When Python code fails, it output different kinds of error. We saw in points 8 and 9 that when the value is not correct we get a `ValueError`. Check the Python documentation for more errors!"
   ]
  },
  {
   "cell_type": "markdown",
   "metadata": {
    "slideshow": {
     "slide_type": "slide"
    }
   },
   "source": [
    "<center>\n",
    "<img src=\"quiz.png\"  width=\"820\" height=\"700\" align=\"center\"/>\n",
    "</center>"
   ]
  },
  {
   "cell_type": "markdown",
   "metadata": {
    "comet_cell_id": "759e2ad5da1aa",
    "slideshow": {
     "slide_type": "notes"
    }
   },
   "source": [
    "Q2: What string conversion works, etc"
   ]
  },
  {
   "cell_type": "markdown",
   "metadata": {
    "comet_cell_id": "19acf5a18fdba",
    "slideshow": {
     "slide_type": "slide"
    }
   },
   "source": [
    "## Containers or basic data structures\n",
    "We now reminded ourselves of what is a variable and what kind of types a variable can have. Now, what if we want to \"bundle\" some of those variables? How can I store them? For this, python has 3 basic containers: lists, dictionaries, and tuples. "
   ]
  },
  {
   "cell_type": "markdown",
   "metadata": {
    "comet_cell_id": "50795715c43d7",
    "slideshow": {
     "slide_type": "slide"
    }
   },
   "source": [
    "### Lists\n",
    "A list is an ordered sequence of elements, and those elements are normally variables. This data structure is mutable or changeable. Also you can iterate over it to retrieve your data or access one item at a time. "
   ]
  },
  {
   "cell_type": "code",
   "execution_count": null,
   "metadata": {
    "slideshow": {
     "slide_type": "fragment"
    }
   },
   "outputs": [],
   "source": [
    "..."
   ]
  },
  {
   "cell_type": "markdown",
   "metadata": {
    "comet_cell_id": "9fef184a581d9",
    "slideshow": {
     "slide_type": "notes"
    }
   },
   "source": [
    "So, lists are represented as comma separated variables between square brackets (`[var1, var2, var3]`). The variables can be of any type, including other containers, and objects."
   ]
  },
  {
   "cell_type": "markdown",
   "metadata": {
    "comet_cell_id": "283b99b524235",
    "slideshow": {
     "slide_type": "subslide"
    }
   },
   "source": [
    "#### Indexing: Retrieving elements from the list\n",
    "To _index_ the first element in the list we call the name of the list and the number of the element between square brackets"
   ]
  },
  {
   "cell_type": "code",
   "execution_count": null,
   "metadata": {
    "slideshow": {
     "slide_type": "fragment"
    }
   },
   "outputs": [],
   "source": [
    "..."
   ]
  },
  {
   "cell_type": "markdown",
   "metadata": {
    "comet_cell_id": "7dcbb97dea8b1",
    "hide_input": true,
    "slideshow": {
     "slide_type": "notes"
    }
   },
   "source": [
    "To recap:\n",
    "1. We can construct a list by typing variables or data between square brackets separated by comma:\n",
    "```python\n",
    "# create a lits\n",
    "alist = ['a', 'b', 3]\n",
    "```\n",
    "2. You can retrieve the items in the list by indexing the list:\n",
    "```python\n",
    "# Retrieve the first element of the list\n",
    "item1 = alist[0]\n",
    "```\n",
    "**NOTE: Python indexing starts at 0**\n",
    "\n",
    "3. Now we can print the first element:\n",
    "```python\n",
    "print('The first item is', item1)\n",
    "```\n",
    "\n",
    "4. What if I want say the first two? we can use a special kind of indexing called slicing:\n",
    "```python\n",
    "print(alist[:2])\n",
    "```\n",
    "**Note that you could write 0 or blank and in both cases it will retrieve the slice. Also note that the last index is not included on the result.**\n",
    "5. What if we want the last two? We can also have a slice if we use a negative number:\n",
    "```python\n",
    "print(alist[:-2])\n",
    "```"
   ]
  },
  {
   "cell_type": "markdown",
   "metadata": {
    "comet_cell_id": "386b0ee67f6ec",
    "slideshow": {
     "slide_type": "subslide"
    }
   },
   "source": [
    "#### Iterating over a list\n",
    "Oftentimes you will find yourself with very long lists. In these cases indexing and slicing the list one at a time is not very efficient. "
   ]
  },
  {
   "cell_type": "code",
   "execution_count": null,
   "metadata": {
    "slideshow": {
     "slide_type": "fragment"
    }
   },
   "outputs": [],
   "source": [
    "..."
   ]
  },
  {
   "cell_type": "markdown",
   "metadata": {
    "slideshow": {
     "slide_type": "notes"
    }
   },
   "source": [
    "Imagine you want to go over a list, and apply and print a modification to each item. If you do it one by one, it will take a lot of code an a lot of time. Let's say that you have a list of numbers and you want to know what is the result of each item after elevating each number to the power of two and then subtracting two:\n",
    "1. Let's create a list of numbers from 0 to 20. Python have a very convenient function called `range` to do this:\n",
    "```python\n",
    "numbers = range(10)\n",
    "```\n",
    "However, the function `range` returns a special type of container also called so if we print this container we get:\n",
    "```python\n",
    "print(numbers)\n",
    "```\n",
    "2. Transform the range into a list. Luckily for you there is the function `list` which will give us the list of number in the range:\n",
    "```python\n",
    "numberlist = list(numbers)\n",
    "print(numberlist)\n",
    "```\n",
    "3. Now that we have the list we can go over it with a for loop. Let's first enumerate all the items using the `enumerate()` function and print each enumeration:\n",
    "```python\n",
    "# Iterate over the list enumerating the items\n",
    "for index, item in enumerate(numberlist):\n",
    "    print('Item', index, 'is', item)\n",
    "```\n",
    "\n",
    "4. Now we can iterate over the list, compute the square of the number minus 2:\n",
    "```python\n",
    "# Iterate over the items and compute the squared minus 2\n",
    "for index, item in enumerate(numberlist):\n",
    "    print('(item%d^2) - 2 =' % (index), (item**2)-2)\n",
    "```\n",
    "\n",
    "Recap\n",
    "we cover many new tricks!!:\n",
    "* We can go over a list with a for loop\n",
    "* Two new function: `range()` which creates a range of numbers, and `enumerate()` that enumerates every item in a container\n",
    "* One subtle trick was displayed in step 4, did you see it? when we wanted to print the value of `index `inside of the string `(item%d^2) - 2 =`, we use a trick called string formatting, that allows you to include things in a string. You can use it to include strings by using `%s`, integers by using `%d`, and floats by using `%f`. The replacing variable have to be put outside of the string after a percentage sign (`%`). There are more advance usages and I will encourage you to check the Python documentation on string formatting, it is very useful!!\n",
    "\n",
    "Now it is important to introduce mutability of containers. Containers such as _lists_ and _dictionaries_ are mutable, meaning that can be modified without re-writing them. _Tuples_ on the other hand, cannot be modified. We will see more of _dictionaries_ and _tuples_ in their corresponding sections. For now, let's understand mutable lists through an exercise."
   ]
  },
  {
   "cell_type": "markdown",
   "metadata": {
    "comet_cell_id": "91729d81a4124",
    "slideshow": {
     "slide_type": "subslide"
    }
   },
   "source": [
    "#### Mutating lists\n",
    "Suppose that you have a list of three colors `Red`, `Blue`, and `Green`. Let's imagine that you actually want the primary colors. In this case you have to replace `Green` by `Yellow`."
   ]
  },
  {
   "cell_type": "code",
   "execution_count": null,
   "metadata": {
    "comet_cell_id": "10e9529b7ab46",
    "slideshow": {
     "slide_type": "fragment"
    }
   },
   "outputs": [],
   "source": [
    "colorlist = [\"Red\", \"Blue\", \"Green\"]\n",
    "for index, color in enumerate(colorlist):\n",
    "    print('Color {} is in index {}'.format(i, color))\n",
    "..."
   ]
  },
  {
   "cell_type": "markdown",
   "metadata": {
    "comet_cell_id": "929675ec4432f",
    "slideshow": {
     "slide_type": "subslide"
    }
   },
   "source": [
    "Let's also imagine that you want to add `Purple` and `Grey` at the end of the list:"
   ]
  },
  {
   "cell_type": "code",
   "execution_count": null,
   "metadata": {
    "comet_cell_id": "64a64aeeebda6",
    "slideshow": {
     "slide_type": "fragment"
    }
   },
   "outputs": [],
   "source": [
    "..."
   ]
  },
  {
   "cell_type": "markdown",
   "metadata": {
    "comet_cell_id": "6a2a15aff5905",
    "slideshow": {
     "slide_type": "notes"
    }
   },
   "source": [
    "Now you get how to get items from a list through indexing. For completion sake, let's say we want to spell the last color in the list. Of course we can just write it down in a print statement if we know what it is, but in cases where you don't know you can do something like this:\n",
    "```python\n",
    "# Get the last element with negative indexing\n",
    "last = colorlist[-1]\n",
    "# convert the string Gray into a list of characters using the function list\n",
    "chars = list(last)\n",
    "# print the spelling of the last item in colorlist\n",
    "print('The color %s is spelled:' % last)\n",
    "for character in chars:\n",
    "    print(character)\n",
    "```\n",
    "So far we have seen that:\n",
    "1. Any element in a list can be mutated (replaced) by something else without redefining the rest of the elements\n",
    "2. Lists have a method called `append` to append elements at the end of the list\n",
    "3. The function `list()` can be used to turn string into a list of characters\n",
    "\n",
    "I encourage you to check the python documentation on lists and other methods that are very useful such as `extend()`, `pop()`, `index()`, etc.\n",
    "\n",
    "Lists are very useful data structures, however, it can become cumbersome when you don't know the exact index and you want to access a given value. Looping over a very big list can also be very slow, if you want just a given set of values. For this, we can use another very useful data structure called dictionaries."
   ]
  },
  {
   "cell_type": "markdown",
   "metadata": {
    "comet_cell_id": "a0b0319e89433",
    "slideshow": {
     "slide_type": "slide"
    }
   },
   "source": [
    "### Dictionaries\n",
    "A dictionary is basically a map between pairs of objects. It is also a mutable object, meaning that you can change its values at any time. Dictionaries work in a key-and-lock fashion, where with a particular key you point to a value:"
   ]
  },
  {
   "cell_type": "code",
   "execution_count": null,
   "metadata": {
    "comet_cell_id": "1077187ece433",
    "slideshow": {
     "slide_type": "fragment"
    }
   },
   "outputs": [],
   "source": [
    "adict = {\"Red\":3, \"Blue\":4, \"Green\":5, \"Yellow\":6, \"Purple\":6, \"Grey\":4}\n",
    "..."
   ]
  },
  {
   "cell_type": "markdown",
   "metadata": {
    "comet_cell_id": "9c7e658eb97e4",
    "slideshow": {
     "slide_type": "notes"
    }
   },
   "source": [
    "**NOTE: Dictionaries are not sorted**\n",
    "\n",
    "To recap, different than lists, dictionaries are built either by having variables in between curly brackets (`{key1:var1, key2:var2, key3:var3}`), or by using the built in function `dict` (`dict(key1=var1, key2=var2, key3=var3`). As you can see, you need to provide a key and a value. You can access the value with that particular key. Dictionaries, like lists, also have useful methods that allow you to access the keys, the values, or both. This methods are called `keys()`, `values()`, `items()`. So if your dictionary is called `d`, and you want only the keys, you will call the method `d.keys()`. Likewise if you only want the values you can use `d.values()` to access them. If you want to get pairs, you can use `d.items()`. "
   ]
  },
  {
   "cell_type": "markdown",
   "metadata": {
    "comet_cell_id": "2b388154ea739",
    "hide_input": true,
    "slideshow": {
     "slide_type": "subslide"
    }
   },
   "source": [
    "#### Creating and looping over dictionaries\n",
    "Let's assume that you are creating a phone book and want to retrieve and modify its contents:"
   ]
  },
  {
   "cell_type": "code",
   "execution_count": null,
   "metadata": {
    "comet_cell_id": "4451b2da70bc6",
    "slideshow": {
     "slide_type": "fragment"
    }
   },
   "outputs": [],
   "source": [
    "phonebook = {'Bob': 5146012356, 'Stacy': 9024896778, 'John': 9099788563}\n",
    "# Retrieve Stacy's number, and modify it from 9024896778 to 9024896779\n",
    "...\n",
    "#print(phonebook['Kelly'])"
   ]
  },
  {
   "cell_type": "markdown",
   "metadata": {
    "comet_cell_id": "0cb57e61f9309",
    "slideshow": {
     "slide_type": "notes"
    }
   },
   "source": [
    "For completion, let's imagine you would like to include other friend after the phone book is created without having to re-type all the entries. \n",
    "\n",
    "```python\n",
    "# Add Kelly's number\n",
    "phonebook['Kelly'] = 901526956\n",
    "# Print Kelly's number\n",
    "print(\"The added Kelly's number is\", phonebook['Kelly'])\n",
    "# Iterate over the key-value pair\n",
    "for name, number in phonebook.items():\n",
    "    print(\"%s's number is %d\" % (name, number))\n",
    "```\n",
    "In this example we can see that:\n",
    "1. We can access a dictionary's value with a key\n",
    "2. Dictionaries have the attribute items, which returns the key-value pair\n",
    "3. Dictionaries have the attribute keys which returns an iterable with the keys\n",
    "4. Dictionaries can be modified by calling the key and assigning a new value\n",
    "5. You can add a new key value pair by calling the dictionary with the new key pointing to a value\n",
    "6. _Bonus_: Did you see that the last print have a string formatting with two variables? did you see that you can pass a tuple of arguments to that string formatting? We will get to tuples later, but keep an eye on it.\n",
    "\n",
    "It is important to notice that dictionaries, unlike lists, do not keep any particular order in their keys."
   ]
  },
  {
   "cell_type": "markdown",
   "metadata": {
    "comet_cell_id": "764dee76d2704",
    "slideshow": {
     "slide_type": "slide"
    }
   },
   "source": [
    "### Tuples\n",
    "Tuples are container just like lists, but are immutable. This means that once it is created you cannot modify its contents without re-writing the object. To define `tuples` you can enclose a set of variables between parenthesis (`()`)"
   ]
  },
  {
   "cell_type": "code",
   "execution_count": null,
   "metadata": {
    "comet_cell_id": "8e8368475e4a7",
    "slideshow": {
     "slide_type": "subslide"
    }
   },
   "outputs": [],
   "source": [
    "# Define red fruits\n",
    "red = ('Apple', 'Strawberry', 'Raspberry')\n",
    "# Define green fruits\n",
    "green = ('Pear', 'Avocado')\n",
    "# Print them\n",
    "print(red)\n",
    "print(green)"
   ]
  },
  {
   "cell_type": "markdown",
   "metadata": {
    "comet_cell_id": "2694826d2c60f",
    "slideshow": {
     "slide_type": "notes"
    }
   },
   "source": [
    "Tuples are very useful when you need to guarantee that a given grouping will not be modified by the code. Tuples are also used in string formatting, and to pack and unpack variables (this is to advanced for this lesson, but you can go ahead and look it up!). Items stored in tuples can be accessed just like we did with lists, but unlike lists we cannot assign new content in the place of another.\n"
   ]
  },
  {
   "cell_type": "code",
   "execution_count": null,
   "metadata": {
    "slideshow": {
     "slide_type": "subslide"
    }
   },
   "outputs": [],
   "source": [
    "..."
   ]
  },
  {
   "cell_type": "markdown",
   "metadata": {
    "comet_cell_id": "09690f97dcd04",
    "slideshow": {
     "slide_type": "notes"
    }
   },
   "source": [
    "We can access the items by index, just like lists. Let's access the second element on the red fruits (Strawberry), and then let just enumerate both tuples:\n",
    "```python\n",
    "# print the second element in red\n",
    "print(red[1])\n",
    "# Enumerate all fruits in red\n",
    "print('Fruits in container red are:')\n",
    "for index, fruit in enumerate(red):\n",
    " print('Fruit %d in red is %s' % (index, fruit))\n",
    "# Enumerate all fruits in green\n",
    "print('Fruits in container green are:')\n",
    "for index, fruit in enumerate(green):\n",
    " print('Fruit %d in green is %s' % (index, fruit))\n",
    "```"
   ]
  },
  {
   "cell_type": "markdown",
   "metadata": {
    "comet_cell_id": "e75b50fdd8a87",
    "slideshow": {
     "slide_type": "subslide"
    }
   },
   "source": [
    "But tuples cannot be modified, but is it true? let's try to replace Apple with cherry:"
   ]
  },
  {
   "cell_type": "code",
   "execution_count": null,
   "metadata": {
    "comet_cell_id": "88ed87eeb3aa6",
    "slideshow": {
     "slide_type": "fragment"
    }
   },
   "outputs": [],
   "source": [
    "red[0] = 'Cherry'"
   ]
  },
  {
   "cell_type": "markdown",
   "metadata": {
    "slideshow": {
     "slide_type": "slide"
    }
   },
   "source": [
    "### Booleans\n",
    "A boolean expression (or logical expression) evaluates to one of two states true or false"
   ]
  },
  {
   "cell_type": "code",
   "execution_count": null,
   "metadata": {
    "slideshow": {
     "slide_type": "fragment"
    }
   },
   "outputs": [],
   "source": [
    "..."
   ]
  },
  {
   "cell_type": "markdown",
   "metadata": {
    "slideshow": {
     "slide_type": "notes"
    }
   },
   "source": [
    "Every object has a boolean value. The following elements are false:\n",
    "* None\n",
    "* False\n",
    "* 0 (whatever type from integer, float to complex)\n",
    "* Empty collections: “”, (), [], {}\n",
    "* Objects from classes that have the special method __nonzero__\n",
    "* Objects from classes that implements __len__ to return False or zero"
   ]
  },
  {
   "cell_type": "markdown",
   "metadata": {
    "slideshow": {
     "slide_type": "subslide"
    }
   },
   "source": [
    "#### Evaluating booleans: Conditional statements\n",
    "The importance of booleans is that you can evaluate variables and execute conditional code:"
   ]
  },
  {
   "cell_type": "code",
   "execution_count": null,
   "metadata": {
    "slideshow": {
     "slide_type": "fragment"
    }
   },
   "outputs": [],
   "source": [
    "..."
   ]
  },
  {
   "cell_type": "markdown",
   "metadata": {
    "slideshow": {
     "slide_type": "subslide"
    }
   },
   "source": [
    "Several operations also evaluate logically: Comparison, membership, and identity."
   ]
  },
  {
   "cell_type": "code",
   "execution_count": null,
   "metadata": {
    "slideshow": {
     "slide_type": "fragment"
    }
   },
   "outputs": [],
   "source": [
    "..."
   ]
  },
  {
   "cell_type": "markdown",
   "metadata": {
    "slideshow": {
     "slide_type": "notes"
    }
   },
   "source": [
    "**Comparison operators**\n",
    "The <, <=, >, >=, ==, != operators compare the values of 2 objects and returns True or False. Comparison depends on the type of the objects. See the Classes to see how to refedine the comparison operator of a type.\n",
    "```python\n",
    "10 == 10\n",
    "10 <= 10\n",
    "```\n",
    "\n",
    "**Chaining comparison operators**\n",
    "Comparison operators can be chained. Consider the following examples:\n",
    "```python\n",
    ">>> x = 2\n",
    ">>> 1 < x < 3\n",
    "True\n",
    ">>> 10 < x < 20\n",
    "False\n",
    ">>> 3 > x <= 2\n",
    "True\n",
    ">>> 2 == x < 4\n",
    "True\n",
    "```\n",
    "The comparison is performed between each pair of terms to be evaluated. For instance in the first example, 1<x is evaluated to True AND x<2 is evaluated. It is not as if 1<x is evaluated to True and then True<3 is evaluated to True !!! Each term is evaluated once.\n",
    "\n",
    "**Evaluation of logical and comparison operators and membership operators**\n",
    "The evaluation using the and and or operators follow these rules:\n",
    "\n",
    "and and or evaluates expression from left to right.\n",
    "with and, if all values are True, returns the last evaluated value. If any value is false, returns the first one.\n",
    "or returns the first True value. If all are False, returns the last value\n",
    "\n",
    "**Membership operators**\n",
    "in evaluates to True if it finds a variable in a specified sequence and false otherwise.\n",
    "not in evaluates to False if it finds a variable in a sequence, True otherwise.\n",
    "```python\n",
    ">>> 'good' in 'this is a great example'\n",
    "False\n",
    ">>> 'good' not in 'this is a great example'\n",
    "True\n",
    "```\n",
    "**Identity operators**\n",
    "is evaluates to True if the variables on either side of the operator point to the same object and False otherwise\n",
    "is not evaluates to False if the variables on either side of the operator point to the same object and True otherwise\n",
    "```python\n",
    ">>> p = 'hello'\n",
    ">>> ps = p\n",
    ">>> ps is p\n",
    "True\n",
    "```"
   ]
  },
  {
   "cell_type": "markdown",
   "metadata": {
    "comet_cell_id": "a1ad7945eb048",
    "slideshow": {
     "slide_type": "slide"
    }
   },
   "source": [
    "<center>\n",
    "<img src=\"quiz.png\"  width=\"820\" height=\"700\" align=\"center\"/>\n",
    "</center>"
   ]
  },
  {
   "cell_type": "markdown",
   "metadata": {
    "comet_cell_id": "44d0944b72321",
    "slideshow": {
     "slide_type": "notes"
    }
   },
   "source": [
    "Q3: Which line prints?"
   ]
  },
  {
   "cell_type": "markdown",
   "metadata": {
    "comet_cell_id": "0929224f44764",
    "slideshow": {
     "slide_type": "slide"
    }
   },
   "source": [
    "### Converting between data structures\n",
    "You can convert a tuple to a list, a list to a tuple, and you can convert a list of tuples into a dictionary. You can also convert a dictionary to a list, but only the keys will be displayed."
   ]
  },
  {
   "cell_type": "code",
   "execution_count": null,
   "metadata": {
    "comet_cell_id": "f7d2a74da17b5"
   },
   "outputs": [],
   "source": [
    "fruits = ('Apple', 'Banana', 'Pear')\n",
    "fruits = list(fruits)\n",
    "..."
   ]
  },
  {
   "cell_type": "code",
   "execution_count": null,
   "metadata": {
    "comet_cell_id": "7b862f36bf676",
    "hide_input": true,
    "slideshow": {
     "slide_type": "fragment"
    }
   },
   "outputs": [],
   "source": [
    "# create a tuple\n",
    "fruits = ('Apple', 'Banana', 'Pear')\n",
    "#loop over it and print the fruits\n",
    "print('Fruits available in tuple:')\n",
    "for fruit in fruits:\n",
    "    print(fruit)\n",
    "..."
   ]
  },
  {
   "cell_type": "markdown",
   "metadata": {
    "comet_cell_id": "c01b35656802a",
    "slideshow": {
     "slide_type": "notes"
    }
   },
   "source": [
    "You can also create a list of tuples and transform it into a dictionary using the `dict()` function. Also, let's use the `list()` function to make a list of the keys in the newly created dictionary:\n",
    "```python\n",
    "# Create a list of tuple pairs and convert it to dictionary\n",
    "fruitsncolor = [('Apple', 'Red'), ('Banana', 'Yellow'), ('Pear', 'Green')]\n",
    "print(fruitsncolor)\n",
    "# Convert the list of tuples into a dictionary and print it\n",
    "d = dict(fruitsncolor)\n",
    "print(d)\n",
    "# Print the list of keys\n",
    "print('Fruits in dictionary', list(d))\n",
    "```\n",
    "Here we just showed you that if you provide the key-value pair in a list, you can generate a dictionary with the `dict` function. I also showed you that you can go back and forth from tuples to lists with the functions `list` and `tuple`."
   ]
  },
  {
   "cell_type": "markdown",
   "metadata": {
    "slideshow": {
     "slide_type": "slide"
    }
   },
   "source": [
    "#### Recap\n",
    "In this section we also saw that lists are represented with square brackets (`[]`), dictionaries with curly brackets (`{}`) and tuples with parenthesis (`()`). All these data structures (including strings) have very useful functions that we will not cover here, but I encourage you to explore before continuing. You can visit the [Python documentation](https://docs.python.org/3/tutorial/datastructures.html) for more information."
   ]
  },
  {
   "cell_type": "markdown",
   "metadata": {
    "slideshow": {
     "slide_type": "slide"
    }
   },
   "source": [
    "### Loops\n",
    "When you have to repeat an action a number of times, you need to *loop* over the task. We inderectly have seen one kind of looping before called *_for loop_*"
   ]
  },
  {
   "cell_type": "code",
   "execution_count": null,
   "metadata": {
    "slideshow": {
     "slide_type": "fragment"
    }
   },
   "outputs": [],
   "source": [
    "n_simulations = 10\n",
    "for simulation in range(n_simulations):\n",
    "    print('Permorming simulation', simulation)"
   ]
  },
  {
   "cell_type": "markdown",
   "metadata": {
    "slideshow": {
     "slide_type": "subslide"
    }
   },
   "source": [
    "What about if you do not have a set number of items you want to loop? what if you want to execute lines of code until some condition becomes False?\n",
    "#### while loop"
   ]
  },
  {
   "cell_type": "code",
   "execution_count": null,
   "metadata": {
    "slideshow": {
     "slide_type": "fragment"
    }
   },
   "outputs": [],
   "source": [
    "current_number = 0\n",
    "while current_number < 10:\n",
    "    print(\"Current number is\", current_number)\n",
    "    current_number += 1"
   ]
  },
  {
   "cell_type": "markdown",
   "metadata": {
    "slideshow": {
     "slide_type": "subslide"
    }
   },
   "source": [
    "#### Flow control\n",
    "<center>\n",
    "<img src=\"https://automatetheboringstuff.com/images/000105.jpg\" width=\"500\" height=\"600\" align=\"center\"/>\n",
    "</center>"
   ]
  },
  {
   "cell_type": "code",
   "execution_count": null,
   "metadata": {
    "slideshow": {
     "slide_type": "subslide"
    }
   },
   "outputs": [],
   "source": [
    "..."
   ]
  },
  {
   "cell_type": "markdown",
   "metadata": {
    "slideshow": {
     "slide_type": "notes"
    }
   },
   "source": [
    "BEWARE of while true or while number, it will create infinite loops, unless you break it."
   ]
  },
  {
   "cell_type": "markdown",
   "metadata": {
    "comet_cell_id": "13c5a72e9506a",
    "slideshow": {
     "slide_type": "slide"
    }
   },
   "source": [
    "<center>\n",
    "<img src=\"quiz.png\"  width=\"820\" height=\"700\" align=\"center\"/>\n",
    "</center>"
   ]
  },
  {
   "cell_type": "markdown",
   "metadata": {
    "comet_cell_id": "e7beadd48ca0e",
    "slideshow": {
     "slide_type": "notes"
    }
   },
   "source": [
    "Q4: What does this produce (loop building list, nested maybe)"
   ]
  },
  {
   "cell_type": "markdown",
   "metadata": {
    "slideshow": {
     "slide_type": "slide"
    }
   },
   "source": [
    "### Functions\n",
    "We have seen so far how to store data into variables and containers. We also have seen how to go over lots of data using loops, and how to control the flow of the code. But what if we want to use the same code multiple times?\n",
    "\n",
    "<center>\n",
    "<img src=\"python-function.png\" width=\"400\" height=\"300\" align=\"center\"/>\n",
    "</center>"
   ]
  },
  {
   "cell_type": "code",
   "execution_count": null,
   "metadata": {
    "slideshow": {
     "slide_type": "subslide"
    }
   },
   "outputs": [],
   "source": [
    "def fahr_to_celsius(temp):\n",
    "    return ((temp - 32) * (5/9))\n",
    "..."
   ]
  },
  {
   "cell_type": "markdown",
   "metadata": {
    "comet_cell_id": "62b96b333ee2f",
    "slideshow": {
     "slide_type": "slide"
    }
   },
   "source": [
    "#### Scope and Lifetime of variables\n",
    "Scope is where the variable is recognized and the lifetime of a variable is how long you can access it. We can have local and global scopes and lifetimes:"
   ]
  },
  {
   "cell_type": "code",
   "execution_count": null,
   "metadata": {
    "slideshow": {
     "slide_type": "subslide"
    }
   },
   "outputs": [],
   "source": [
    "def my_func():\n",
    "    x = 10\n",
    "    print(\"Value inside function:\",x)\n",
    "\n",
    "x = 20\n",
    "my_func()\n",
    "print(\"Value outside function:\",x)\n",
    "..."
   ]
  },
  {
   "cell_type": "markdown",
   "metadata": {
    "slideshow": {
     "slide_type": "notes"
    }
   },
   "source": [
    "So, if you define a variable within a function (Local variable), it will be only recognized within that function and will destroyed once you exit the function."
   ]
  },
  {
   "cell_type": "markdown",
   "metadata": {
    "comet_cell_id": "b473bbba9567a",
    "slideshow": {
     "slide_type": "slide"
    }
   },
   "source": [
    "<center>\n",
    "<img src=\"quiz.png\"  width=\"820\" height=\"700\" align=\"center\"/>\n",
    "</center>"
   ]
  },
  {
   "cell_type": "markdown",
   "metadata": {
    "comet_cell_id": "b45411afc884d",
    "slideshow": {
     "slide_type": "notes"
    }
   },
   "source": [
    "Q5: Default return value, etc"
   ]
  },
  {
   "cell_type": "markdown",
   "metadata": {
    "slideshow": {
     "slide_type": "slide"
    }
   },
   "source": [
    "### Base problem\n",
    "#### Scenario:\n",
    "You have a list of 10 genes names, a second list with the number of copies of each gene in species *x*, and a new gene and copy count. You want to create a container that would allow you to access the number of gene copies by calling the gene name. You also received a third list matching the same gene names but with counts for species *y*."
   ]
  },
  {
   "cell_type": "markdown",
   "metadata": {
    "comet_cell_id": "9de5c525e4fdc",
    "slideshow": {
     "slide_type": "subslide"
    }
   },
   "source": [
    "#### Aim:\n",
    "1. Create a container that would allow you to access the number of gene copies by calling the gene name by species name.\n",
    "\n",
    "2. Filter for genes that have more than 100 counts on species x.\n",
    "\n",
    "\n",
    "**HINT: You will be creating a dictionary of dictionaries**"
   ]
  },
  {
   "cell_type": "markdown",
   "metadata": {
    "comet_cell_id": "1f4e9c0e6dd6d",
    "slideshow": {
     "slide_type": "subslide"
    }
   },
   "source": [
    "#### Steps\n",
    "1. Create a variable called `genes` containing the following gene names: `COI`, `Cytb`, `12S`, `18S`, `IgA`, `A1BG`, `ZZZ3`, `GDF6`, `CNN1`, `MKNK1`."
   ]
  },
  {
   "cell_type": "code",
   "execution_count": null,
   "metadata": {
    "slideshow": {
     "slide_type": "-"
    }
   },
   "outputs": [],
   "source": [
    "genes = ['COI', 'Cytb', '12S', '18S', 'IgA', 'A1BG', 'ZZZ3', 'GDF6', 'CNN1', 'MKNK1']"
   ]
  },
  {
   "cell_type": "markdown",
   "metadata": {
    "comet_cell_id": "958e8cfc83515",
    "slideshow": {
     "slide_type": "subslide"
    }
   },
   "source": [
    "2. Create a second list called `spx_counts` with the following counts (**NOTE: counts are made up**): `1000`, `1000`, `5000`, `500`, `54`, `35`, `564`, `6`, `45`, `68`."
   ]
  },
  {
   "cell_type": "code",
   "execution_count": null,
   "metadata": {
    "comet_cell_id": "3f31c5f9c9e8f",
    "slideshow": {
     "slide_type": "-"
    }
   },
   "outputs": [],
   "source": [
    "spx_counts = [1000, 1000, 5000, 500, 54, 35, 564, 6, 45, 68]"
   ]
  },
  {
   "cell_type": "markdown",
   "metadata": {
    "comet_cell_id": "0af70d3fd0608",
    "slideshow": {
     "slide_type": "subslide"
    }
   },
   "source": [
    "3. Create a third list called `spy_counts` with the counts of gene copies for species _y_: `1050`, `1050`, `3452`, `315`, `45`, `45`, `345`, `5`, `78`, `15`."
   ]
  },
  {
   "cell_type": "code",
   "execution_count": null,
   "metadata": {
    "comet_cell_id": "2016a981e95eb",
    "slideshow": {
     "slide_type": "-"
    }
   },
   "outputs": [],
   "source": [
    "spy_counts = [1050, 1050, 3452, 315, 45, 45, 345, 5, 78, 15]"
   ]
  },
  {
   "cell_type": "markdown",
   "metadata": {
    "comet_cell_id": "ba307f5b5bcaf",
    "slideshow": {
     "slide_type": "subslide"
    }
   },
   "source": [
    "4. Create a tuple with a new pair of gene name and its count for species _x_ called `new_entry`: `('ALPI', 789)`"
   ]
  },
  {
   "cell_type": "code",
   "execution_count": null,
   "metadata": {
    "comet_cell_id": "1404be6aa766f",
    "slideshow": {
     "slide_type": "-"
    }
   },
   "outputs": [],
   "source": [
    "new_entry = ('ALPI', 789)"
   ]
  },
  {
   "cell_type": "markdown",
   "metadata": {
    "comet_cell_id": "a5686bc9561da",
    "slideshow": {
     "slide_type": "subslide"
    }
   },
   "source": [
    "5. The new entry has a mistake, it was not the `ALPI` gene but instead it was the `ALPG` name. Correct it.\n"
   ]
  },
  {
   "cell_type": "code",
   "execution_count": null,
   "metadata": {
    "comet_cell_id": "3d0ac71b925",
    "slideshow": {
     "slide_type": "-"
    }
   },
   "outputs": [],
   "source": [
    "new_entry = list(new_entry)\n",
    "new_entry[0] = 'ALPG'\n",
    "new_entry = tuple(new_entry)"
   ]
  },
  {
   "cell_type": "markdown",
   "metadata": {
    "comet_cell_id": "f5756634cdf22",
    "slideshow": {
     "slide_type": "subslide"
    }
   },
   "source": [
    "6. Create a dictionary for each species"
   ]
  },
  {
   "cell_type": "code",
   "execution_count": null,
   "metadata": {
    "comet_cell_id": "a3f3a95cc91d8",
    "slideshow": {
     "slide_type": "-"
    }
   },
   "outputs": [],
   "source": [
    "dx = {} # Empty dictionaries to start\n",
    "dy = dict() # This is also a empty dictionary but with the constructor\n",
    "for index, gene in enumerate(genes):\n",
    "    # we could filter here ...\n",
    "    dx[genes[index]] = spx_counts[index]\n",
    "    dy[genes[index]] = spy_counts[index]"
   ]
  },
  {
   "cell_type": "markdown",
   "metadata": {
    "comet_cell_id": "7af04ef06f03d",
    "slideshow": {
     "slide_type": "subslide"
    }
   },
   "source": [
    "7. Add the new entry of species _x_ in the appropriate dictionary"
   ]
  },
  {
   "cell_type": "code",
   "execution_count": null,
   "metadata": {
    "comet_cell_id": "9dfd0c82de6",
    "slideshow": {
     "slide_type": "-"
    }
   },
   "outputs": [],
   "source": [
    "dx[new_entry[0]] = new_entry[1]"
   ]
  },
  {
   "cell_type": "markdown",
   "metadata": {
    "comet_cell_id": "4530a54e524d9",
    "slideshow": {
     "slide_type": "subslide"
    }
   },
   "source": [
    "8. Create a dictionary where the keys are the species names and the values are the dictionaries with the counts\n"
   ]
  },
  {
   "cell_type": "code",
   "execution_count": null,
   "metadata": {
    "comet_cell_id": "8fe4edba462b3"
   },
   "outputs": [],
   "source": [
    "big_dict = {'x': dx, 'y': dy}"
   ]
  },
  {
   "cell_type": "markdown",
   "metadata": {
    "comet_cell_id": "8e05cd2f2d637",
    "slideshow": {
     "slide_type": "subslide"
    }
   },
   "source": [
    "9. Print the counts in both species for the gene `CNN1`"
   ]
  },
  {
   "cell_type": "code",
   "execution_count": null,
   "metadata": {
    "comet_cell_id": "41f781af3eb3c",
    "slideshow": {
     "slide_type": "-"
    }
   },
   "outputs": [],
   "source": [
    "for sp, dictionary in big_dict.items():\n",
    "    print('The count of CNN1 in species %s is %d' % (sp, dictionary['CNN1']))"
   ]
  },
  {
   "cell_type": "markdown",
   "metadata": {
    "comet_cell_id": "1ba2baa24ffd5",
    "slideshow": {
     "slide_type": "subslide"
    }
   },
   "source": [
    "10. If you did not filter in step 6, let's try filtering the big dictionary:"
   ]
  },
  {
   "cell_type": "code",
   "execution_count": null,
   "metadata": {
    "comet_cell_id": "2b722924e4cd8"
   },
   "outputs": [],
   "source": [
    "filtered = dict(x={}, y=dy)\n",
    "for gene, count in big_dict['x'].items():\n",
    "    if count >= 100:\n",
    "        filtered['x'].update({'gene':count})\n",
    "..."
   ]
  },
  {
   "cell_type": "markdown",
   "metadata": {
    "comet_cell_id": "e83bf6a43e5d9",
    "slideshow": {
     "slide_type": "slide"
    }
   },
   "source": [
    "# Extended problem\n",
    "<center>\n",
    "<img src=\"https://files.realpython.com/media/building_with_python_watermark.2ebe5beb5b1e.jpg\"  width=\"820\" height=\"700\" align=\"center\"/>\n",
    "</center>\n"
   ]
  },
  {
   "cell_type": "markdown",
   "metadata": {
    "comet_cell_id": "a97d600e29dfe",
    "slideshow": {
     "slide_type": "subslide"
    }
   },
   "source": [
    "Now, based on the big dictionary we have created, print only genes that start with a `C` AND that have more than 500 counts in species x and more than 500 counts on species y."
   ]
  },
  {
   "cell_type": "code",
   "execution_count": null,
   "metadata": {
    "comet_cell_id": "8afaad4c12ce9"
   },
   "outputs": [],
   "source": []
  }
 ],
 "metadata": {
  "celltoolbar": "Slideshow",
  "comet_paths": [
   [
    "5fc18626/Lesson1.Introduction_to_Python_IO_operations.ipynb",
    1555458746407
   ]
  ],
  "comet_tracking": true,
  "kernelspec": {
   "display_name": "Python 3",
   "language": "python",
   "name": "python3"
  },
  "language_info": {
   "codemirror_mode": {
    "name": "ipython",
    "version": 3
   },
   "file_extension": ".py",
   "mimetype": "text/x-python",
   "name": "python",
   "nbconvert_exporter": "python",
   "pygments_lexer": "ipython3",
   "version": "3.7.5"
  },
  "rise": {
   "footer": "<img src='SHRCPP.png' alt='SHARCNET logo'>"
  }
 },
 "nbformat": 4,
 "nbformat_minor": 4
}
