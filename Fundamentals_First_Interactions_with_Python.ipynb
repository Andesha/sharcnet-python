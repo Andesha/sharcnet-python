{
 "cells": [
  {
   "cell_type": "markdown",
   "metadata": {
    "comet_cell_id": "2a1dca51d709f",
    "slideshow": {
     "slide_type": "slide"
    }
   },
   "source": [
    "# Python fundamentals: First interaction with python \n",
    "\n",
    "Welcome to the first module of Python Programming of the SHARCNET Summer School!! Here we will introduce you to one of the most popular scripting/programming languages to date: Python"
   ]
  },
  {
   "cell_type": "markdown",
   "metadata": {
    "comet_cell_id": "2a1dca51d709f",
    "slideshow": {
     "slide_type": "subslide"
    }
   },
   "source": [
    "### Learning Objectives\n",
    "By the end of this lesson, you will be able to:\n",
    "* Interact with the python interpreter.\n",
    "* Understand what is a variable, how to set it up, and manipulate it.\n",
    "* Use lists, tuples, and dictionaries in Python programs.\n",
    "* Read and manipulate data in the interpreter and in files.\n",
    "* Write loops and decision statements in Python.\n",
    "* Understand and write pure python functions."
   ]
  },
  {
   "cell_type": "markdown",
   "metadata": {
    "slideshow": {
     "slide_type": "slide"
    }
   },
   "source": [
    "## Why Python? \n",
    "\n",
    "* Easy for humans to read\n",
    "* Fast to code with it\n",
    "* More efficient than other high-level programming languages\n",
    "* Growing community and community support\n"
   ]
  },
  {
   "cell_type": "markdown",
   "metadata": {
    "slideshow": {
     "slide_type": "slide"
    }
   },
   "source": [
    "## Getting started with python\n",
    "\n",
    "There are many ways to interact with python:\n",
    "\n",
    "* Python console: Just type `python` in the terminal\n",
    "* Ipython and variations: Provides a rich toolkit to help you make the most of using Python interactively (used here). After install, just type `ipython` or check Jupyter\n",
    "* Others"
   ]
  },
  {
   "cell_type": "markdown",
   "metadata": {
    "slideshow": {
     "slide_type": "slide"
    }
   },
   "source": [
    "## Variables in Python\n",
    "Let's imagine that you want to store some numbers. In Python:"
   ]
  },
  {
   "cell_type": "code",
   "execution_count": null,
   "metadata": {
    "slideshow": {
     "slide_type": "fragment"
    }
   },
   "outputs": [],
   "source": [
    "..."
   ]
  },
  {
   "cell_type": "markdown",
   "metadata": {
    "slideshow": {
     "slide_type": "slide"
    }
   },
   "source": [
    "### Types of variables\n",
    "In Python you can query the type a variable belongs to using the `type` functions. Native functions in python are invoked with the parenthesis sintax:"
   ]
  },
  {
   "cell_type": "code",
   "execution_count": null,
   "metadata": {
    "slideshow": {
     "slide_type": "fragment"
    }
   },
   "outputs": [],
   "source": [
    "type(x)\n",
    "type(y)"
   ]
  },
  {
   "cell_type": "markdown",
   "metadata": {
    "slideshow": {
     "slide_type": "subslide"
    }
   },
   "source": [
    "Basic types in python include:\n",
    "* Integers: The integer part of a number\n",
    "* Floats or Floating-Point Numbers: Decimal numbers\n",
    "* Complex Numbers: Numbers including imaginary ones\n",
    "* Strings: A sequence of characters\n",
    "* Logical or Boolean: Has only two states `True` or `False`"
   ]
  },
  {
   "cell_type": "code",
   "execution_count": null,
   "metadata": {
    "slideshow": {
     "slide_type": "subslide"
    }
   },
   "outputs": [],
   "source": [
    "i = 10 # Integers\n",
    "print(type(i))\n",
    "f = 5.5 # floats\n",
    "print(type(f))\n",
    "c = 3j # complex\n",
    "print(type(c))\n",
    "s = 'ABC' # String\n",
    "print(type(s))\n",
    "b = True # Boolean\n",
    "print(type(b))"
   ]
  },
  {
   "cell_type": "markdown",
   "metadata": {
    "slideshow": {
     "slide_type": "slide"
    }
   },
   "source": [
    "### Modifying the type\n",
    "Some transformations of variables are allowed:"
   ]
  },
  {
   "cell_type": "code",
   "execution_count": null,
   "metadata": {
    "slideshow": {
     "slide_type": "fragment"
    }
   },
   "outputs": [],
   "source": [
    "..."
   ]
  },
  {
   "cell_type": "markdown",
   "metadata": {
    "comet_cell_id": "fe3eef8b9dc1e",
    "slideshow": {
     "slide_type": "notes"
    }
   },
   "source": [
    "4. Now let's transform the float in variable `y` into a string and an integer using the functions `str()` and `int()`:\n",
    "```python\n",
    "y1 = str(y) # Transform float into string\n",
    "y2 = int(y) # Transform float into integer\n",
    "```\n",
    "\n",
    "5. Using the `print` function and the `type` function we learned before, print the type and values of `y`, `y1` and `y2`:\n",
    "```python\n",
    "print('y is of type', type(y), 'with value', y)\n",
    "print('y1 is of type', type(y1), 'with value', y1)\n",
    "print('y2 is of type', type(y2), 'with value', y2)\n",
    "```\n",
    "The output of the above print statements will be:"
   ]
  },
  {
   "cell_type": "markdown",
   "metadata": {
    "slideshow": {
     "slide_type": "slide"
    }
   },
   "source": [
    "### Operations with variables\n",
    "Within type operations are allowed, but cross-type operations will depend:"
   ]
  },
  {
   "cell_type": "code",
   "execution_count": null,
   "metadata": {
    "comet_cell_id": "f78861ead51a3",
    "hide_input": true,
    "slideshow": {
     "slide_type": "fragment"
    }
   },
   "outputs": [],
   "source": [
    "x = 10,\n",
    "y = 'string'\n",
    "print( ... )"
   ]
  },
  {
   "cell_type": "markdown",
   "metadata": {
    "comet_cell_id": "456d48987406d",
    "slideshow": {
     "slide_type": "notes"
    }
   },
   "source": [
    "6. Next let's transform the string in variable `z` into an integer and a float using the functions `int()` and `float()`:\n",
    "```python\n",
    "z1 = int(z) # Transform string into integer\n",
    "z2 = float(z) # Transform string into float\n",
    "```\n",
    "7. As in points 3 and 5 above, let's print the values and types of `z`, `z1`, and `z2`:\n",
    "```python\n",
    "print('z is of type', type(z), 'with value', z)      \n",
    "print('z1 is of type', type(z1), 'with value', z1)\n",
    "print('z2 is of type', type(z2), 'with value', z2)\n",
    "```\n",
    "8. Finally, let's define a new variable `a` with the string `word`, and let's try to convert it into a float:\n",
    "```python\n",
    "a = \"word\"\n",
    "print(int(a))\n",
    "```\n",
    "The output of this will be a fail.\n",
    "\n",
    "9. The same will happen if we use the function `float()` in a non-numerical strings:\n",
    "```python\n",
    "print(float(a))\n",
    "```\n"
   ]
  },
  {
   "cell_type": "markdown",
   "metadata": {
    "comet_cell_id": "e8b54306552ec",
    "slideshow": {
     "slide_type": "subslide"
    }
   },
   "source": [
    "In the previous example there are a few points to note:\n",
    "1. A float will be rounded down to the lowest integer when transformed to integer\n",
    "2. An integer would be given a zero decimal when transformed to float\n",
    "3. **Only** strings that contain numerical values can be transformed to either integer or float\n",
    "4. _bonus_: `#` can be used in python to write comments in the code. I strongly recommend you thoroughly comment your code.\n",
    "5. _bonus2_: When Python code fails, it output different kinds of error. We saw in points 8 and 9 that when the value is not correct we get a `ValueError`. Check the Python documentation for more errors!"
   ]
  },
  {
   "cell_type": "markdown",
   "metadata": {
    "comet_cell_id": "19acf5a18fdba",
    "slideshow": {
     "slide_type": "slide"
    }
   },
   "source": [
    "## Containers or basic data structures\n",
    "We now reminded ourselves of what is a variable and what kind of types a variable can have. Now, what if we want to \"bundle\" some of those variables? How can I store them? For this, python has 3 basic containers: lists, dictionaries, and tuples. "
   ]
  },
  {
   "cell_type": "markdown",
   "metadata": {
    "comet_cell_id": "50795715c43d7",
    "slideshow": {
     "slide_type": "slide"
    }
   },
   "source": [
    "### Lists\n",
    "A list is an ordered sequence of elements, and those elements are normally variables. This data structure is mutable or changeable. Also you can iterate over it to retrieve your data or access one item at a time. "
   ]
  },
  {
   "cell_type": "code",
   "execution_count": null,
   "metadata": {
    "slideshow": {
     "slide_type": "fragment"
    }
   },
   "outputs": [],
   "source": [
    "..."
   ]
  },
  {
   "cell_type": "markdown",
   "metadata": {
    "comet_cell_id": "283b99b524235",
    "slideshow": {
     "slide_type": "subslide"
    }
   },
   "source": [
    "#### Indexing: Retrieving elements from the list\n",
    "To _index_ the first element in the list we call the name of the list and the number of the element between square brackets"
   ]
  },
  {
   "cell_type": "code",
   "execution_count": null,
   "metadata": {
    "slideshow": {
     "slide_type": "fragment"
    }
   },
   "outputs": [],
   "source": [
    "..."
   ]
  },
  {
   "cell_type": "markdown",
   "metadata": {
    "comet_cell_id": "7dcbb97dea8b1",
    "hide_input": true,
    "slideshow": {
     "slide_type": "notes"
    }
   },
   "source": [
    "```python\n",
    "# Retrieve the first element of the list\n",
    "item1 = alist[0]\n",
    "```\n",
    "**NOTE: Python indexing starts at 0**\n",
    "3. Now we can print the first element:\n",
    "```python\n",
    "print('The first item is', item1)\n",
    "```\n",
    "\n",
    "4. What if I want say the first two? we can use a special kind of indexing called slicing:\n",
    "```python\n",
    "print(alist[:2])\n",
    "```\n",
    "**Note that you could write 0 or blank and in both cases it will retrieve the slice. Also note that the last index is not included on the result.**\n",
    "5. What if we want the last two? We can also have a slice if we use a negative number:\n",
    "```python\n",
    "print(alist[:-2])\n",
    "```"
   ]
  },
  {
   "cell_type": "markdown",
   "metadata": {
    "comet_cell_id": "386b0ee67f6ec",
    "slideshow": {
     "slide_type": "subslide"
    }
   },
   "source": [
    "#### Iterating over a list\n",
    "Oftentimes you will find yourself with very long lists. In these cases indexing and slicing the list one at a time is not very efficient. "
   ]
  },
  {
   "cell_type": "code",
   "execution_count": null,
   "metadata": {
    "slideshow": {
     "slide_type": "fragment"
    }
   },
   "outputs": [],
   "source": [
    "..."
   ]
  },
  {
   "cell_type": "markdown",
   "metadata": {
    "slideshow": {
     "slide_type": "notes"
    }
   },
   "source": [
    "Imagine you want to go over a list, and apply and print a modification to each item. If you do it one by one, it will take a lot of code an a lot of time. Let's say that you have a list of numbers and you want to know what is the result of each item after elevating each number to the power of two and then subtracting two:\n",
    "1. Let's create a list of numbers from 0 to 20. Python have a very convenient function called `range` to do this:\n",
    "```python\n",
    "numbers = range(10)\n",
    "```\n",
    "However, the function `range` returns a special type of container also called so if we print this container we get:\n",
    "```python\n",
    "print(numbers)\n",
    "```\n",
    "2. Transform the range into a list. Luckily for you there is the function `list` which will give us the list of number in the range:\n",
    "```python\n",
    "numberlist = list(numbers)\n",
    "print(numberlist)\n",
    "```\n",
    "3. Now that we have the list we can go over it with a for loop. Let's first enumerate all the items using the `enumerate()` function and print each enumeration:\n",
    "```python\n",
    "# Iterate over the list enumerating the items\n",
    "for index, item in enumerate(numberlist):\n",
    "    print('Item', index, 'is', item)\n",
    "```\n",
    "\n",
    "4. Now we can iterate over the list, compute the square of the number minus 2:\n",
    "```python\n",
    "# Iterate over the items and compute the squared minus 2\n",
    "for index, item in enumerate(numberlist):\n",
    "    print('(item%d^2) - 2 =' % (index), (item**2)-2)\n",
    "```\n",
    "\n",
    "Recap\n",
    "we cover many new tricks!!:\n",
    "* We can go over a list with a for loop\n",
    "* Two new function: `range()` which creates a range of numbers, and `enumerate()` that enumerates every item in a container\n",
    "* One subtle trick was displayed in step 4, did you see it? when we wanted to print the value of `index `inside of the string `(item%d^2) - 2 =`, we use a trick called string formatting, that allows you to include things in a string. You can use it to include strings by using `%s`, integers by using `%d`, and floats by using `%f`. The replacing variable have to be put outside of the string after a percentage sign (`%`). There are more advance usages and I will encourage you to check the Python documentation on string formatting, it is very useful!!\n",
    "\n",
    "Now it is important to introduce mutability of containers. Containers such as _lists_ and _dictionaries_ are mutable, meaning that can be modified without re-writing them. _Tuples_ on the other hand, cannot be modified. We will see more of _dictionaries_ and _tuples_ in their corresponding sections. For now, let's understand mutable lists through an exercise."
   ]
  },
  {
   "cell_type": "markdown",
   "metadata": {
    "comet_cell_id": "91729d81a4124",
    "slideshow": {
     "slide_type": "subslide"
    }
   },
   "source": [
    "#### Mutating lists\n",
    "Suppose that you have a list of three colors `Red`, `Blue`, and `Green`. Let's imagine that you actually want the primary colors. In this case you have to replace `Green` by `Yellow`. Let's also imagine that you want to add `Purple` and `Grey` at the end of the list"
   ]
  },
  {
   "cell_type": "code",
   "execution_count": null,
   "metadata": {
    "comet_cell_id": "10e9529b7ab46",
    "slideshow": {
     "slide_type": "fragment"
    }
   },
   "outputs": [],
   "source": [
    "..."
   ]
  },
  {
   "cell_type": "markdown",
   "metadata": {
    "comet_cell_id": "6a2a15aff5905",
    "slideshow": {
     "slide_type": "notes"
    }
   },
   "source": [
    "1. Create the required list and enumerate as before:\n",
    "```python\n",
    "# Create the list\n",
    "colorlist = [ \"Red\", \"Blue\", \"Green\"]\n",
    "# enumerate the colors\n",
    "for i, color in enumerate(colorlist):\n",
    "    print('Color %s is' % i, color)\n",
    "```\n",
    "2. Replace the color `Green` for `Yellow`. We can use the index to do this. Enumerate the colors after mutating the list:\n",
    "```python\n",
    "# Mutate the list in index 2 to replace green by yellow\n",
    "colorlist[2] = \"Yellow\"\n",
    "# enumerate the colors\n",
    "for i, color in enumerate(colorlist):\n",
    "    print('Color %s is' % i, color)\n",
    "```\n",
    "\n",
    "3. Now we want to add `Purple` and `Grey` to the list. One way on doing this is using a method of lists called `append()`. Methods in python are functions inside of data structures, but we are not getting into these details. To call `append()` you need to include a period after the variable containing the list:\n",
    "```python\n",
    "# Append Purple to list\n",
    "colorlist.append('Purple')\n",
    "# Append gray to list\n",
    "colorlist.append('Grey')\n",
    "# Enumerate the colors\n",
    "for i, color in enumerate(colorlist):\n",
    "    print('Color %s is' % i, color)\n",
    "```\n",
    "And now we have a list of 5 elements.\n",
    "\n",
    "4. Now we want to spell the last color in the list. Of course we can just write it down in a print statement if we know what it is, but in cases where you don't know you can do something like this:\n",
    "```python\n",
    "# Get the last element with negative indexing\n",
    "last = colorlist[-1]\n",
    "# convert the string Gray into a list of characters using the function list\n",
    "chars = list(last)\n",
    "# print the spelling of the last item in colorlist\n",
    "print('The color %s is spelled:' % last)\n",
    "for character in chars:\n",
    "    print(character)\n",
    "```\n",
    "In this example we have shown you that:\n",
    "1. Any element in a list can be mutated (replaced) by something else without redefining the rest of the elements\n",
    "2. Lists have a method called `append` to append elements at the end of the list\n",
    "3. The function `list()` can be used to turn string into a list of characters\n",
    "\n",
    "I encourage you to check the python documentation on lists and other methods that are very useful such as `extend()`, `pop()`, `index()`, etc.\n",
    "\n",
    "Lists are very useful data structures, however, it can become cumbersome when you don't know the exact index and you want to access a given value. Looping over a very big list can also be very slow, if you want just a given set of values. For this, we can use another very useful data structure called dictionaries."
   ]
  },
  {
   "cell_type": "markdown",
   "metadata": {
    "comet_cell_id": "a0b0319e89433",
    "slideshow": {
     "slide_type": "slide"
    }
   },
   "source": [
    "### Dictionaries\n",
    "A dictionary is basically a map between pairs of objects. It is also a mutable object, meaning that you can change its values at any time. Dictionaries work in a key-and-lock fashion, where with a particular key you point to a value."
   ]
  },
  {
   "cell_type": "code",
   "execution_count": null,
   "metadata": {
    "comet_cell_id": "1077187ece433",
    "slideshow": {
     "slide_type": "fragment"
    }
   },
   "outputs": [],
   "source": [
    "..."
   ]
  },
  {
   "cell_type": "markdown",
   "metadata": {
    "comet_cell_id": "9c7e658eb97e4",
    "slideshow": {
     "slide_type": "notes"
    }
   },
   "source": [
    "You can access the value with that particular key. Dictionaries, like lists, also have useful methods that allow you to access the keys, the values, or both. This methods are called `keys()`, `values()`, `items()`. So if your dictionary is called `d`, and you want only the keys, you will call the method `d.keys()`. Likewise if you only want the values you can use `d.values()` to access them. If you want to get pairs, you can use `d.items()`. "
   ]
  },
  {
   "cell_type": "markdown",
   "metadata": {
    "comet_cell_id": "2b388154ea739",
    "hide_input": true,
    "slideshow": {
     "slide_type": "subslide"
    }
   },
   "source": [
    "#### Creating and looping over dictionaries\n",
    "Let's assume that you are creating a phone book and want to retrieve and modify its contents:"
   ]
  },
  {
   "cell_type": "code",
   "execution_count": null,
   "metadata": {
    "comet_cell_id": "41918eb4ab08d",
    "hide_input": true,
    "slideshow": {
     "slide_type": "fragment"
    }
   },
   "outputs": [],
   "source": [
    "# Create a dictionary. In this case names and phone numbers\n",
    "phonebook = {'Bob': 5146012356, 'Stacy': 9024896778, 'John': 9099788563}\n",
    "# print the dictionary\n",
    "print(phonebook)"
   ]
  },
  {
   "cell_type": "markdown",
   "metadata": {
    "comet_cell_id": "0cb57e61f9309",
    "slideshow": {
     "slide_type": "notes"
    }
   },
   "source": [
    "From a created phone book you want to list who you have in there. You also want to retrieve _Stacy's_ number. When you retrieved it, you noticed that is the wrong number and you want to modify it. Also, you would like to include other friend after the phone book is created without having to re-type all the entries. To do this:\n",
    "1. Create the entries in the phone book for _Bob_, _Stacy_, and _John_, and print it:\n",
    "```python\n",
    "# Create a dictionary. In this case names and phone numbers\n",
    "phonebook = {'Bob': 5146012356, 'Stacy': 9024896778, 'John': 9099788563}\n",
    "# print the dictionary\n",
    "print(phonebook)\n",
    "```\n",
    "Notice how dictiories are enclosed in **curly** brackets.\n",
    "2. Check only the names that you have in your dictionary:\n",
    "```python\n",
    "print(phonebook.keys())\n",
    "```\n",
    "3. Retrieve Stacy's number, and modify it from 9024896778 to 9024896779:\n",
    "```python\n",
    "# Get Stacy's number\n",
    "stacynum = phonebook['Stacy']\n",
    "# Print Stacy's number\n",
    "print(\"Stacy's number is\", stacynum)\n",
    "# change the incorrect number\n",
    "phonebook['Stacy'] = 9024896779\n",
    "# Print the new number\n",
    "print(\"Stacy's number changed to\", phonebook['Stacy'])\n",
    "```\n",
    "4. Now list all your numbers with the owner's name:\n",
    "```python\n",
    "# Iterate over the key-value pair\n",
    "for name, number in phonebook.items():\n",
    "    print(\"%s's number is %d\" % (name, number))\n",
    "```\n",
    "5. What would happen if the key we are accessing is not there?\n",
    "```python\n",
    "print(phonebook['Kelly'])\n",
    "```\n",
    "It will fail with `KeyError`:\n",
    "**EXPLAIN ERRORS IN PYTHON**\n",
    "\n",
    "6. Let's now add _Kelly's_ number to the phone book, accessit, print it, and then print the final phones:\n",
    "```python\n",
    "# Add Kelly's number\n",
    "phonebook['Kelly'] = 901526956\n",
    "# Print Kelly's number\n",
    "print(\"The added Kelly's number is\", phonebook['Kelly'])\n",
    "# Iterate over the key-value pair\n",
    "for name, number in phonebook.items():\n",
    "    print(\"%s's number is %d\" % (name, number))\n",
    "```\n",
    "In this example we can see that:\n",
    "1. We can access a dictionary's value with a key\n",
    "2. Dictionaries have the attribute items, which returns the key-value pair\n",
    "3. Dictionaries have the attribute keys which returns an iterable with the keys\n",
    "4. Dictionaries can be modified by calling the key and assigning a new value\n",
    "5. You can add a new key value pair by calling the dictionary with the new key pointing to a value\n",
    "6. _Bonus_: Did you see that the last print have a string formatting with two variables? did you see that you can pass a tuple of arguments to that string formatting? We will get to tuples later, but keep an eye on it.\n",
    "\n",
    "It is important to notice that dictionaries, unlike lists, do not keep any particular order in their keys."
   ]
  },
  {
   "cell_type": "markdown",
   "metadata": {
    "comet_cell_id": "764dee76d2704",
    "slideshow": {
     "slide_type": "slide"
    }
   },
   "source": [
    "### Tuples\n",
    "Tuples are container just like lists, but are immutable. This means that once it is created you cannot modify its contents without re-writing the object. To define `tuples` you can enclose a set of variables between parenthesis (`()`)"
   ]
  },
  {
   "cell_type": "code",
   "execution_count": null,
   "metadata": {
    "comet_cell_id": "8e8368475e4a7",
    "slideshow": {
     "slide_type": "fragment"
    }
   },
   "outputs": [],
   "source": [
    "# Define red fruits\n",
    "red = ('Apple', 'Strawberry', 'Raspberry')\n",
    "# Define green fruits\n",
    "green = ('Pear', 'Avocado')\n",
    "# Print them\n",
    "print(red)\n",
    "print(green)"
   ]
  },
  {
   "cell_type": "markdown",
   "metadata": {
    "comet_cell_id": "2694826d2c60f",
    "slideshow": {
     "slide_type": "notes"
    }
   },
   "source": [
    "Tuples are very useful when you need to guarantee that a given grouping will not be modified by the code. Tuples are also used in string formatting (as we saw in the epilogue of exercise 8), and to pack and unpack variables (this is to advanced for this lesson, but you can go ahead and look it up!). Items stored in tuples can be accessed just like we did with lists, but unlike lists we cannot assign new content in the place of another. This is better illustrated in exercise 9.\n",
    "\n",
    "#### Exercise 9: Dealing with Tuples:\n",
    "Say that we have two groupings of fruits: green fruits and red fruits. We do not want that in the process of manipulating these groups, the original red fruits (Apple, Strawberry, Raspberry) and green fruits (Pear, Avocado) can be modified. You might want to add extra fruits, but you want to keep the originals in each tuple. To do this we can:\n",
    "1. Create the red and green fruits tuples, and print them:\n",
    "```python\n",
    "# Define red fruits\n",
    "red = ('Apple', 'Strawberry', 'Raspberry')\n",
    "# Define green fruits\n",
    "green = ('Pear', 'Avocado')\n",
    "# Print them\n",
    "print(red)\n",
    "print(green)\n",
    "```\n"
   ]
  },
  {
   "cell_type": "code",
   "execution_count": null,
   "metadata": {
    "slideshow": {
     "slide_type": "subslide"
    }
   },
   "outputs": [],
   "source": [
    "..."
   ]
  },
  {
   "cell_type": "markdown",
   "metadata": {
    "comet_cell_id": "09690f97dcd04",
    "slideshow": {
     "slide_type": "notes"
    }
   },
   "source": [
    "We can access the items by index, just like lists. Let's access the second element on the red fruits (Strawberry), and then let just enumerate both tuples:\n",
    "```python\n",
    "# print the second element in red\n",
    "print(red[1])\n",
    "# Enumerate all fruits in red\n",
    "print('Fruits in container red are:')\n",
    "for index, fruit in enumerate(red):\n",
    " print('Fruit %d in red is %s' % (index, fruit))\n",
    "# Enumerate all fruits in green\n",
    "print('Fruits in container green are:')\n",
    "for index, fruit in enumerate(green):\n",
    " print('Fruit %d in green is %s' % (index, fruit))\n",
    "```"
   ]
  },
  {
   "cell_type": "markdown",
   "metadata": {
    "comet_cell_id": "e75b50fdd8a87",
    "slideshow": {
     "slide_type": "subslide"
    }
   },
   "source": [
    "But tuples cannot be modified, but is it true? let's try to replace Apple with cherry:"
   ]
  },
  {
   "cell_type": "code",
   "execution_count": null,
   "metadata": {
    "comet_cell_id": "88ed87eeb3aa6",
    "slideshow": {
     "slide_type": "fragment"
    }
   },
   "outputs": [],
   "source": [
    "red[0] = 'Cherry'"
   ]
  },
  {
   "cell_type": "markdown",
   "metadata": {
    "slideshow": {
     "slide_type": "slide"
    }
   },
   "source": [
    "### Booleans\n",
    "A boolean expression (or logical expression) evaluates to one of two states true or false"
   ]
  },
  {
   "cell_type": "code",
   "execution_count": null,
   "metadata": {
    "slideshow": {
     "slide_type": "fragment"
    }
   },
   "outputs": [],
   "source": [
    "..."
   ]
  },
  {
   "cell_type": "markdown",
   "metadata": {
    "slideshow": {
     "slide_type": "notes"
    }
   },
   "source": [
    "Every object has a boolean value. The following elements are false:\n",
    "* None\n",
    "* False\n",
    "* 0 (whatever type from integer, float to complex)\n",
    "* Empty collections: “”, (), [], {}\n",
    "* Objects from classes that have the special method __nonzero__\n",
    "* Objects from classes that implements __len__ to return False or zero"
   ]
  },
  {
   "cell_type": "markdown",
   "metadata": {
    "slideshow": {
     "slide_type": "subslide"
    }
   },
   "source": [
    "#### Evaluating booleans: Conditional statements\n",
    "The importance of booleans is that you can evaluate variables and execute conditional code:"
   ]
  },
  {
   "cell_type": "code",
   "execution_count": null,
   "metadata": {
    "slideshow": {
     "slide_type": "fragment"
    }
   },
   "outputs": [],
   "source": [
    "..."
   ]
  },
  {
   "cell_type": "markdown",
   "metadata": {
    "slideshow": {
     "slide_type": "subslide"
    }
   },
   "source": [
    "Several operations also evaluate logically: Comparison, membership, and identity."
   ]
  },
  {
   "cell_type": "code",
   "execution_count": null,
   "metadata": {
    "slideshow": {
     "slide_type": "fragment"
    }
   },
   "outputs": [],
   "source": [
    "..."
   ]
  },
  {
   "cell_type": "markdown",
   "metadata": {
    "slideshow": {
     "slide_type": "notes"
    }
   },
   "source": [
    "**Comparison operators**\n",
    "The <, <=, >, >=, ==, != operators compare the values of 2 objects and returns True or False. Comparison depends on the type of the objects. See the Classes to see how to refedine the comparison operator of a type.\n",
    "```python\n",
    "10 == 10\n",
    "10 <= 10\n",
    "```\n",
    "\n",
    "**Chaining comparison operators**\n",
    "Comparison operators can be chained. Consider the following examples:\n",
    "```python\n",
    ">>> x = 2\n",
    ">>> 1 < x < 3\n",
    "True\n",
    ">>> 10 < x < 20\n",
    "False\n",
    ">>> 3 > x <= 2\n",
    "True\n",
    ">>> 2 == x < 4\n",
    "True\n",
    "```\n",
    "The comparison is performed between each pair of terms to be evaluated. For instance in the first example, 1<x is evaluated to True AND x<2 is evaluated. It is not as if 1<x is evaluated to True and then True<3 is evaluated to True !!! Each term is evaluated once.\n",
    "\n",
    "**Evaluation of logical and comparison operators and membership operators**\n",
    "The evaluation using the and and or operators follow these rules:\n",
    "\n",
    "and and or evaluates expression from left to right.\n",
    "with and, if all values are True, returns the last evaluated value. If any value is false, returns the first one.\n",
    "or returns the first True value. If all are False, returns the last value\n",
    "\n",
    "**Membership operators**\n",
    "in evaluates to True if it finds a variable in a specified sequence and false otherwise.\n",
    "not in evaluates to False if it finds a variable in a sequence, True otherwise.\n",
    "```python\n",
    ">>> 'good' in 'this is a great example'\n",
    "False\n",
    ">>> 'good' not in 'this is a great example'\n",
    "True\n",
    "```\n",
    "**Identity operators**\n",
    "is evaluates to True if the variables on either side of the operator point to the same object and False otherwise\n",
    "is not evaluates to False if the variables on either side of the operator point to the same object and True otherwise\n",
    "```python\n",
    ">>> p = 'hello'\n",
    ">>> ps = p\n",
    ">>> ps is p\n",
    "True\n",
    "```"
   ]
  },
  {
   "cell_type": "markdown",
   "metadata": {
    "comet_cell_id": "5e7edc2d179c4",
    "slideshow": {
     "slide_type": "skip"
    }
   },
   "source": [
    "### Sets\n",
    "A Set in Python container that behaves exactly like sets in mathematics. It also has methods that allow you to compute the difference, union, and intersection among its values. It can hold any type of variables, and it is immutable. It also does not have a particular ordering, just like dictionaries. You can add and delete elements of a set, as well as loop over its elements. Let's take a look at this data structure in exercise 10.\n",
    "\n",
    "#### Exercise 10: Working with sets\n",
    "Say that you want to keep only unique elements in a set of numbers. Say you have two overlapping ranges, but only want to keep the full range between the two. This can be accomplished in two ways. First let's explore the `add()` method of `set`, then we can explore the `union()` method. To do this:\n",
    "\n",
    "1. Create two overlapping ranges, and an empty set:\n",
    "```python\n",
    "s = set()\n",
    "a = range(10)\n",
    "b = range(5, 15)\n",
    "```\n",
    "2. Loop over both ranges and add to the set.\n",
    "```python\n",
    "for i in a:\n",
    "    s.add(i)\n",
    "for j in b:\n",
    "    s.add(j)\n",
    "```\n",
    "3. Print the result:\n",
    "print(s)\n",
    "\n",
    "The output should be:\n",
    "\n",
    "```\n",
    "{0, 1, 2, 3, 4, 5, 6, 7, 8, 9, 10, 11, 12, 13, 14}\n",
    "```\n",
    "\n",
    "4. Now let's try using the union method. To do this first convert the ranges into sets, and then use the union method:\n",
    "```python\n",
    "a = set(a)\n",
    "b = set(b)\n",
    "s = a.union(b)\n",
    "print(s)\n",
    "```\n",
    "You'll obtain:\n",
    "```\n",
    "{0, 1, 2, 3, 4, 5, 6, 7, 8, 9, 10, 11, 12, 13, 14}\n",
    "```\n",
    "\n",
    "5. You can also obtain the difference between the two or the intersection:\n",
    "```python\n",
    "print('The union of a and b is', a.union(b))\n",
    "print('The difference of a and b is', a.difference(b))\n",
    "print('The intersection of a and b is', a.intersection(b))\n",
    "```\n",
    "\n",
    "Then you will have:\n",
    "\n",
    "```\n",
    "The union of a and b is {0, 1, 2, 3, 4, 5, 6, 7, 8, 9, 10, 11, 12, 13, 14}\n",
    "The difference of a and b is {0, 1, 2, 3, 4}\n",
    "The intersection of a and b is {5, 6, 7, 8, 9}\n",
    "```\n",
    "\n",
    "\n",
    "Sets are very useful containers when you need to do set operations, and are very efficient when you dont want duplicates."
   ]
  },
  {
   "cell_type": "markdown",
   "metadata": {
    "comet_cell_id": "c77bc0b4d4692",
    "hide_input": true,
    "slideshow": {
     "slide_type": "notes"
    }
   },
   "source": [
    "3. We have said that tuples cannot be modified, but is it true? let's try to replace Apple with cherry:\n",
    "```python\n",
    "red[0] = 'Cherry'\n",
    "```\n",
    "We get a error `TypeError`.\n",
    "\n",
    "4. We can, however, add things to the tuple. We can achieve this by \"adding\" tuples. Let's try to add `Cherry` to the red tuple and add `Watermelon` and `Lime` to the green tuple:\n",
    "```python\n",
    "# add Cherry to red\n",
    "newred = red + ('Cherry',)\n",
    "# add Watermelon and Lime to green\n",
    "newgreen = green + ('Watermelon', 'Lime')\n",
    "print(newred)\n",
    "print(newgreen)\n",
    "```\n",
    "**However this creates a new object**\n",
    "Note that the `red` and `green` tuples are unchanged and that we needed to \"create\" new variables for the combined tuples."
   ]
  },
  {
   "cell_type": "markdown",
   "metadata": {
    "comet_cell_id": "0929224f44764",
    "slideshow": {
     "slide_type": "slide"
    }
   },
   "source": [
    "### Converting between data structures\n",
    "You can convert a tuple to a list, a list to a tuple, and you can convert a list of tuples into a dictionary. You can also convert a dictionary to a list, but only the keys will be displayed."
   ]
  },
  {
   "cell_type": "code",
   "execution_count": null,
   "metadata": {
    "comet_cell_id": "7b862f36bf676",
    "hide_input": true,
    "slideshow": {
     "slide_type": "fragment"
    }
   },
   "outputs": [],
   "source": [
    "# create a tuple\n",
    "fruits = ('Apple', 'Banana', 'Pear')\n",
    "#loop over it and print the fruits\n",
    "print('Fruits available in tuple:')\n",
    "for fruit in fruits:\n",
    "    print(fruit)\n",
    "..."
   ]
  },
  {
   "cell_type": "markdown",
   "metadata": {
    "comet_cell_id": "c01b35656802a",
    "slideshow": {
     "slide_type": "notes"
    }
   },
   "source": [
    "#### Exercise 11: Converting between containers\n",
    "Say you have a tuple of fruits with Apple, Banana, and Pear. We can make it a list and therefore mutable. Also, let's imagine we have a list of the same fruits paired with their colors. We can transform this list to a dictionary. This can be achieved like this:\n",
    "\n",
    "1. Create the tuple with the three fruits, and print them:\n",
    "```python\n",
    "# create a tuple\n",
    "fruits = ('Apple', 'Banana', 'Pear')\n",
    "#loop over it and print the fruits\n",
    "print('Fruits available in tuple:')\n",
    "for fruit in fruits:\n",
    "    print(fruit)\n",
    "```\n",
    "2. Now let's transform fruits to a list using the function `list()`. Then, change `Banana` (which is on index 1)  for `Pineapple`, and then back to a tuple using the `tuple()` function:\n",
    "```python\n",
    "print('Fruits before', fruits)\n",
    "# Convert to list\n",
    "fruits = list(fruits)\n",
    "# assign new fruit\n",
    "fruits[1] = 'Pineapple'\n",
    "# make it a tuple again\n",
    "fruits = tuple(fruits)\n",
    "print('Fruits after', fruits)\n",
    "```\n",
    "3. Now lets create a list of tuples and transform it into a dictionary using the `dict()` function. Also, let's use the `list()` function to make a list of the keys in the newly created dictionary:\n",
    "```python\n",
    "# Create a list of tuple pairs and convert it to dictionary\n",
    "fruitsncolor = [('Apple', 'Red'), ('Banana', 'Yellow'), ('Pear', 'Green')]\n",
    "print(fruitsncolor)\n",
    "# Convert the list of tuples into a dictionary and print it\n",
    "d = dict(fruitsncolor)\n",
    "print(d)\n",
    "# Print the list of keys\n",
    "print('Fruits in dictionary', list(d))\n",
    "```\n",
    "Here we just showed you that if you provide the key-value pair in a list, you can generate a dictionary with the `dict` function. I also showed you that you can go back and forth from tuples to lists with the functions `list` and `tuple`."
   ]
  },
  {
   "cell_type": "markdown",
   "metadata": {
    "slideshow": {
     "slide_type": "slide"
    }
   },
   "source": [
    "#### Recap\n",
    "In this section we also saw that lists are represented with square brackets (`[]`), dictionaries with curly brackets (`{}`) and tuples with parenthesis (`()`). All these data structures (including strings) have very useful functions that we will not cover here, but I encourage you to explore before continuing. You can visit the [Python documentation](https://docs.python.org/3/tutorial/datastructures.html) for more information."
   ]
  },
  {
   "cell_type": "code",
   "execution_count": null,
   "metadata": {},
   "outputs": [],
   "source": []
  },
  {
   "cell_type": "markdown",
   "metadata": {
    "comet_cell_id": "41f781af3eb3c"
   },
   "source": [
    "## Activity 1. Working with lists, tuples, and dictionaries: \n",
    "#### Scenario:\n",
    "You have a list of 10 genes names, a second list with the number of copies of each gene in species _x_, and a new gene and copy count. You want to create a container that would allow you to access the number of gene copies by calling the gene name. You also received a third list matching the same gene names but with counts for species _y_.\n",
    "#### Aim:\n",
    "Create a container that would allow you to access the number of gene copies by calling the gene name by species name.\n",
    "**HINT: You will be creating a dictionary of dictionaries**\n",
    "\n",
    "#### Steps\n",
    "1. In a Python console, create a variable called `genes` containing the following gene names: `COI`, `Cytb`, `12S`, `18S`, `IgA`, `A1BG`, `ZZZ3`, `GDF6`, `CNN1`, `MKNK1`.\n",
    "2. Create a second list called `spx_counts` with the following counts (**NOTE: counts are made up**): `1000`, `1000`, `5000`, `500`, `54`, `35`, `564`, `6`, `45`, `68`.\n",
    "3. Create a third list called `spy_counts` with the counts of gene copies for species _y_: `1050`, `1050`, `3452`, `315`, `45`, `45`, `345`, `5`, `78`, `15`.\n",
    "4. Create a tuple with a new pair of gene name and its count for species _x_ called `new_entry`: `('ALPI', 789)`\n",
    "5. The new entry has a mistake, it was not the `ALPI` gene but instead it was the `ALPG` name. Correct it.\n",
    "6. Create a dictionary for each species\n",
    "7. Add the new entry of species _x_ in the appropriate dictionary\n",
    "8. Create a dictionary where the keys are the species names and the values are the dictionaries with the counts\n",
    "9. Print the counts in both species for the gene `CNN1`\n",
    "\n",
    "#### Code:\n",
    "```python\n",
    "# Step 1. Generate the gene names list\n",
    "genes = ['COI', 'Cytb', '12S', '18S', 'IgA', 'A1BG', 'ZZZ3', 'GDF6', 'CNN1', 'MKNK1']\n",
    "# Step 2. Generate the list with species x counts\n",
    "spx_counts = [1000, 1000, 5000, 500, 54, 35, 564, 6, 45, 68]\n",
    "# Step 3. Generate the list with species y counts\n",
    "spy_counts = [1050, 1050, 3452, 315, 45, 45, 345, 5, 78, 15]\n",
    "# Step 4. Create a tuple with the new entry\n",
    "new_entry = ('ALPI', 789)\n",
    "# Step 5. Correct the mistake: for this you need to transform the tuple into list, and then back\n",
    "new_entry = list(new_entry)\n",
    "new_entry[0] = 'ALPG'\n",
    "new_entry = tuple(new_entry)\n",
    "# Step 6. Create a dictionary per species\n",
    "dx = {} # Empty dictionaries to start\n",
    "dy = dict() # This is also a empty dictionary but with the constructor\n",
    "for index, gene in enumerate(genes):\n",
    "    dx[genes[index]] = spx_counts[index]\n",
    "    dy[genes[index]] = spy_counts[index]\n",
    "# Step 7. Add the new entry into the dictionary dx.\n",
    "dx[new_entry[0]] = new_entry[1]\n",
    "# Step 8. Create a dictionary of dictionaries where the upper level key is the species name (x and y)\n",
    "big_dict = {'x': dx, 'y': dy}\n",
    "# Step 9. Print the counts in both species for the gene CNN1\n",
    "for sp, dictionary in big_dict.items():\n",
    "    print('The count of CNN1 in species %s is %d' % (sp, dictionary['CNN1']))\n",
    "```\n",
    "\n",
    "#### Final output"
   ]
  },
  {
   "cell_type": "code",
   "execution_count": 34,
   "metadata": {
    "comet_cell_id": "4b89a80c05405",
    "hide_input": true
   },
   "outputs": [
    {
     "name": "stdout",
     "output_type": "stream",
     "text": [
      "The count of CNN1 in species x is 45\n",
      "The count of CNN1 in species y is 78\n"
     ]
    }
   ],
   "source": [
    "# Step 1. Generate the gene names list\n",
    "genes = ['COI', 'Cytb', '12S', '18S', 'IgA', 'A1BG', 'ZZZ3', 'GDF6', 'CNN1', 'MKNK1']\n",
    "# Step 2. Generate the list with species x counts\n",
    "spx_counts = [1000, 1000, 5000, 500, 54, 35, 564, 6, 45, 68]\n",
    "# Step 3. Generate the list with species y counts\n",
    "spy_counts = [1050, 1050, 3452, 315, 45, 45, 345, 5, 78, 15]\n",
    "# Step 4. Create a tuple with the new entry\n",
    "new_entry = ('ALPI', 789)\n",
    "# Step 5. Correct the mistake: for this you need to transform the tuple into list, and then back\n",
    "new_entry = list(new_entry)\n",
    "new_entry[0] = 'ALPG'\n",
    "new_entry = tuple(new_entry)\n",
    "# Step 6. Create a dictionary per species\n",
    "dx = {} # Empty dictionaries to start\n",
    "dy = dict() # This is also a empty dictionary but with the constructor\n",
    "for index, gene in enumerate(genes):\n",
    "    dx[genes[index]] = spx_counts[index]\n",
    "    dy[genes[index]] = spy_counts[index]\n",
    "# Step 7. Add the new entry into the dictionary dx.\n",
    "dx[new_entry[0]] = new_entry[1]\n",
    "# Step 8. Create a dictionary of dictionaries where the upper level key is the species name (x and y)\n",
    "big_dict = {'x': dx, 'y': dy}\n",
    "# Step 9. Print the counts in both species for the gene CNN1\n",
    "for sp, dictionary in big_dict.items():\n",
    "    print('The count of CNN1 in species %s is %d' % (sp, dictionary['CNN1']))"
   ]
  },
  {
   "cell_type": "markdown",
   "metadata": {
    "comet_cell_id": "0c7caf5dfb006"
   },
   "source": []
  },
  {
   "cell_type": "markdown",
   "metadata": {
    "comet_cell_id": "50795715c43d7",
    "slideshow": {
     "slide_type": "notes"
    }
   },
   "source": [
    "#### Exercise 5: Creating and indexing over lists\n",
    "Imagine you want to store different kinds of data. We already saw that variables can contain only the same type of variables. But what if we need to contain different types? We use containers such as lists:\n",
    "\n",
    "1. Let's start by creating a list with an integer (`1`), a string (`a`), and a float (`3.0`). To create lists we can enclose a series of objects between square brackets (`[]`), and separating the objects with comma:\n",
    "```python\n",
    "# Create a list\n",
    "alist = [1, 'a', 3.0, 4]\n",
    "```\n",
    "2. Now let's see how it looks like using `print`:\n",
    "```python\n",
    "# Print the list\n",
    "print(alist)\n",
    "```\n",
    "The output looks like this:"
   ]
  },
  {
   "cell_type": "code",
   "execution_count": 5,
   "metadata": {
    "comet_cell_id": "f769a0eb7ed44",
    "hide_input": true,
    "slideshow": {
     "slide_type": "notes"
    }
   },
   "outputs": [
    {
     "name": "stdout",
     "output_type": "stream",
     "text": [
      "y is of type <class 'float'> with value 5.5\n",
      "y1 is of type <class 'str'> with value 5.5\n",
      "y2 is of type <class 'int'> with value 5\n"
     ]
    }
   ],
   "source": [
    "y = 5.5\n",
    "y1 = str(y) # Transform float into string\n",
    "y2 = int(y) # Transform float into integer\n",
    "print('y is of type', type(y), 'with value', y)\n",
    "print('y1 is of type', type(y1), 'with value', y1)\n",
    "print('y2 is of type', type(y2), 'with value', y2)"
   ]
  },
  {
   "cell_type": "markdown",
   "metadata": {
    "comet_cell_id": "33ccac48f55f8",
    "slideshow": {
     "slide_type": "notes"
    }
   },
   "source": [
    "Noticed something wrong? Yes, spaces are consider characters in Python and therefore we need to provide them.\n",
    "\n",
    "3. Redefine `x` as `Hello ` including a space after the word hello:\n",
    "```python\n",
    "x = 'Hello '\n",
    "```\n",
    "4. Print the concatenation of the new `x` and same `y`:\n",
    "```python\n",
    "print( x + y )\n",
    "```\n",
    "\n",
    "The output this time is:"
   ]
  },
  {
   "cell_type": "code",
   "execution_count": 3,
   "metadata": {
    "comet_cell_id": "32d34c03afc4",
    "hide_input": true,
    "slideshow": {
     "slide_type": "notes"
    }
   },
   "outputs": [
    {
     "name": "stdout",
     "output_type": "stream",
     "text": [
      "Hello World\n"
     ]
    }
   ],
   "source": [
    "x = 'Hello '\n",
    "y = 'World'\n",
    "print( x + y )"
   ]
  },
  {
   "cell_type": "markdown",
   "metadata": {
    "comet_cell_id": "4718768c0f2c8",
    "slideshow": {
     "slide_type": "notes"
    }
   },
   "source": [
    "Strings can also be full sentences and even full texts, as we will see when we start reading files.\n",
    "\n",
    "### Integers\n",
    "As the name classifies this data type is reserved for integer numbers. As you possibly know, integers cannot not have decimal places, as this type of data is discrete. The distinction that Python (and most other programming languages) do between integers and decimals (called floats in python, see below) is that they occupy different amount of memory, and therefore they are different class of objects. However, you can do any mathematical operation using floats and integers.\n",
    "\n",
    "### Floats\n",
    "As you probably already know, float is a data type designated for numbers with decimal places. `1.5` is considered a float, but also `1.0`. Both integers and floats have to be designated **without quotation marks**, otherwise Python will interpret them as strings. To understand this better let's do another exercise.\n",
    "\n",
    "#### Exercise 3: Checking types in variables\n",
    "Let's imagine you have define some variables and you would like to know their `type`, that is if they are a String, a Float, an Integer, or any other data structure (**NOTE: we will see more about these other data structures in the next section**).\n",
    "\n",
    "1. Let's define `x` as `10`, `y` as `5.5` and `z` as `'89'`:\n",
    "```python\n",
    "x = 10\n",
    "y = 5.5\n",
    "z = '89'\n",
    "```\n",
    "2. Now let's use the function `type()` within the `print` function, to print the type of each one:\n",
    "```python\n",
    "print('x is of type', type(x))\n",
    "print('y is of type', type(y))\n",
    "print('z is of type', type(z))\n",
    "```\n",
    "The output of these is:\n",
    "\n",
    "```\n",
    "x is of type <class 'int'>\n",
    "y is of type <class 'float'>\n",
    "z is of type <class 'str'>\n",
    "```\n",
    "3. Try adding `x` an integer and `y` a float:\n",
    "```python\n",
    "print('The sum of x and y is', x + y)\n",
    "```\n",
    "You would find that the output is:\n",
    "```\n",
    "The sum of x and y is 15.5\n",
    "```\n",
    "As you probably already guessed, `type` is a python function that will tell you what data type a variable belongs to. What would happen if we try to add `z` to `x` or `y` in the previous example? It will fail as before. However, if the value of a string is an integer or a float, it can be converted to the other two types. \n",
    "\n",
    "\n",
    "#### Exercise 4: Converting between types\n",
    "Pretend you have the same set of variables than in example 1, that is `x` as `10`, `y` as `5.5` and `z` as `'89'`. Now as you can see `z` is a numerical string, and therefore it can be converted to other types. To do this, we can use the functions `str`, `int`, and `float`, to transform data to strings, integers or floats.\n",
    "\n",
    "1. Let's set the variables again:\n",
    "```python\n",
    "x = 10\n",
    "y = 5.5\n",
    "z = '89'\n",
    "```\n",
    "2. Using the functions `str()` and `float()` transform the integer (`x`) into a string and a float:\n",
    "```python\n",
    "x1 = str(x) # Transform integer into string\n",
    "x2 = float(x) # Trasform integer into float\n",
    "```\n",
    "3. Using the `print` function and the `type` function we learned before, print the type and values of `x`, `x1` and `x2`:\n",
    "```python\n",
    "print('x is of type', type(x), 'with value', x)\n",
    "print('x1 is of type', type(x1), 'with value', x1)\n",
    "print('x2 is of type', type(x2), 'with value', x2)\n",
    "```\n",
    "The output is:"
   ]
  },
  {
   "cell_type": "markdown",
   "metadata": {
    "comet_cell_id": "177e1395d7adb",
    "slideshow": {
     "slide_type": "notes"
    }
   },
   "source": [
    "### Exercise 2: Concatenating strings\n",
    "In exercise 1 we saw that we cannot add Strings and Numbers. However, we can add Strings!! That is called String concatenation. \n",
    "\n",
    "1. Say that you define variable `x` as `Hello` and variable `y` as `World:\n",
    "\n",
    "```python\n",
    "x = 'Hello'\n",
    "y = 'World'\n",
    "```\n",
    "2. Then let's print their concatenation:\n",
    "\n",
    "```python\n",
    "print( x + y )\n",
    "```\n",
    "The output is as follows:"
   ]
  }
 ],
 "metadata": {
  "celltoolbar": "Slideshow",
  "comet_paths": [
   [
    "5fc18626/Lesson1.Introduction_to_Python_IO_operations.ipynb",
    1555458746407
   ]
  ],
  "comet_tracking": true,
  "kernelspec": {
   "display_name": "Python 3",
   "language": "python",
   "name": "python3"
  },
  "language_info": {
   "codemirror_mode": {
    "name": "ipython",
    "version": 3
   },
   "file_extension": ".py",
   "mimetype": "text/x-python",
   "name": "python",
   "nbconvert_exporter": "python",
   "pygments_lexer": "ipython3",
   "version": "3.6.9"
  },
  "rise": {
   "footer": "<img src='SHRCPP.png' alt='SHARCNET logo'>"
  }
 },
 "nbformat": 4,
 "nbformat_minor": 4
}
