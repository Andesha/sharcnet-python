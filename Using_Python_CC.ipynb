{
 "cells": [
  {
   "cell_type": "markdown",
   "metadata": {
    "slideshow": {
     "slide_type": "slide"
    }
   },
   "source": [
    "# Using Python in Compute Canada Clusters\n",
    "So far we have seen how to work on the console, and a bit on how to create simple scripts. In this section we will be showing how to use Python programs in our clusters.\n",
    "\n",
    "[https://docs.computecanada.ca/wiki/Python](https://docs.computecanada.ca/wiki/Python)"
   ]
  },
  {
   "cell_type": "markdown",
   "metadata": {
    "slideshow": {
     "slide_type": "slide"
    }
   },
   "source": [
    "## Forget about Anaconda/Miniconda\n",
    "\n",
    "It is tempting to install and use `conda` environments. For personal use (your own laptops) or single user (or just a few) it is OK and an important resource. For an HPC environment, however, it does not work well since Anaconda:"
   ]
  },
  {
   "cell_type": "markdown",
   "metadata": {
    "slideshow": {
     "slide_type": "subslide"
    }
   },
   "source": [
    "1. Often installs software already on our systems, with a configuration that is not optimal.\n",
    "\n",
    "2. Makes incorrect assumptions about the location of various system libraries.\n",
    "\n",
    "3. Anaconda uses the `$HOME` directory for its installation, where it writes an enormous number of files (think of your quota!). "
   ]
  },
  {
   "cell_type": "markdown",
   "metadata": {
    "slideshow": {
     "slide_type": "subslide"
    }
   },
   "source": [
    "4. Is slower than the installation of packages via Python wheels.\n",
    "\n",
    "5. Modifies the `$HOME/.bashrc` file, which can easily cause conflicts."
   ]
  },
  {
   "cell_type": "markdown",
   "metadata": {
    "slideshow": {
     "slide_type": "slide"
    }
   },
   "source": [
    "## Load the Python version required\n",
    "By defaut our Python version is 2.7.13. This is likely to change in the future, but you can check our python versions by:\n",
    "```\n",
    "[user@gra-login3 ~]$ module spider python\n",
    "```"
   ]
  },
  {
   "cell_type": "markdown",
   "metadata": {
    "slideshow": {
     "slide_type": "notes"
    }
   },
   "source": [
    "```bash\n",
    "-------------------------------------------------------------------------------------------------\n",
    "  python:\n",
    "-------------------------------------------------------------------------------------------------\n",
    "    Description:\n",
    "      Python is a programming language that lets you work more quickly and integrate your\n",
    "      systems more effectively.\n",
    "\n",
    "     Versions:\n",
    "        python/2.7.14\n",
    "        python/3.5.4\n",
    "        python/3.6.3\n",
    "        python/3.7.0\n",
    "        python/3.7.4\n",
    "        python/3.8.0\n",
    "        python/3.8.2\n",
    "     Other possible modules matches:\n",
    "        ipython-kernel  python27-mpi4py  python27-scipy-stack  python35-mpi4py  python35-scipy-stack\n",
    "\n",
    "-------------------------------------------------------------------------------------------------\n",
    "  To find other possible module matches execute:\n",
    "\n",
    "      $ module -r spider '.*python.*'\n",
    "\n",
    "-------------------------------------------------------------------------------------------------\n",
    "  For detailed information about a specific \"python\" package (including how to load the modules) use the module's full name.\n",
    "  Note that names that have a trailing (E) are extensions provided by other modules.\n",
    "  For example:\n",
    "\n",
    "     $ module spider python/3.8.2\n",
    "-------------------------------------------------------------------------------------------------\n",
    "```"
   ]
  },
  {
   "cell_type": "markdown",
   "metadata": {
    "slideshow": {
     "slide_type": "subslide"
    }
   },
   "source": [
    "Once you identify the version you wish, you can load it by:\n",
    "    \n",
    "```bash\n",
    "[user@gra-login3 ~]$ module load python/3.6.3\n",
    "```"
   ]
  },
  {
   "cell_type": "markdown",
   "metadata": {
    "slideshow": {
     "slide_type": "notes"
    }
   },
   "source": [
    "If you use `module load python` without any version, our systems will use the newest `python/3.8.2` by default. If you are going to develop your own code, we reccomend you avoid python 2 completely, and do all your coding in Python 3, as Python 2 is no longer supported."
   ]
  },
  {
   "cell_type": "markdown",
   "metadata": {
    "slideshow": {
     "slide_type": "subslide"
    }
   },
   "source": [
    "Loading python modules in our systems will also load the `pip` installer so you can install particular python pakages or modules available in PyPi. However, **DO NOT** install packages we provide through:\n",
    "\n",
    "1. Software stack: by `module` command\n",
    "2. Python wheels: by `avail_wheels`command\n"
   ]
  },
  {
   "cell_type": "markdown",
   "metadata": {
    "slideshow": {
     "slide_type": "subslide"
    }
   },
   "source": [
    "Through the sofware stack we provide numerical and scientific Python pakages such as `scipy`, `numpy`, `pandas`, etc, bundled in a module prefixed with `scipy`:\n",
    "```bash\n",
    "[user@gra-login3 ~]$ module spider scipy\n",
    "```"
   ]
  },
  {
   "cell_type": "markdown",
   "metadata": {
    "slideshow": {
     "slide_type": "notes"
    }
   },
   "source": [
    "```bash\n",
    "-------------------------------------------------------------------------------------------------\n",
    "  scipy-stack:\n",
    "-------------------------------------------------------------------------------------------------\n",
    "    Description:\n",
    "      Bundle which contains the Scientific Python stack, including Cycler, mpmath, numpy, scipy,\n",
    "      sympy, pandas, matplotlib, ipython_genutils, traitlets, ptyprocess, pathlib2, pickleshare,\n",
    "      pexpect, simplegeneric, ipython, ipykernel, jupyter_client, jupyter_core, pyzmq, tornado,\n",
    "      futures and ipyparallel.\n",
    "\n",
    "     Versions:\n",
    "        scipy-stack/2017b\n",
    "        scipy-stack/2018b\n",
    "        scipy-stack/2019a\n",
    "        scipy-stack/2019b\n",
    "\n",
    "-------------------------------------------------------------------------------------------------\n",
    "  For detailed information about a specific \"scipy-stack\" package (including how to load the modules) use the module's full name.\n",
    "  Note that names that have a trailing (E) are extensions provided by other modules.\n",
    "  For example:\n",
    "\n",
    "     $ module spider scipy-stack/2019b\n",
    "-------------------------------------------------------------------------------------------------\n",
    "\n",
    "```\n"
   ]
  },
  {
   "cell_type": "markdown",
   "metadata": {
    "slideshow": {
     "slide_type": "subslide"
    }
   },
   "source": [
    "Other packages are predownloaded in our clusters and can be found using the `avail_wheels` command:\n",
    "\n",
    "```bash\n",
    "[user@gra-login3 ~]$ avail_wheels msprime*\n",
    "name     version    build    python    arch\n",
    "-------  ---------  -------  --------  -------\n",
    "msprime  0.7.3               cp38      generic\n",
    "msprime  0.7.3               cp37      generic\n",
    "msprime  0.7.3               cp36      generic\n",
    "msprime  0.7.3               cp35      generic\n",
    "```"
   ]
  },
  {
   "cell_type": "markdown",
   "metadata": {
    "slideshow": {
     "slide_type": "subslide"
    }
   },
   "source": [
    "Once you found the package and version, you can install it using `pip` with the `--no-index` option. This will avoid downloading the package from the web and use our optimized copies instead:\n",
    "\n",
    "```bash\n",
    "pip install --no-index msprime==0.7.3\n",
    "```"
   ]
  },
  {
   "cell_type": "markdown",
   "metadata": {
    "slideshow": {
     "slide_type": "subslide"
    }
   },
   "source": [
    "In the login nodes you can download a personal copy from the web by `pip install <package name> --user` if you cannot find it in our wheels. However, **WE DO NOT RECOMMEND IT**, and we prefer if you create a ticket by send an email to ***support@computecanada.ca***."
   ]
  },
  {
   "cell_type": "markdown",
   "metadata": {
    "slideshow": {
     "slide_type": "notes"
    }
   },
   "source": [
    "**NOTE:** You will not be able to install packages globally (e.i. without the `--user` option)"
   ]
  },
  {
   "cell_type": "markdown",
   "metadata": {
    "slideshow": {
     "slide_type": "slide"
    }
   },
   "source": [
    "## Don't use `conda`, use a virtual environment instead\n",
    "\n",
    "We provide the tool virtualenv to allows users to create virtual environments within which you can easily install Python packages and have a clean Python environment. After you loaded python as before, you can create your virtual environment by:\n",
    "\n",
    "```\n",
    "[user@gra-login3 ~]$ virtualenv --no-download ~/ENV`\n",
    "[user@gra-login3 ~]$ source ~/ENV/bin/activate\n",
    "(ENV)[user@gra-login3 ~]$ pip install --no-index --upgrade pip\n",
    "```\n",
    "\n"
   ]
  },
  {
   "cell_type": "markdown",
   "metadata": {
    "slideshow": {
     "slide_type": "subslide"
    }
   },
   "source": [
    "On your Compute Canada account (or your guest account), try creating a virtual envronment and install the package `msprime`"
   ]
  },
  {
   "cell_type": "markdown",
   "metadata": {
    "slideshow": {
     "slide_type": "slide"
    }
   },
   "source": [
    "## Creating virtual environments inside of your jobs\n",
    "The most efficient way to execute python code in our systems is creating a virtual environment within your job, and pointing at a local hard-drive:\n",
    "```\n",
    "#!/bin/bash\n",
    "#SBATCH --account=def-someuser\n",
    "#SBATCH --mem-per-cpu=1.5G\n",
    "#SBATCH --time=1:00:00\n",
    "module load python/3.6\n",
    "virtualenv --no-download $SLURM_TMPDIR/env\n",
    "source $SLURM_TMPDIR/env/bin/activate\n",
    "pip install --no-index --upgrade pip\n",
    "pip install --no-index -r requirements.txt\n",
    "python ...\n",
    "```"
   ]
  },
  {
   "cell_type": "markdown",
   "metadata": {
    "slideshow": {
     "slide_type": "notes"
    }
   },
   "source": [
    "Note the `$SLURM_TMPDIR` environmental variable that holds the path to the temporary directory. This directory is on the local hardisk, and accessing it is faster than `project`, `$HOME`, or `scratch`"
   ]
  },
  {
   "cell_type": "markdown",
   "metadata": {
    "slideshow": {
     "slide_type": "subslide"
    }
   },
   "source": [
    "The `requirements.txt` file is a regular text file with one package/requirement/dependency per line, including the version (otherwise the most recent is the default). Say that your python script requires `scikit_learn` version 0.23.0, and `astropy` version greater than 3.2.3:\n",
    "\n",
    "```\n",
    "# contents of requirements.txt file\n",
    "scikit_learn==0.23.0\n",
    "astropy>=3.2.3\n",
    "```"
   ]
  },
  {
   "cell_type": "markdown",
   "metadata": {
    "slideshow": {
     "slide_type": "slide"
    }
   },
   "source": [
    "## Exercise\n",
    "\n",
    "In this exercise we will run a demographic simulator package called `msprime` on the compute nodes.\n",
    "\n",
    ">The primary goal of msprime is to efficiently and conveniently generate coalescent trees for a sample under a range of evolutionary scenarios\n",
    "\n",
    "The basic command line we will be executings is `msp simulate -L 1000000  1000000 test.tsf`, that is, to simulate one million bases, sample one million individuls and output the tree sequence to `test.tsf`"
   ]
  },
  {
   "cell_type": "markdown",
   "metadata": {
    "slideshow": {
     "slide_type": "subslide"
    }
   },
   "source": [
    "### Steps:\n",
    "1. Write a slurm script called `myjob.sh` to submit a job with a python environment. **HINT:** check https://docs.computecanada.ca/wiki/Python#Creating_and_using_a_virtual_environment\n",
    "2. Within that script, install msprime\n",
    "3. Within that script, excute msprime: `msp simulate -L 1000000  1000000 test.tsf`\n",
    "4. Submit the job through `sbatch myjob.sh`"
   ]
  }
 ],
 "metadata": {
  "celltoolbar": "Slideshow",
  "kernelspec": {
   "display_name": "Python 3",
   "language": "python",
   "name": "python3"
  },
  "language_info": {
   "codemirror_mode": {
    "name": "ipython",
    "version": 3
   },
   "file_extension": ".py",
   "mimetype": "text/x-python",
   "name": "python",
   "nbconvert_exporter": "python",
   "pygments_lexer": "ipython3",
   "version": "3.7.5"
  },
  "rise": {
   "footer": "<img src='SHRCPP.png' alt='SHARCNET logo'>"
  }
 },
 "nbformat": 4,
 "nbformat_minor": 4
}
