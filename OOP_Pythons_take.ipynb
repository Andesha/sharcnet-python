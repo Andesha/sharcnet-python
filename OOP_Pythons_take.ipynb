{
 "cells": [
  {
   "cell_type": "markdown",
   "metadata": {
    "comet_cell_id": "3ca8714bc81d7",
    "slideshow": {
     "slide_type": "slide"
    }
   },
   "source": [
    "# Object Oriented Programming: Python's Take\n",
    "\n",
    "OOP is a programming paradigm to structure programs so that properties and behaviors are bundled into individual objects."
   ]
  },
  {
   "cell_type": "code",
   "execution_count": null,
   "metadata": {
    "comet_cell_id": "5ecc925e7f0b2",
    "slideshow": {
     "slide_type": "fragment"
    }
   },
   "outputs": [],
   "source": [
    "x = 'A string is an object'\n",
    "dir(x)\n",
    "..."
   ]
  },
  {
   "cell_type": "markdown",
   "metadata": {
    "slideshow": {
     "slide_type": "notes"
    }
   },
   "source": [
    "All elements in python are objects, and more specifically class objects"
   ]
  },
  {
   "cell_type": "markdown",
   "metadata": {
    "comet_cell_id": "11655c68f6ee8",
    "slideshow": {
     "slide_type": "slide"
    }
   },
   "source": [
    "## Class\n",
    "Think of objects as container packages with information and actions that act on the information. Most objects in python are organized in classes and contain:\n",
    "1. Attributes\n",
    "2. Properties\n",
    "3. Methods"
   ]
  },
  {
   "cell_type": "code",
   "execution_count": null,
   "metadata": {
    "slideshow": {
     "slide_type": "subslide"
    }
   },
   "outputs": [],
   "source": [
    "class MyFirstClass:\n",
    "    pass\n",
    "..."
   ]
  },
  {
   "cell_type": "markdown",
   "metadata": {
    "slideshow": {
     "slide_type": "notes"
    }
   },
   "source": [
    "As a convention, classes are named in a Camel Case fashion. These kind of conventions (Found in the PEP guides) helps differentiate classes from functions, etc, with a simple glance of the code."
   ]
  },
  {
   "cell_type": "markdown",
   "metadata": {
    "slideshow": {
     "slide_type": "subslide"
    }
   },
   "source": [
    "To construct more complex classes, we will use a function within the class, called `constructor`. In Python, this is defined through the function name `__init__`."
   ]
  },
  {
   "cell_type": "code",
   "execution_count": null,
   "metadata": {
    "comet_cell_id": "8898aa2ed49ec",
    "slideshow": {
     "slide_type": "fragment"
    }
   },
   "outputs": [],
   "source": [
    "class MyFirstClass(object):\n",
    "    def __init__(self, num1, num2):\n",
    "        self.a = num1\n",
    "        self.b = num2\n",
    "\n",
    "instance = MyFirstClass(10, 100)\n",
    "print(instance)"
   ]
  },
  {
   "cell_type": "markdown",
   "metadata": {
    "comet_cell_id": "c83a1d5c04a6c",
    "slideshow": {
     "slide_type": "slide"
    }
   },
   "source": [
    "## Attributes\n",
    "\n",
    "Attributes are data variables within an object. In our example `a` and `b` are attributes of `aclass`:"
   ]
  },
  {
   "cell_type": "code",
   "execution_count": null,
   "metadata": {
    "comet_cell_id": "f4ee01eb554b3",
    "slideshow": {
     "slide_type": "subslide"
    }
   },
   "outputs": [],
   "source": [
    "instance.a\n",
    "..."
   ]
  },
  {
   "cell_type": "markdown",
   "metadata": {
    "slideshow": {
     "slide_type": "notes"
    }
   },
   "source": [
    "You can access any of the attributes of an instance (the variable holding the class) by calling it after a dot. As another example:\n",
    "\n",
    "```python\n",
    "i = MyFirstClass(10, 29)\n",
    "i.a # access 10\n",
    "i.b # access 29\n",
    "```\n",
    "\n",
    "Within the class, the attributes can be accessed through the variable self. For now, let's check on a special kind of attribute called properties."
   ]
  },
  {
   "cell_type": "markdown",
   "metadata": {
    "slideshow": {
     "slide_type": "subslide"
    }
   },
   "source": [
    "Why bundle variables as attributes? The short answer is to keep track of variables that make sense toguether:"
   ]
  },
  {
   "cell_type": "code",
   "execution_count": 24,
   "metadata": {
    "slideshow": {
     "slide_type": "fragment"
    }
   },
   "outputs": [
    {
     "name": "stdout",
     "output_type": "stream",
     "text": [
      "Sergio is the oldest person at 38 years old\n"
     ]
    }
   ],
   "source": [
    "class Person:\n",
    "    def __init__(self, name, age):\n",
    "        self.name = name\n",
    "        self.age = age\n",
    "\n",
    "persons = [Person('Chad', 28), Person('Fred', 20), Person('Claudia', 30), \n",
    "           Person('Sergio', 38)]\n",
    "maxage = max([i.age for i in persons])\n",
    "oldest = [i.name for i in persons if i.age == maxage][0]\n",
    "print(\"{} is the oldest person at {} years old\".format(oldest, maxage))\n"
   ]
  },
  {
   "cell_type": "markdown",
   "metadata": {
    "slideshow": {
     "slide_type": "notes"
    }
   },
   "source": [
    "You might be tempted to say that the same thing can be made with tuples (for unmutable relationships) or list (for mutable relationships). However, what if you want to mutate these variables according to one another? It will become increasingly difficult to do this with built in data structures such as lists and tuples. When attributes can be (or must be) modified on assignment, we call them properties."
   ]
  },
  {
   "cell_type": "markdown",
   "metadata": {
    "slideshow": {
     "slide_type": "subslide"
    }
   },
   "source": [
    "### Hidden vs Exposed Attributes\n",
    "In Python, we use double underscore before the attributes name to make them inaccessible/private or to hide them"
   ]
  },
  {
   "cell_type": "code",
   "execution_count": null,
   "metadata": {
    "slideshow": {
     "slide_type": "fragment"
    }
   },
   "outputs": [],
   "source": [
    "class Person:\n",
    "    def __init__(self, name, age):\n",
    "        self.name = name\n",
    "        self.age = age\n",
    "        self.__half_life = self.age / 2\n",
    "\n",
    "p = Person('Sergio', 38)\n",
    "..."
   ]
  },
  {
   "cell_type": "markdown",
   "metadata": {
    "slideshow": {
     "slide_type": "notes"
    }
   },
   "source": [
    "As you can see, in Python (differring from other languages), the hidden attributes can be accessed, but you should not, since it is supposed to be an internal attribute that would be accessed by other methods. We wil get back at this, when exploring objects."
   ]
  },
  {
   "cell_type": "markdown",
   "metadata": {
    "comet_cell_id": "db8c6f061ad48",
    "slideshow": {
     "slide_type": "slide"
    }
   },
   "source": [
    "## Properties\n",
    "When an attribute triggers a function to set, get or delete, it is called a property:"
   ]
  },
  {
   "cell_type": "code",
   "execution_count": 30,
   "metadata": {
    "comet_cell_id": "bf33d6c3c6f27",
    "slideshow": {
     "slide_type": "slide"
    }
   },
   "outputs": [
    {
     "data": {
      "text/plain": [
       "33554432"
      ]
     },
     "execution_count": 30,
     "metadata": {},
     "output_type": "execute_result"
    }
   ],
   "source": [
    "class MyFirstClass(object):\n",
    "    def __init__(self, num1, num2):\n",
    "        self.a = num1\n",
    "        self.b = num2\n",
    "    @property\n",
    "    def z(self):\n",
    "        return self.__z\n",
    "    @z.setter\n",
    "    def z(self, num):\n",
    "        self.__z = self.a ** (self.b * num)\n",
    "    @z.deleter\n",
    "    def z(self):\n",
    "        del self.__z\n",
    "    \n",
    "...\n",
    "        "
   ]
  },
  {
   "cell_type": "markdown",
   "metadata": {
    "slideshow": {
     "slide_type": "notes"
    }
   },
   "source": [
    "With the property, we can process an input before it populates our instance attribute through setters (the `@z.setter` in the example), getters (the `@property` in the example), and deleters (the `@z.deleter` in our example)."
   ]
  },
  {
   "cell_type": "markdown",
   "metadata": {
    "slideshow": {
     "slide_type": "subslide"
    }
   },
   "source": [
    "### Why properties?\n",
    "Properties are very useful, especially when you are developing interactions with your class that require changing some of the attributes. Let's see a more applied example. Let's say we want to have a temperature converter:"
   ]
  },
  {
   "cell_type": "code",
   "execution_count": 14,
   "metadata": {
    "slideshow": {
     "slide_type": "subslide"
    }
   },
   "outputs": [
    {
     "data": {
      "text/plain": [
       "1.8"
      ]
     },
     "execution_count": 14,
     "metadata": {},
     "output_type": "execute_result"
    }
   ],
   "source": [
    "class Temperature(object):\n",
    "    def __init__(self):\n",
    "        self.kelvin = 0\n",
    "        self.celsius = -273\n",
    "        self.farenheit = 459.4\n",
    "    @property\n",
    "    def kelvin(self):\n",
    "        return self.__kelvin\n",
    "    @kelvin.setter\n",
    "    def kelvin(self, kelvin):\n",
    "        self.__kelvin = kelvin\n",
    "        self.__celsius = self.__kelvin - 273\n",
    "        self.__farenheit = (self.celsius * 1.8) + 32\n",
    "        \n",
    "..."
   ]
  },
  {
   "cell_type": "markdown",
   "metadata": {
    "slideshow": {
     "slide_type": "notes"
    }
   },
   "source": [
    "As we can see, all the attributes can be update it by setting one. We could set all other attributes such as `celsius` and `farenheit` as properties, and update the rest:\n",
    "\n",
    "```python\n",
    "class Temperature(object):\n",
    "    def __init__(self):\n",
    "        self.kelvin = 0\n",
    "        self.celsius = -273\n",
    "        self.farenheit = 459.4\n",
    "    @property\n",
    "    def kelvin(self):\n",
    "        return self.__kelvin\n",
    "    @kelvin.setter\n",
    "    def kelvin(self, kelvin):\n",
    "        self.__kelvin = kelvin\n",
    "        self.__celsius = self.__kelvin - 273\n",
    "        self.__farenheit = (self.celsius * 1.8) + 32\n",
    "    @property\n",
    "    def celsius(self):\n",
    "        return self.__celsius\n",
    "    @celsius.setter\n",
    "    def celsius(self, celsius):\n",
    "        self.__celsius = celsius\n",
    "        self.__kelvin = self.__celsius + 273\n",
    "        self.__farenheit = (self.__celsius * 1.8) + 32\n",
    "    @property\n",
    "    def farenheit(self):\n",
    "        return self.__farenheit\n",
    "    @farenheit.setter\n",
    "    def farenheit(self, farenheit):\n",
    "        self.__farenheit = farenheit\n",
    "        self.__kelvin = (self.__farenheit - 32) * 0.555 + 273.15\n",
    "        self.__celsius = (self.__farenheit - 32) * 0.555\n",
    "```\n",
    "This way, you can ask our temperature converter to update all three attribute by setting only one of them.\n",
    "\n",
    "As you probably already noticed, the setters, getters and deleters are function that can access all attributes on the class. When the functions within the class are not setting, deleting or getting attributes, are called methods."
   ]
  },
  {
   "cell_type": "markdown",
   "metadata": {
    "slideshow": {
     "slide_type": "slide"
    }
   },
   "source": [
    "## Methods\n",
    "TL-DR, methods are functions within a class with two major differences:\n",
    "\n",
    "1. The method is implicitly used for an object for which it is called.\n",
    "2. The method is accessible to data that is contained within the class."
   ]
  },
  {
   "cell_type": "markdown",
   "metadata": {
    "slideshow": {
     "slide_type": "notes"
    }
   },
   "source": [
    "The setters, getters and deleters, are actual methods applied to specific attributes."
   ]
  },
  {
   "cell_type": "markdown",
   "metadata": {
    "slideshow": {
     "slide_type": "subslide"
    }
   },
   "source": [
    "Let's go back to our simple aclass without properties, and say you want to create methods that return values:"
   ]
  },
  {
   "cell_type": "code",
   "execution_count": 36,
   "metadata": {
    "comet_cell_id": "0502aa37b2b48",
    "slideshow": {
     "slide_type": "fragment"
    }
   },
   "outputs": [
    {
     "data": {
      "text/plain": [
       "['__class__',\n",
       " '__delattr__',\n",
       " '__dict__',\n",
       " '__dir__',\n",
       " '__doc__',\n",
       " '__eq__',\n",
       " '__format__',\n",
       " '__ge__',\n",
       " '__getattribute__',\n",
       " '__gt__',\n",
       " '__hash__',\n",
       " '__init__',\n",
       " '__init_subclass__',\n",
       " '__le__',\n",
       " '__lt__',\n",
       " '__module__',\n",
       " '__ne__',\n",
       " '__new__',\n",
       " '__reduce__',\n",
       " '__reduce_ex__',\n",
       " '__repr__',\n",
       " '__setattr__',\n",
       " '__sizeof__',\n",
       " '__str__',\n",
       " '__subclasshook__',\n",
       " '__weakref__',\n",
       " 'a',\n",
       " 'amethod',\n",
       " 'b',\n",
       " 'bmethod']"
      ]
     },
     "execution_count": 36,
     "metadata": {},
     "output_type": "execute_result"
    }
   ],
   "source": [
    "class MyFirstClass(object):\n",
    "    def __init__(self, num1, num2):\n",
    "        self.a = num1\n",
    "        self.b = num2\n",
    "        \n",
    "    def amethod(self, num3):\n",
    "        return self.a * num3\n",
    "    \n",
    "    def bmethod(self, num4):\n",
    "        return self.b / num4\n",
    "x = MyFirstClass(1,2)\n",
    "..."
   ]
  },
  {
   "cell_type": "markdown",
   "metadata": {
    "slideshow": {
     "slide_type": "notes"
    }
   },
   "source": [
    "So methods are functions that belong to an object (class) and that have access to all attribute and other methods in the class. You can modify attributes through the call of methods, by setting the attribute on call."
   ]
  },
  {
   "cell_type": "markdown",
   "metadata": {
    "slideshow": {
     "slide_type": "slide"
    }
   },
   "source": [
    "## Exploring Objects in Python\n",
    "\n",
    "There are different ways to inspect objects (including classes) in Python:\n",
    "1. `vars`: Function that returns the exposed attributes\n",
    "2. `dir`: Function that returns  a list of attributes (including private ones) and methods belonging to an object"
   ]
  },
  {
   "cell_type": "code",
   "execution_count": 38,
   "metadata": {
    "slideshow": {
     "slide_type": "subslide"
    }
   },
   "outputs": [
    {
     "data": {
      "text/plain": [
       "{'a': 10, 'b': 20}"
      ]
     },
     "execution_count": 38,
     "metadata": {},
     "output_type": "execute_result"
    }
   ],
   "source": [
    "x = MyFirstClass(10, 20)\n",
    "vars(x)\n",
    "..."
   ]
  },
  {
   "cell_type": "markdown",
   "metadata": {
    "slideshow": {
     "slide_type": "notes"
    }
   },
   "source": [
    "As shown, the `vars` function actually returns a hidden attribute called `__dict__`. When we build a class with certain set of exposed attributes, `__dict__` gets populated automatically. All Python classes will, by default have a `__dict__` attribute. However, not all **objects** have one."
   ]
  },
  {
   "cell_type": "markdown",
   "metadata": {
    "slideshow": {
     "slide_type": "subslide"
    }
   },
   "source": [
    "By now you are probably asking, What if I want to see all methods, and attributes? You use `dir`:"
   ]
  },
  {
   "cell_type": "code",
   "execution_count": null,
   "metadata": {
    "slideshow": {
     "slide_type": "fragment"
    }
   },
   "outputs": [],
   "source": [
    "x = MyFirstClass(10, 20)\n",
    "dir(x)\n",
    "..."
   ]
  },
  {
   "cell_type": "markdown",
   "metadata": {
    "slideshow": {
     "slide_type": "subslide"
    }
   },
   "source": [
    "We can modify the behaviour of these hidden attributes and methods, by defining them within the class:"
   ]
  },
  {
   "cell_type": "code",
   "execution_count": 49,
   "metadata": {
    "slideshow": {
     "slide_type": "fragment"
    }
   },
   "outputs": [
    {
     "data": {
      "text/plain": [
       "'This class contains 10 and 20'"
      ]
     },
     "execution_count": 49,
     "metadata": {},
     "output_type": "execute_result"
    }
   ],
   "source": [
    "class MyFirstClass(object):\n",
    "    \"\"\"\n",
    "    This is the first class I have created\n",
    "    \"\"\"\n",
    "    def __init__(self, num1, num2):\n",
    "        self.a = num1\n",
    "        self.b = num2\n",
    "    \n",
    "    def __str__(self):\n",
    "        return \"This class contains {a} and {b}\".format(**vars(self))\n",
    "    \n",
    "    def amethod(self, num3):\n",
    "        return self.a * num3\n",
    "    \n",
    "    def bmethod(self, num4):\n",
    "        return self.b / num4\n",
    "x = MyFirstClass(10, 20)\n",
    "str(x)\n"
   ]
  },
  {
   "cell_type": "markdown",
   "metadata": {
    "slideshow": {
     "slide_type": "subslide"
    }
   },
   "source": [
    "for more advanced inspections you can explore the `inspect` module."
   ]
  },
  {
   "cell_type": "markdown",
   "metadata": {
    "slideshow": {
     "slide_type": "slide"
    }
   },
   "source": [
    "## Base problem\n",
    "### Scenario:\n",
    "You are asked to create a script that based on a temperature value in Celsius input by the user, it will return the conversion to Farenheit."
   ]
  },
  {
   "cell_type": "markdown",
   "metadata": {
    "slideshow": {
     "slide_type": "subslide"
    }
   },
   "source": [
    "#### Aim:\n",
    "Create a script to calculate Farenheit degrees based on Celsius, using the user input."
   ]
  },
  {
   "cell_type": "markdown",
   "metadata": {
    "slideshow": {
     "slide_type": "subslide"
    }
   },
   "source": [
    "### Steps\n",
    "1. In a file called `conversion.py` store the Temperature class\n"
   ]
  },
  {
   "cell_type": "markdown",
   "metadata": {
    "slideshow": {
     "slide_type": "subslide"
    }
   },
   "source": [
    "2. Add the collection of the user's input, using the `input` function"
   ]
  },
  {
   "cell_type": "markdown",
   "metadata": {
    "slideshow": {
     "slide_type": "subslide"
    }
   },
   "source": [
    "3. Add printing the output of the conversion in Farenheit"
   ]
  },
  {
   "cell_type": "markdown",
   "metadata": {
    "slideshow": {
     "slide_type": "subslide"
    }
   },
   "source": [
    "4. Save the file and execute by:\n",
    "```bash\n",
    "python3 conversion.py\n",
    "```"
   ]
  },
  {
   "cell_type": "markdown",
   "metadata": {},
   "source": [
    "# Extended problem\n",
    "<center>\n",
    "<img src=\"https://files.realpython.com/media/Object-Oriented-Programming-OOP-in-Python-3_Watermarked.0d29780806d5.jpg\"  width=\"820\" height=\"700\" align=\"center\"/>\n",
    "</center>"
   ]
  },
  {
   "cell_type": "markdown",
   "metadata": {
    "slideshow": {
     "slide_type": "slide"
    }
   },
   "source": [
    "Your assignment is to modify the script so that the user can input values in **ANY** unit (Kelvin, Celsius, and Farenheit), and the output should be all the rest. For example if the user gives you Celsius, you output the values in Farenheit and Kelvin. **Bonus:** The output should be print from the string representation of the class"
   ]
  }
 ],
 "metadata": {
  "celltoolbar": "Slideshow",
  "comet_paths": [],
  "comet_tracking": true,
  "kernelspec": {
   "display_name": "Python 3",
   "language": "python",
   "name": "python3"
  },
  "language_info": {
   "codemirror_mode": {
    "name": "ipython",
    "version": 3
   },
   "file_extension": ".py",
   "mimetype": "text/x-python",
   "name": "python",
   "nbconvert_exporter": "python",
   "pygments_lexer": "ipython3",
   "version": "3.7.5"
  },
  "rise": {
   "footer": "<img src='SHRCPP.png' alt='SHARCNET logo'>"
  }
 },
 "nbformat": 4,
 "nbformat_minor": 2
}
