{
 "cells": [
  {
   "cell_type": "markdown",
   "metadata": {
    "comet_cell_id": "3ca8714bc81d7",
    "slideshow": {
     "slide_type": "slide"
    }
   },
   "source": [
    "# Object Oriented Programming: Python's Take\n",
    "\n",
    "OOP is a programming paradigm to structure programs so that properties and behaviors are bundled into individual objects."
   ]
  },
  {
   "cell_type": "code",
   "execution_count": null,
   "metadata": {
    "comet_cell_id": "5ecc925e7f0b2",
    "slideshow": {
     "slide_type": "fragment"
    }
   },
   "outputs": [],
   "source": [
    "x = 'A string is an object'\n",
    "dir(x)\n",
    "..."
   ]
  },
  {
   "cell_type": "markdown",
   "metadata": {
    "comet_cell_id": "11655c68f6ee8",
    "slideshow": {
     "slide_type": "slide"
    }
   },
   "source": [
    "## Class\n",
    "Think of objects as container packages with information and actions to take on the information. Most objects in python are organized in classes and contain:\n",
    "1. Attributes\n",
    "2. Properties\n",
    "3. Methods"
   ]
  },
  {
   "cell_type": "code",
   "execution_count": null,
   "metadata": {
    "comet_cell_id": "8898aa2ed49ec",
    "slideshow": {
     "slide_type": "subslide"
    }
   },
   "outputs": [],
   "source": [
    "class aclass(object):\n",
    "    def __init__(self, num1, num2):\n",
    "        self.a = num1\n",
    "        self.b = num2\n",
    "\n",
    "instance = aclass(10, 100)\n",
    "print(instance)"
   ]
  },
  {
   "cell_type": "markdown",
   "metadata": {
    "comet_cell_id": "c83a1d5c04a6c",
    "slideshow": {
     "slide_type": "slide"
    }
   },
   "source": [
    "## Attributes\n",
    "\n",
    "Attributes are data variables within an object. In our example `a` and `b` are attributes of `aclass`:"
   ]
  },
  {
   "cell_type": "code",
   "execution_count": null,
   "metadata": {
    "comet_cell_id": "f4ee01eb554b3",
    "slideshow": {
     "slide_type": "subslide"
    }
   },
   "outputs": [],
   "source": [
    "instance.a\n",
    "..."
   ]
  },
  {
   "cell_type": "markdown",
   "metadata": {
    "comet_cell_id": "db8c6f061ad48",
    "slideshow": {
     "slide_type": "slide"
    }
   },
   "source": [
    "## Properties\n",
    "When an attribute triggers a function to set, get or delete, is called a property:"
   ]
  },
  {
   "cell_type": "code",
   "execution_count": null,
   "metadata": {
    "comet_cell_id": "bf33d6c3c6f27"
   },
   "outputs": [],
   "source": [
    "class aclass(object):\n",
    "    def __init__(self, num1, num2):\n",
    "        self.a = num1\n",
    "        self.b = num2\n",
    "        self.z= None\n",
    "        \n",
    "    @property\n",
    "    def z(self):\n",
    "        return self.__z\n",
    "    \n",
    "    @z.setter\n",
    "    def z(self, num):\n",
    "        self.__z = self.a ** (self.b * num)\n",
    "    \n",
    "        "
   ]
  },
  {
   "cell_type": "code",
   "execution_count": null,
   "metadata": {
    "comet_cell_id": "0502aa37b2b48",
    "slideshow": {
     "slide_type": "subslide"
    }
   },
   "outputs": [],
   "source": [
    "class aclass(object):\n",
    "    def __init__(self, num1, num2):\n",
    "        self.a = num1\n",
    "        self.b = num2\n",
    "        \n",
    "    def amethod(self, num3):\n",
    "        return self.a * num3\n",
    "    \n",
    "    def bmethod(self, num4):\n",
    "        return self.b / num4\n",
    "        "
   ]
  }
 ],
 "metadata": {
  "celltoolbar": "Slideshow",
  "comet_paths": [],
  "comet_tracking": true,
  "kernelspec": {
   "display_name": "Python 3",
   "language": "python",
   "name": "python3"
  },
  "language_info": {
   "codemirror_mode": {
    "name": "ipython",
    "version": 3
   },
   "file_extension": ".py",
   "mimetype": "text/x-python",
   "name": "python",
   "nbconvert_exporter": "python",
   "pygments_lexer": "ipython3",
   "version": "3.7.5"
  },
  "rise": {
   "footer": "<img src='SHRCPP.png' alt='SHARCNET logo'>"
  }
 },
 "nbformat": 4,
 "nbformat_minor": 2
}
